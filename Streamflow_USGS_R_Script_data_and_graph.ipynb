{
 "cells": [
  {
   "cell_type": "markdown",
   "metadata": {},
   "source": [
    "# ---------------------------------------------------------------------------------------------------------------\n",
    "#\n",
    "#         R Script to Download and Graph USGS Streamflow data from the Upper Columbia\n",
    "#            Author: Ryan Niemeyer, Watershed Program Manager at the Upper Columbia Salmon Recovery Board\n",
    "#            Date: Fall 2020\n",
    "#\n",
    "# ---------------------------------------------------------------------------------------------------------------"
   ]
  },
  {
   "cell_type": "code",
   "execution_count": null,
   "metadata": {},
   "outputs": [],
   "source": []
  },
  {
   "cell_type": "code",
   "execution_count": 274,
   "metadata": {},
   "outputs": [],
   "source": [
    "# ------------------ Year to Plot ------------------\n",
    "year_to_plot = 2019\n",
    "# --------------- Pathway to Output Figure --------------\n",
    "path_output = 'Y:/Ryan/Misc/Annual_Report/2019/usgs_streamflow_graph_2.pdf'"
   ]
  },
  {
   "cell_type": "code",
   "execution_count": 275,
   "metadata": {},
   "outputs": [],
   "source": [
    "library(data.table)\n",
    "#library(EGRET)"
   ]
  },
  {
   "cell_type": "markdown",
   "metadata": {},
   "source": [
    "# ---------------------------------------------------------------------------------------------------\n",
    "#         Establish Which Sites\n",
    "# ---------------------------------------------------------------------------------------------------\n"
   ]
  },
  {
   "cell_type": "code",
   "execution_count": 297,
   "metadata": {},
   "outputs": [],
   "source": [
    "USGS_site = 'P:/GIS/Water/rivers/USGS_stream_gauge_sites.csv'\n",
    "USGS_sites = read.csv(USGS_site, header=T)\n",
    "USGS_sites$area_catchment_sq_miles = as.numeric(as.character(USGS_sites$area_catchment_sq_miles))"
   ]
  },
  {
   "cell_type": "code",
   "execution_count": 279,
   "metadata": {},
   "outputs": [
    {
     "data": {
      "text/html": [
       "<table>\n",
       "<caption>A data.frame: 6 × 5</caption>\n",
       "<thead>\n",
       "\t<tr><th></th><th scope=col>USGS_site_no</th><th scope=col>Site_name</th><th scope=col>City</th><th scope=col>subbasin</th><th scope=col>area_catchment_sq_miles</th></tr>\n",
       "\t<tr><th></th><th scope=col>&lt;int&gt;</th><th scope=col>&lt;chr&gt;</th><th scope=col>&lt;chr&gt;</th><th scope=col>&lt;chr&gt;</th><th scope=col>&lt;dbl&gt;</th></tr>\n",
       "</thead>\n",
       "<tbody>\n",
       "\t<tr><th scope=row>1</th><td>12447200</td><td>OKANOGAN RIVER AT MALOTT, WA                  </td><td>Malott   </td><td>Okanogan</td><td>8080</td></tr>\n",
       "\t<tr><th scope=row>2</th><td>12446995</td><td>SALMON CREEK ABOVE DIVERSION NEAR OKANOGAN, WA</td><td>Okanogan </td><td>Okanogan</td><td> 148</td></tr>\n",
       "\t<tr><th scope=row>3</th><td>12449950</td><td>METHOW RIVER NEAR PATEROS, WA                 </td><td>Pateros  </td><td>Methow  </td><td>1772</td></tr>\n",
       "\t<tr><th scope=row>4</th><td>12448998</td><td>TWISP RIVER NEAR TWISP, WA                    </td><td>Twisp    </td><td>Methow  </td><td> 245</td></tr>\n",
       "\t<tr><th scope=row>5</th><td>12452990</td><td>ENTIAT RIVER NEAR ENTIAT, WA                  </td><td>Entiat   </td><td>Entiat  </td><td> 419</td></tr>\n",
       "\t<tr><th scope=row>6</th><td>12452890</td><td>MAD RIVER AT ARDENVOIR, WA                    </td><td>Ardenvoir</td><td>Entiat  </td><td>  92</td></tr>\n",
       "</tbody>\n",
       "</table>\n"
      ],
      "text/latex": [
       "A data.frame: 6 × 5\n",
       "\\begin{tabular}{r|lllll}\n",
       "  & USGS\\_site\\_no & Site\\_name & City & subbasin & area\\_catchment\\_sq\\_miles\\\\\n",
       "  & <int> & <chr> & <chr> & <chr> & <dbl>\\\\\n",
       "\\hline\n",
       "\t1 & 12447200 & OKANOGAN RIVER AT MALOTT, WA                   & Malott    & Okanogan & 8080\\\\\n",
       "\t2 & 12446995 & SALMON CREEK ABOVE DIVERSION NEAR OKANOGAN, WA & Okanogan  & Okanogan &  148\\\\\n",
       "\t3 & 12449950 & METHOW RIVER NEAR PATEROS, WA                  & Pateros   & Methow   & 1772\\\\\n",
       "\t4 & 12448998 & TWISP RIVER NEAR TWISP, WA                     & Twisp     & Methow   &  245\\\\\n",
       "\t5 & 12452990 & ENTIAT RIVER NEAR ENTIAT, WA                   & Entiat    & Entiat   &  419\\\\\n",
       "\t6 & 12452890 & MAD RIVER AT ARDENVOIR, WA                     & Ardenvoir & Entiat   &   92\\\\\n",
       "\\end{tabular}\n"
      ],
      "text/markdown": [
       "\n",
       "A data.frame: 6 × 5\n",
       "\n",
       "| <!--/--> | USGS_site_no &lt;int&gt; | Site_name &lt;chr&gt; | City &lt;chr&gt; | subbasin &lt;chr&gt; | area_catchment_sq_miles &lt;dbl&gt; |\n",
       "|---|---|---|---|---|---|\n",
       "| 1 | 12447200 | OKANOGAN RIVER AT MALOTT, WA                   | Malott    | Okanogan | 8080 |\n",
       "| 2 | 12446995 | SALMON CREEK ABOVE DIVERSION NEAR OKANOGAN, WA | Okanogan  | Okanogan |  148 |\n",
       "| 3 | 12449950 | METHOW RIVER NEAR PATEROS, WA                  | Pateros   | Methow   | 1772 |\n",
       "| 4 | 12448998 | TWISP RIVER NEAR TWISP, WA                     | Twisp     | Methow   |  245 |\n",
       "| 5 | 12452990 | ENTIAT RIVER NEAR ENTIAT, WA                   | Entiat    | Entiat   |  419 |\n",
       "| 6 | 12452890 | MAD RIVER AT ARDENVOIR, WA                     | Ardenvoir | Entiat   |   92 |\n",
       "\n"
      ],
      "text/plain": [
       "  USGS_site_no Site_name                                      City     \n",
       "1 12447200     OKANOGAN RIVER AT MALOTT, WA                   Malott   \n",
       "2 12446995     SALMON CREEK ABOVE DIVERSION NEAR OKANOGAN, WA Okanogan \n",
       "3 12449950     METHOW RIVER NEAR PATEROS, WA                  Pateros  \n",
       "4 12448998     TWISP RIVER NEAR TWISP, WA                     Twisp    \n",
       "5 12452990     ENTIAT RIVER NEAR ENTIAT, WA                   Entiat   \n",
       "6 12452890     MAD RIVER AT ARDENVOIR, WA                     Ardenvoir\n",
       "  subbasin area_catchment_sq_miles\n",
       "1 Okanogan 8080                   \n",
       "2 Okanogan  148                   \n",
       "3 Methow   1772                   \n",
       "4 Methow    245                   \n",
       "5 Entiat    419                   \n",
       "6 Entiat     92                   "
      ]
     },
     "metadata": {},
     "output_type": "display_data"
    }
   ],
   "source": [
    "head(USGS_sites)"
   ]
  },
  {
   "cell_type": "markdown",
   "metadata": {},
   "source": [
    "# ----------------------------------------------------------------------------------\n",
    "#         Functions\n",
    "# ----------------------------------------------------------------------------------"
   ]
  },
  {
   "cell_type": "code",
   "execution_count": 46,
   "metadata": {},
   "outputs": [],
   "source": [
    "\n",
    "# ---------------------------------------------------------------------------------------------------\n",
    "#          Download USGS data \n",
    "# ---------------------------------------------------------------------------------------------------\n",
    "\n",
    "FXN_download_streamflow_output_daily_flow = function(site_x, area_catchment_sq_miles, start_date_x, end_date_x, use_provisional){\n",
    "  \n",
    "  # ------------ set up conversions ----------\n",
    "  ft3_to_mm3 = 2.832e+7\n",
    "  sec_to_day = 86400\n",
    "  mi2_to_ft2 = 27878400\n",
    "  mi2_to_mm2 = 2589988110000\n",
    "  \n",
    "  # --------- re-calculate area -------\n",
    "  area_catchment_sq_ft = area_catchment_sq_miles * mi2_to_ft2  # convert square miles to square feet\n",
    "  area_catchment_sq_mm = area_catchment_sq_miles * mi2_to_mm2  # convert square miles to square mm\n",
    "  \n",
    "  # ---------- Update path ----------\n",
    "  path_origx = 'https://waterdata.usgs.gov/nwis/dv?cb_00010=on&cb_00060=on&cb_80154=on&cb_80155=on&format=rdb&site_no=SITE_NUMBER&referred_module=sw&period=&begin_date=START_DATE&end_date=END_DATE'\n",
    "  path_updated_x = gsub('SITE_NUMBER', site_x, path_origx)\n",
    "  path_updated_x = gsub('START_DATE', start_date_x, path_updated_x)\n",
    "  path_updated_x = gsub('END_DATE', end_date_x, path_updated_x)\n",
    "  \n",
    "  # ------------ Download Data ----------\n",
    "  datax = fread(path_updated_x)\n",
    "  datax = as.data.frame(datax)\n",
    "  datax = datax[c(3:nrow(datax)),]  # remove the first two rows that aren't data\n",
    "  \n",
    "  # ----- use provisional or not --------\n",
    "  if(use_provisional == TRUE){\n",
    "    datax2 = datax[,c(3:4)]\n",
    "  }else{\n",
    "    x = which(datax[,5]=='A')  # A is that means it's been processed, P means it is provisonal\n",
    "    datax2 = datax[x,c(3:4)]\n",
    "  }\n",
    "  \n",
    "  # ----- assign names and calculate with updated units -----------\n",
    "  colnames(datax2) = c('datetime','discharge_ft3_sec') # set column mames\n",
    "  datax2$discharge_ft3_sec = as.numeric(as.character(datax2$discharge_ft3_sec))   # set as numeric\n",
    "  datax2$discharge_mm_day =  datax2$discharge_ft3_sec*sec_to_day*ft3_to_mm3/area_catchment_sq_mm    # convert to mm per day flow\n",
    "\n",
    "  # ------- set date time ------\n",
    "  datax2$datetime2 = as.POSIXct(datax2$datetime, format = \"%Y-%m-%d\", tz='UTC')\n",
    "  datax2$wtr_yr = wtr_yr(datax2$datetime2, start_month = 10)\n",
    "  \n",
    "  # ---------- output data --------------\n",
    "  return(datax2)\n",
    "}\n",
    "\n"
   ]
  },
  {
   "cell_type": "code",
   "execution_count": 47,
   "metadata": {},
   "outputs": [],
   "source": [
    "\n",
    "# ---------------- water year function ----------\n",
    "wtr_yr <- function(dates, start_month=10) {\n",
    "  # Convert dates into POSIXlt\n",
    "  dates.posix = as.POSIXlt(dates)\n",
    "  # Year offset\n",
    "  offset = ifelse(dates.posix$mon >= start_month - 1, 1, 0)\n",
    "  # Water year\n",
    "  adj.year = dates.posix$year + 1900 + offset\n",
    "  # Return the water year\n",
    "  adj.year\n",
    "}"
   ]
  },
  {
   "cell_type": "code",
   "execution_count": 261,
   "metadata": {},
   "outputs": [],
   "source": [
    "\n",
    "# -------------------------- FUNCTION to calculate median flow ------------------------\n",
    "\n",
    "median_flow_function = function(metric_vector, date_vector, year_for_days){\n",
    "    \n",
    "    # --------------------- get day of year ---------------\n",
    "    day_of_year =  format(date_vector, format=\"%j\")\n",
    "    \n",
    "    # ----------------------- get median for that day of year -------------\n",
    "    data_x = as.data.frame(cbind(day_of_year, metric_vector))\n",
    "    data_x$metric_vector = as.numeric(data_x$metric_vector)\n",
    "    median_x = aggregate(data_x$metric_vector, list(data_x$day_of_year), FUN=median, na.rm=TRUE, na.action = NULL)\n",
    "    colnames(median_x) = c('day_of_year', 'metric')\n",
    "    \n",
    "    # -------------------- remove day 366 (from leap year) ------------\n",
    "    median_x = median_x[1:365,]\n",
    "    \n",
    "    # ------------- add day of hydrologic year --------------\n",
    "    median_x$day_of_hydro_year = median_x$day_of_year\n",
    "    \n",
    "    # ---------- days after Oct. 1 -------------\n",
    "    days_previous_calendar_year = which(median_x$day_of_year > 274)\n",
    "    median_x$day_of_hydro_year[days_previous_calendar_year] = paste(median_x$day_of_hydro_year[days_previous_calendar_year],\n",
    "                                                                    year_for_days - 1, sep=\"-\")\n",
    "    \n",
    "    # ---------- days before Oct. 1 -------------\n",
    "    days_during_calendar_year = which(median_x$day_of_year <= 274)\n",
    "    median_x$day_of_hydro_year[days_during_calendar_year] = paste(median_x$day_of_hydro_year[days_during_calendar_year],\n",
    "                                                                    year_for_days, sep=\"-\")\n",
    "    # --------------- get date time -------------\n",
    "    median_x$day_of_hydro_year =  as.POSIXct(median_x$day_of_hydro_year, format=\"%j-%Y\",tz=\"America/Los_Angeles\")\n",
    "    \n",
    "    # ----------------- return the data ------------------\n",
    "    return(median_x)\n",
    "    \n",
    "}\n"
   ]
  },
  {
   "cell_type": "code",
   "execution_count": 60,
   "metadata": {},
   "outputs": [],
   "source": [
    "movingAverage <- function(x, n=1, centered=FALSE) {\n",
    "    \n",
    "    if (centered) {\n",
    "        before <- floor  ((n-1)/2)\n",
    "        after  <- ceiling((n-1)/2)\n",
    "    } else {\n",
    "        before <- n-1\n",
    "        after  <- 0\n",
    "    }\n",
    "\n",
    "    # Track the sum and count of number of non-NA items\n",
    "    s     <- rep(0, length(x))\n",
    "    count <- rep(0, length(x))\n",
    "    \n",
    "    # Add the centered data \n",
    "    new <- x\n",
    "    # Add to count list wherever there isn't a \n",
    "    count <- count + !is.na(new)\n",
    "    # Now replace NA_s with 0_s and add to total\n",
    "    new[is.na(new)] <- 0\n",
    "    s <- s + new\n",
    "    \n",
    "    # Add the data from before\n",
    "    i <- 1\n",
    "    while (i <= before) {\n",
    "        # This is the vector with offset values to add\n",
    "        new   <- c(rep(NA, i), x[1:(length(x)-i)])\n",
    "\n",
    "        count <- count + !is.na(new)\n",
    "        new[is.na(new)] <- 0\n",
    "        s <- s + new\n",
    "        \n",
    "        i <- i+1\n",
    "    }\n",
    "\n",
    "    # Add the data from after\n",
    "    i <- 1\n",
    "    while (i <= after) {\n",
    "        # This is the vector with offset values to add\n",
    "        new   <- c(x[(i+1):length(x)], rep(NA, i))\n",
    "       \n",
    "        count <- count + !is.na(new)\n",
    "        new[is.na(new)] <- 0\n",
    "        s <- s + new\n",
    "        \n",
    "        i <- i+1\n",
    "    }\n",
    "    \n",
    "    # return sum divided by count\n",
    "    s/count\n",
    "}\n"
   ]
  },
  {
   "cell_type": "code",
   "execution_count": 203,
   "metadata": {},
   "outputs": [],
   "source": [
    "# ------------ JUST for testing (need to read in data below) ---------\n",
    "run_test = TRUE\n",
    "\n",
    "if(run_test){\n",
    "    i = 1\n",
    "    site_x = USGS_sites$USGS_site_no[i]\n",
    "\n",
    "    # ------------------------ generate the median snotel -------------------\n",
    "    streamflow_data_x = as.numeric(as.character(all_USGS_data[[site_x]]$'discharge_ft3_sec' ))\n",
    "    date_vector = all_USGS_data[[as.numeric(USGS_sites$USGS_site_no[i])]]$'datetime'\n",
    "    streamflow_basin_area_x = as.numeric(as.character(all_USGS_data[[site_x]]$'discharge_mm_day' ))\n",
    "    date_vector_datetime2 = as.POSIXct(date_vector, format=\"%Y-%m-%d\")\n",
    "    date_data_calendar_yr = format(date_vector_datetime2, '%Y')\n",
    "}\n"
   ]
  },
  {
   "cell_type": "code",
   "execution_count": 250,
   "metadata": {},
   "outputs": [],
   "source": [
    "\n",
    "# ------------------ FUNCTION to calculate flow statistics ----------------------\n",
    "\n",
    "\n",
    "USGS_flow_statistics = function(streamflow_data_x, streamflow_basin_area_x, date_vector, year_to_plot){\n",
    "    \n",
    "    # ----- convert mm to inches -----\n",
    "    mm_to_inches = 0.03937008\n",
    "    \n",
    "    # -------- convert to date time --------\n",
    "    date_vector_datetime2 = as.POSIXct(date_vector, format=\"%Y-%m-%d\")\n",
    "    \n",
    "    # ----------- water year -----------\n",
    "    date_data_wtr_yr = wtr_yr(date_vector_datetime2)\n",
    "    \n",
    "    # -------- calendar year -------\n",
    "    date_data_calendar_yr = format(date_vector_datetime2, '%Y')\n",
    "       \n",
    "    # ---------------------------------------------------------------------------------\n",
    "    #        Annual peakflow statistics          \n",
    "    # ---------------------------------------------------------------------------------\n",
    "\n",
    "    # ----------------- calculate annual peak 7-day average flow -----------------\n",
    "    seven_day_average  = movingAverage(streamflow_data_x, n=7)                   # calculate 7-day average flow (ft3 per sec)\n",
    "    annual_max = aggregate(seven_day_average, list(date_data_wtr_yr), max, na.rm=TRUE)       # get max 7-day average flow\n",
    "    annual_max_year = round( annual_max[which(annual_max[ ,1] == year_to_plot),2], 2)   # peak flow for the \"year to plot\"\n",
    "    mean_annual_max = mean(annual_max[,2], na.rm=T)                   # mean peak flow across all years\n",
    "    prcnt_annual_max_year = round((annual_max_year/mean_annual_max) * 100, 2)  # percent difference in year to plot from mean year\n",
    "    delta_annual_max_year = round((annual_max_year - mean_annual_max), 2)    # the absolute difference between year to plot and average\n",
    "    \n",
    "    # -------------- day of annual peakflow ---------------\n",
    "    day_of_annual_max = c()\n",
    "    unique_years = unique(date_data_wtr_yr)\n",
    "    for(i in 1:length(unique_years)){\n",
    "\n",
    "        # ----------------- get peak flow for this year -----------------\n",
    "        year_x = unique_years[i]\n",
    "        x = which(date_data_wtr_yr == unique_years[i])\n",
    "        # ----- get data for that year -----\n",
    "        annual_flow = seven_day_average[x]\n",
    "        # -------------- calculate calendar day of peak -----------\n",
    "        day_of_peak = which(annual_flow == annual_max[i,2])\n",
    "        day_of_peak = day_of_peak[1] - 92 # get calendary year day, from water year day\n",
    "        # ------------------ calculate month and day ---------\n",
    "        day_of_peak_2 = paste(day_of_peak,  year_x, sep=\"-\")\n",
    "        day_of_peak_2 = as.Date(day_of_peak_2, format='%j-%Y')\n",
    "        day_of_peak_2 = format(day_of_peak_2, \"%d-%b\") # output as day and month\n",
    "        # ------------- output data --------\n",
    "        output_row = c(unique_years[i], day_of_peak[1], day_of_peak_2[1])\n",
    "        day_of_annual_max = rbind(day_of_annual_max, output_row)\n",
    "    }\n",
    "    \n",
    "    # ------------------------- calculate for this year -----------\n",
    "    peakflow_day = as.numeric(day_of_annual_max[which(day_of_annual_max[ ,1] == year_to_plot),2])\n",
    "    mean_peakflow_ALL = round(  ( mean(as.numeric(day_of_annual_max[,2]), na.rm=T) ), 2)\n",
    "    delta_peakflow_day = round(peakflow_day - mean_peakflow_ALL, 2) # days difference from average\n",
    "    \n",
    "    # ---------------------------------------------------------------------------------\n",
    "    #        Annual lowflow statistics          \n",
    "    # ---------------------------------------------------------------------------------\n",
    "\n",
    "    # ----------------- calculate annual peak snow statistics -----------------\n",
    "    annual_min = aggregate(seven_day_average, list(date_data_wtr_yr), min, na.rm=TRUE)   # get annual 7-day min each year (ft3 per sec)\n",
    "    annual_min_year = round( annual_min[which(annual_min[ ,1] == year_to_plot),2], 2)   # annual 7-day min for the year to plot\n",
    "    mean_annual_min = mean(annual_min[,2], na.rm=T)      # mean annual min 7-day flow across all years\n",
    "    prcnt_annual_min_year = round((annual_min_year/mean_annual_min) * 100, 2)    # percent difference in year to plot from mean year\n",
    "    delta_annual_min_year = round((annual_min_year - mean_annual_min), 2)    # the absolute difference between year to plot and average\n",
    "    \n",
    "    # -------------- day of annual low flow---------------\n",
    "    day_of_annual_min = c()\n",
    "    unique_years = unique(date_data_wtr_yr)\n",
    "    for(i in 1:length(unique_years)){\n",
    "\n",
    "        # ----------------- get low flow this year -----------------\n",
    "        year_x = unique_years[i]\n",
    "        x = which(date_data_wtr_yr == unique_years[i])\n",
    "        # ----- get data for that year -----\n",
    "        annual_flow = seven_day_average[x]\n",
    "        # -------------- calculate calendar day of low flow -----------\n",
    "        day_of_low = which(annual_flow == annual_min[i,2])\n",
    "        day_of_low = day_of_low[1] - 92 # get calendary year day, from water year day\n",
    "        # ------------------ calculate month and day ---------\n",
    "        day_of_low_2 = paste(day_of_low,  year_x, sep=\"-\")\n",
    "        day_of_low_2 = as.Date(day_of_low_2, format='%j-%Y')\n",
    "        day_of_low_2 = format(day_of_low_2, \"%d-%b\") # output as day and month\n",
    "        # ------------- output data --------\n",
    "        output_row = c(unique_years[i], day_of_low[1], day_of_low_2[1])\n",
    "        day_of_annual_min = rbind(day_of_annual_min, output_row)\n",
    "    }\n",
    "    \n",
    "    # ------------------------- calculate for this year -----------\n",
    "    lowflow_day = as.numeric(day_of_annual_min[which(day_of_annual_min[ ,1] == year_to_plot),2])\n",
    "    mean_lowflow_ALL = round(  ( mean(as.numeric(day_of_annual_min[,2]), na.rm=T) ), 2)\n",
    "    delta_lowflow_day = round(lowflow_day - mean_lowflow_ALL, 2) # days difference from average\n",
    "    \n",
    "    # ---------------------------------------------------------------------------------\n",
    "    #           Calculate center of mass of flow\n",
    "    # ---------------------------------------------------------------------------------\n",
    "\n",
    "    # ----------------- calculate annual melt out day statistics -----------------\n",
    "    date_data_wtr_yr = wtr_yr(date_vector)\n",
    "    unique_years = unique(date_data_wtr_yr)\n",
    "    flow_center_of_mass = c()\n",
    "    for(i in 1:length(unique_years)){\n",
    "\n",
    "        # ----------------- get snow this year -----------------\n",
    "        x = which(date_data_wtr_yr == unique_years[i])\n",
    "        annual_streamflow = streamflow_data_x[x]\n",
    "        annual_dates = date_vector[x]\n",
    "\n",
    "        # ------------- cumulative streamflow -----------\n",
    "        annual_cumulative_streamflow = cumsum(annual_streamflow)\n",
    "\n",
    "        # ------------- calculate melt out year ----------------\n",
    "        annual_cumulative_streamflow_CENTER = max(annual_cumulative_streamflow)/2\n",
    "        location_center_of_mass = which.min(abs(annual_cumulative_streamflow - annual_cumulative_streamflow_CENTER))\n",
    "        date_center_of_mass = annual_dates[location_center_of_mass]\n",
    "        flow_center_of_mass = rbind(flow_center_of_mass, date_center_of_mass)\n",
    "    }\n",
    "\n",
    "    # ------------------------- calculate for this year -----------\n",
    "    flow_center_of_mass = as.data.frame(flow_center_of_mass)   # convert to data frame\n",
    "    flow_center_of_mass$datetime2 = as.POSIXct(flow_center_of_mass[,1], format=\"%Y-%m-%d\")   # date formatting\n",
    "    flow_center_of_mass$year = format(flow_center_of_mass$datetime2, '%Y')         # generate year column\n",
    "    flow_center_of_mass$day_of_year = format(flow_center_of_mass$datetime2, '%j')  # generate calendar day column\n",
    "    flow_center_day = as.numeric(flow_center_of_mass$day_of_year[which(flow_center_of_mass$year == year_to_plot)])[1]   # flow center day for the year of interest\n",
    "    flow_center_day_ALL = round( (mean(as.numeric(flow_center_of_mass$day_of_year), na.rm=T)),  2)   # mean flow center day for all years\n",
    "    delta_flow_center_day = round(flow_center_day - flow_center_day_ALL, 2)     # days difference from average\n",
    "\n",
    "    # ---------------------------------------------------------------------------------\n",
    "    #           Calculate total annual discharge\n",
    "    # ---------------------------------------------------------------------------------\n",
    "\n",
    "    annual_total = aggregate(streamflow_basin_area_x, list(date_data_wtr_yr), sum, na.rm=TRUE) # total flwo for all years (in mm)\n",
    "    annual_total_year = round( annual_total[which(annual_total[ ,1] == year_to_plot),2], 2)   # total annual flow in year of interest\n",
    "    mean_annual_total = mean(annual_total[,2], na.rm=T)    # mean of total annual flow\n",
    "    prcnt_annual_total_year = round((annual_total_year/mean_annual_total) * 100, 2)   #  percent departure from average/normal\n",
    "    delta_annual_total_year = round((annual_total_year - mean_annual_total), 2)   # absolute departure from normal/difference\n",
    "    \n",
    "    # ----- calculate to inches ------\n",
    "    annual_total_year_inches = annual_total_year * mm_to_inches  \n",
    "    mean_annual_total_inches = mean_annual_total * mm_to_inches\n",
    "    delta_annual_total_year_inches = delta_annual_total_year * mm_to_inches\n",
    "    \n",
    "    # ---------------------------------------------------------------------------------\n",
    "    #           Calculate monthly statistics (esp Aug and Sept)\n",
    "    # ---------------------------------------------------------------------------------\n",
    "\n",
    "    monthly_data = aggregate(streamflow_data_x, list(format(date_vector_datetime2, '%m')), mean, na.rm=TRUE)\n",
    "    unique_years = unique(date_data_calendar_yr)\n",
    "    # -------------- day of annual low flow---------------\n",
    "    monthly_flow_df = c()\n",
    "    for(i in 1:length(unique_years)){\n",
    "\n",
    "        # ----------------- get data for this year -----------------\n",
    "        year_x = unique_years[i]\n",
    "        x = which(date_data_calendar_yr == unique_years[i])\n",
    "        annual_flow = streamflow_data_x[x]\n",
    "\n",
    "        # -------------- calculate monthly means -----------\n",
    "        monthly_flow_x_i = aggregate(annual_flow, list(format(date_vector_datetime2[x], '%m')), mean, na.rm=TRUE)\n",
    "        monthly_flow_x = round(monthly_flow_x_i[,2], 1)\n",
    "\n",
    "        # ------------- output data --------\n",
    "        if(nrow(monthly_flow_x_i)<12){next}\n",
    "        output_row = c(unique_years[i], monthly_flow_x)\n",
    "        monthly_flow_df = rbind(monthly_flow_df, output_row)\n",
    "    }\n",
    "    \n",
    "    # ------------------------- calculate means_for_each_month-----------\n",
    "    monthly_flow_df = as.data.frame(monthly_flow_df)\n",
    "    i = seq(1:13)\n",
    "    monthly_flow_df[ , i] = apply(monthly_flow_df[ , i], 2,function(x) as.numeric(as.character(x))) # convert all to numeric\n",
    "    monthly_flow_df_MEANS = colMeans(monthly_flow_df)  # calculate mmean onthly flow\n",
    "\n",
    "    # ---------- get this month -----------\n",
    "    monthly_flow_year_to_plot = monthly_flow_df[which(monthly_flow_df[,1] == year_to_plot),2:13] # monthly flows for year of interest\n",
    "    delta_monthly_flow_year = round(monthly_flow_year_to_plot - monthly_flow_df_MEANS[2:13] , 2) # days difference from average\n",
    "    delta_monthly_flow_year_PRCNT = round((monthly_flow_year_to_plot/monthly_flow_df_MEANS[2:13])*100, 2)\n",
    "                                  \n",
    "    # ---------------------------------------------------------------------------------\n",
    "    #      Output         \n",
    "    # ---------------------------------------------------------------------------------\n",
    "    output_x = as.data.frame(c(annual_max_year, mean_annual_max, prcnt_annual_max_year, delta_annual_max_year,  # peak flow statistics\n",
    "                                 peakflow_day, mean_peakflow_ALL, delta_peakflow_day,                            # peak flow day statistics\n",
    "                                 annual_min_year, mean_annual_min, prcnt_annual_min_year, delta_annual_min_year,  # low flow statistics\n",
    "                                 lowflow_day, mean_lowflow_ALL, delta_lowflow_day,                            # low flow day statistics\n",
    "                                 flow_center_day, flow_center_day_ALL,  delta_flow_center_day,   # flow center day\n",
    "                                 annual_total_year_inches,  mean_annual_total_inches, prcnt_annual_total_year, delta_annual_total_year_inches ,   # total annual discharge statistics\n",
    "                                 monthly_flow_year_to_plot, monthly_flow_df_MEANS[2:13],  delta_monthly_flow_year_PRCNT, delta_monthly_flow_year       # monthly flows (EACH vector has 12 for each month)\n",
    "                ))\n",
    "                        \n",
    "    rownames(output_x) = 1 # give the row a simple name\n",
    "    colnames(output_x) = c('peakflow_7day_avg_year_of_interest_ft3_sec', 'average_7day_avg_peakflow_ft3_sec', 'PRCNT_peakflow_year_of_interest_ft3_sec', 'DELTA_peakflow_year_of_interest_ft3_sec',  # peak flow statistics\n",
    "                                 'peakflow_day_year_of_interest',  'average_peakflow_day_of_year',  'DELTA_peakflow_day_year_of_interest',                            # peak flow day statistics\n",
    "                                'lowflow_7day_avg_year_of_interest_ft3_sec', 'average_7day_avg_lowflow_ft3_sec', 'PRCNT_lowflow_year_of_interest_ft3_sec', 'DELTA_lowflow_year_of_interest_ft3_sec',  # low flow statistics\n",
    "                                 'lowflow_day_year_of_interest',  'average_lowflow_day_of_year',  'DELTA_lowflow_day_year_of_interest',                            # low flow day statistics\n",
    "                                 'flow_center_of_mass_day_year_of_interest', 'flow_center_of_mass_mean', 'DELTA_flow_center_of_mass_day_year_of_interest',    # flow center day\n",
    "                                 'annual_total_flow_year_of_interest_inches',  'mean_annual_total_flow_inches', 'PRCNT_annual_total_flow_year_of_interest_inches',   'DELTA_annual_total_flow_year_of_interest_inches',    # total annual discharge statistics\n",
    "                                'Jan_mean_flow_year_of_interest_ft3_sec', 'Feb_mean_flow_year_of_interest_ft3_sec', 'Mar_mean_flow_year_of_interest_ft3_sec', 'Apr_mean_flow_year_of_interest_ft3_sec', \n",
    "                           'May_mean_flow_year_of_interest_ft3_sec', 'Jun_mean_flow_year_of_interest_ft3_sec', 'Jul_mean_flow_year_of_interest_ft3_sec', 'Aug_mean_flow_year_of_interest_ft3_sec', \n",
    "                           'Sep_mean_flow_year_of_interest_ft3_sec', 'Oct_mean_flow_year_of_interest_ft3_sec', 'Nov_mean_flow_year_of_interest_ft3_sec', 'Dec_mean_flow_year_of_interest_ft3_sec',\n",
    "                            'Jan_mean_flow_all_years_ft3_sec', 'Feb_mean_flow_all_years_ft3_sec', 'Mar_mean_flow_all_years_ft3_sec', 'Apr_mean_flow_all_years_ft3_sec', \n",
    "                           'May_mean_flow_all_years_ft3_sec', 'Jun_mean_flow_all_years_ft3_sec', 'Jul_mean_flow_all_years_ft3_sec', 'Aug_mean_flow_all_years_ft3_sec', \n",
    "                           'Sep_mean_flow_all_years_ft3_sec', 'Oct_mean_flow_all_years_ft3_sec', 'Nov_mean_flow_all_years_ft3_sec', 'Dec_mean_flow_all_years_ft3_sec',\n",
    "                           'Jan_mean_PRCNT_flow_year_of_interest_ft3_sec', 'Feb_mean_PRCNT_flow_year_of_interest_ft3_sec', 'Mar_mean_PRCNT_flow_year_of_interest_ft3_sec', 'Apr_mean_PRCNT_flow_year_of_interest_ft3_sec', \n",
    "                           'May_mean_PRCNT_flow_year_of_interest_ft3_sec', 'Jun_mean_PRCNT_flow_year_of_interest_ft3_sec', 'Jul_mean_PRCNT_flow_year_of_interest_ft3_sec', 'Aug_mean_PRCNT_flow_year_of_interest_ft3_sec', \n",
    "                           'Sep_mean_PRCNT_flow_year_of_interest_ft3_sec', 'Oct_mean_PRCNT_flow_year_of_interest_ft3_sec', 'Nov_mean_PRCNT_flow_year_of_interest_ft3_sec', 'Dec_mean_PRCNT_flow_year_of_interest_ft3_sec',\n",
    "                            'Jan_mean_DELTA_flow_year_of_interest_ft3_sec', 'Feb_mean_DELTA_flow_year_of_interest_ft3_sec', 'Mar_mean_DELTA_flow_year_of_interest_ft3_sec', 'Apr_mean_DELTA_flow_year_of_interest_ft3_sec', \n",
    "                           'May_mean_DELTA_flow_year_of_interest_ft3_sec', 'Jun_mean_DELTA_flow_year_of_interest_ft3_sec', 'Jul_mean_DELTA_flow_year_of_interest_ft3_sec', 'Aug_mean_DELTA_flow_year_of_interest_ft3_sec', \n",
    "                           'Sep_mean_DELTA_flow_year_of_interest_ft3_sec', 'Oct_mean_DELTA_flow_year_of_interest_ft3_sec', 'Nov_mean_DELTA_flow_year_of_interest_ft3_sec', 'Dec_mean_DELTA_flow_year_of_interest_ft3_sec'\n",
    "\n",
    "                               # monthly flows (EACH vector has 12 for each month)\n",
    "                                 )\n",
    "    \n",
    "    #print(output_x)\n",
    "    return(output_x)\n",
    "    \n",
    "}\n",
    "   \n"
   ]
  },
  {
   "cell_type": "markdown",
   "metadata": {},
   "source": [
    "# ----------------------------------------------------------------------------------\n",
    "#         Read in Data\n",
    "# ----------------------------------------------------------------------------------"
   ]
  },
  {
   "cell_type": "code",
   "execution_count": 319,
   "metadata": {},
   "outputs": [
    {
     "name": "stdout",
     "output_type": "stream",
     "text": [
      "[1] \"starting download of....\"\n",
      "[1] 12447200\n"
     ]
    },
    {
     "name": "stderr",
     "output_type": "stream",
     "text": [
      "Warning message in fread(path_updated_x):\n",
      "\"Detected 1 column names but the data has 11 columns (i.e. invalid file). Added 10 extra default column names at the end.\"\n"
     ]
    },
    {
     "name": "stdout",
     "output_type": "stream",
     "text": [
      "[1] \"         DONE                 \"\n",
      "[1] \"       \"\n",
      "[1] \"starting download of....\"\n",
      "[1] 12445900\n"
     ]
    },
    {
     "name": "stderr",
     "output_type": "stream",
     "text": [
      "Warning message in fread(path_updated_x):\n",
      "\"Detected 1 column names but the data has 5 columns (i.e. invalid file). Added 4 extra default column names at the end.\"\n"
     ]
    },
    {
     "name": "stdout",
     "output_type": "stream",
     "text": [
      "[1] \"         DONE                 \"\n",
      "[1] \"       \"\n",
      "[1] \"starting download of....\"\n",
      "[1] 12449950\n"
     ]
    },
    {
     "name": "stderr",
     "output_type": "stream",
     "text": [
      "Warning message in fread(path_updated_x):\n",
      "\"Detected 1 column names but the data has 5 columns (i.e. invalid file). Added 4 extra default column names at the end.\"\n"
     ]
    },
    {
     "name": "stdout",
     "output_type": "stream",
     "text": [
      "[1] \"         DONE                 \"\n",
      "[1] \"       \"\n",
      "[1] \"starting download of....\"\n",
      "[1] 12448998\n"
     ]
    },
    {
     "name": "stderr",
     "output_type": "stream",
     "text": [
      "Warning message in fread(path_updated_x):\n",
      "\"Detected 1 column names but the data has 11 columns (i.e. invalid file). Added 10 extra default column names at the end.\"\n"
     ]
    },
    {
     "name": "stdout",
     "output_type": "stream",
     "text": [
      "[1] \"         DONE                 \"\n",
      "[1] \"       \"\n",
      "[1] \"starting download of....\"\n",
      "[1] 12452990\n"
     ]
    },
    {
     "name": "stderr",
     "output_type": "stream",
     "text": [
      "Warning message in fread(path_updated_x):\n",
      "\"Detected 1 column names but the data has 5 columns (i.e. invalid file). Added 4 extra default column names at the end.\"\n"
     ]
    },
    {
     "name": "stdout",
     "output_type": "stream",
     "text": [
      "[1] \"         DONE                 \"\n",
      "[1] \"       \"\n",
      "[1] \"starting download of....\"\n",
      "[1] 12452890\n"
     ]
    },
    {
     "name": "stderr",
     "output_type": "stream",
     "text": [
      "Warning message in fread(path_updated_x):\n",
      "\"Detected 1 column names but the data has 5 columns (i.e. invalid file). Added 4 extra default column names at the end.\"\n",
      "Warning message in FXN_download_streamflow_output_daily_flow(USGS_sites$USGS_site_no[i], :\n",
      "\"NAs introduced by coercion\"\n"
     ]
    },
    {
     "name": "stdout",
     "output_type": "stream",
     "text": [
      "[1] \"         DONE                 \"\n",
      "[1] \"       \"\n",
      "[1] \"starting download of....\"\n",
      "[1] 12462500\n"
     ]
    },
    {
     "name": "stderr",
     "output_type": "stream",
     "text": [
      "Warning message in fread(path_updated_x):\n",
      "\"Detected 1 column names but the data has 11 columns (i.e. invalid file). Added 10 extra default column names at the end.\"\n"
     ]
    },
    {
     "name": "stdout",
     "output_type": "stream",
     "text": [
      "[1] \"         DONE                 \"\n",
      "[1] \"       \"\n",
      "[1] \"starting download of....\"\n",
      "[1] 12456500\n"
     ]
    },
    {
     "name": "stderr",
     "output_type": "stream",
     "text": [
      "Warning message in fread(path_updated_x):\n",
      "\"Detected 1 column names but the data has 5 columns (i.e. invalid file). Added 4 extra default column names at the end.\"\n",
      "Warning message in FXN_download_streamflow_output_daily_flow(USGS_sites$USGS_site_no[i], :\n",
      "\"NAs introduced by coercion\"\n"
     ]
    },
    {
     "name": "stdout",
     "output_type": "stream",
     "text": [
      "[1] \"         DONE                 \"\n",
      "[1] \"       \"\n"
     ]
    }
   ],
   "source": [
    "all_USGS_data = list() # creates a list\n",
    "\n",
    "for(i in 1:nrow(USGS_sites)){\n",
    "    \n",
    "    # ---------------- read in data and add to master list (all_snotel_data) --------\n",
    "    site_x = USGS_sites$USGS_site_no[i]\n",
    "    print('starting download of....')\n",
    "    print(site_x)\n",
    "    all_USGS_data[[site_x]] = FXN_download_streamflow_output_daily_flow(USGS_sites$USGS_site_no[i],  USGS_sites$area_catchment_sq_miles[i],\n",
    "                                                 '1980-10-01', '2020-10-01', TRUE)\n",
    "    print(\"         DONE                 \")\n",
    "    print(\"       \")\n",
    "}\n"
   ]
  },
  {
   "cell_type": "markdown",
   "metadata": {},
   "source": [
    "# ----------------------------------------------------------------------------------\n",
    "#             Calculate Statistics\n",
    "# ----------------------------------------------------------------------------------"
   ]
  },
  {
   "cell_type": "code",
   "execution_count": 320,
   "metadata": {},
   "outputs": [
    {
     "name": "stdout",
     "output_type": "stream",
     "text": [
      "[1] 1\n",
      "[1] 12447200\n",
      "[1] 2\n",
      "[1] 12445900\n",
      "[1] 3\n",
      "[1] 12449950\n",
      "[1] 4\n",
      "[1] 12448998\n",
      "[1] 5\n",
      "[1] 12452990\n",
      "[1] 6\n",
      "[1] 12452890\n",
      "[1] 7\n",
      "[1] 12462500\n",
      "[1] 8\n",
      "[1] 12456500\n"
     ]
    }
   ],
   "source": [
    "# ------------ data frame for statistics ---------\n",
    "streamflow_statistics_output = c()\n",
    "\n",
    "for(i in 1:nrow(USGS_sites)){\n",
    "\n",
    "    # ------------------------------------------------------------\n",
    "    #          Prepare the Data\n",
    "    # ------------------------------------------------------------\n",
    "    print(i)\n",
    "    print(USGS_sites$USGS_site_no[i])\n",
    "    site_x = USGS_sites$USGS_site_no[i]\n",
    "    # ------------------------ generate the streamflow -------------------\n",
    "    streamflow_m3_sec_data_x = as.numeric(as.character(all_USGS_data[[site_x]]$'discharge_ft3_sec' ))\n",
    "    streamflow_mm_day_data_x = as.numeric(as.character(all_USGS_data[[site_x]]$'discharge_mm_day' ))\n",
    "    date_vector = all_USGS_data[[as.numeric(USGS_sites$USGS_site_no[i])]]$'datetime'\n",
    "    \n",
    "    # ----------- clip \"NAs\" at the beginning -------\n",
    "    x =!is.na(streamflow_m3_sec_data_x)\n",
    "    x = which(x == TRUE)\n",
    "    first_not_na = min(x)\n",
    "    include_x = seq(first_not_na, length(streamflow_m3_sec_data_x))\n",
    "    streamflow_m3_sec_data_x = streamflow_m3_sec_data_x[include_x]\n",
    "    streamflow_mm_day_data_x = streamflow_mm_day_data_x[include_x]\n",
    "    date_vector = date_vector[include_x]\n",
    "    \n",
    "    # ---------------- generate output data --------------\n",
    "    output_data_x = USGS_flow_statistics(streamflow_m3_sec_data_x,  streamflow_mm_day_data_x,  date_vector, year_to_plot)\n",
    "    sites_df = t(as.data.frame(c(USGS_sites$Site_name[i], USGS_sites$USGS_site_no[i])))\n",
    "    colnames(sites_df) = c(\"site_name\", \"site_number\")\n",
    "    output_data_x = cbind(sites_df, output_data_x)\n",
    "    rownames(output_data_x) = i\n",
    "    streamflow_statistics_output = rbind(streamflow_statistics_output, output_data_x)\n",
    "    \n",
    "}\n",
    "streamflow_statistics_output= as.data.frame(streamflow_statistics_output)\n",
    "# -------- convert numbers from character to numeric -------\n",
    "i = seq(2,ncol(streamflow_statistics_output))   \n",
    "streamflow_statistics_output[ , i] = apply(streamflow_statistics_output[ , i], 2,function(x) as.numeric(as.character(x))) # convert numbers to numeric"
   ]
  },
  {
   "cell_type": "code",
   "execution_count": 243,
   "metadata": {},
   "outputs": [
    {
     "data": {
      "text/html": [
       "<style>\n",
       ".list-inline {list-style: none; margin:0; padding: 0}\n",
       ".list-inline>li {display: inline-block}\n",
       ".list-inline>li:not(:last-child)::after {content: \"\\00b7\"; padding: 0 .5ex}\n",
       "</style>\n",
       "<ol class=list-inline><li>'site_name'</li><li>'site_number'</li><li>'peakflow_7day_avg_year_of_interest_ft3_sec'</li><li>'average_7day_avg_peakflow_ft3_sec'</li><li>'PRCNT_peakflow_year_of_interest_ft3_sec'</li><li>'DELTA_peakflow_year_of_interest_ft3_sec'</li><li>'peakflow_day_year_of_interest'</li><li>'average_peakflow_day_of_year'</li><li>'DELTA_peakflow_day_year_of_interest'</li><li>'lowflow_7day_avg_year_of_interest_ft3_sec'</li><li>'average_7day_avg_lowflow_ft3_sec'</li><li>'PRCNT_lowflow_year_of_interest_ft3_sec'</li><li>'DELTA_lowflow_year_of_interest_ft3_sec'</li><li>'lowflow_day_year_of_interest'</li><li>'average_lowflow_day_of_year'</li><li>'DELTA_lowflow_day_year_of_interest'</li><li>'flow_center_of_mass_day_year_of_interest'</li><li>'flow_center_of_mass_mean'</li><li>'DELTA_flow_center_of_mass_day_year_of_interest'</li><li>'annual_total_flow_year_of_interest_inches'</li><li>'mean_annual_total_flow_inches'</li><li>'PRCNT_annual_total_flow_year_of_interest_inches'</li><li>'DELTA_annual_total_flow_year_of_interest_inches'</li><li>'Jan_mean_flow_year_of_interest_ft3_sec'</li><li>'Feb_mean_flow_year_of_interest_ft3_sec'</li><li>'Mar_mean_flow_year_of_interest_ft3_sec'</li><li>'Apr_mean_flow_year_of_interest_ft3_sec'</li><li>'May_mean_flow_year_of_interest_ft3_sec'</li><li>'Jun_mean_flow_year_of_interest_ft3_sec'</li><li>'Jul_mean_flow_year_of_interest_ft3_sec'</li><li>'Aug_mean_flow_year_of_interest_ft3_sec'</li><li>'Sep_mean_flow_year_of_interest_ft3_sec'</li><li>'Oct_mean_flow_year_of_interest_ft3_sec'</li><li>'Nov_mean_flow_year_of_interest_ft3_sec'</li><li>'Dec_mean_flow_year_of_interest_ft3_sec'</li><li>'Jan_mean_flow_all_years_ft3_sec'</li><li>'Feb_mean_flow_all_years_ft3_sec'</li><li>'Mar_mean_flow_all_years_ft3_sec'</li><li>'Apr_mean_flow_all_years_ft3_sec'</li><li>'May_mean_flow_all_years_ft3_sec'</li><li>'Jun_mean_flow_all_years_ft3_sec'</li><li>'Jul_mean_flow_all_years_ft3_sec'</li><li>'Aug_mean_flow_all_years_ft3_sec'</li><li>'Sep_mean_flow_all_years_ft3_sec'</li><li>'Oct_mean_flow_all_years_ft3_sec'</li><li>'Nov_mean_flow_all_years_ft3_sec'</li><li>'Dec_mean_flow_all_years_ft3_sec'</li><li>'Jan_mean_PRCNT_flow_year_of_interest_ft3_sec'</li><li>'Feb_mean_PRCNT_flow_year_of_interest_ft3_sec'</li><li>'Mar_mean_PRCNT_flow_year_of_interest_ft3_sec'</li><li>'Apr_mean_PRCNT_flow_year_of_interest_ft3_sec'</li><li>'May_mean_PRCNT_flow_year_of_interest_ft3_sec'</li><li>'Jun_mean_PRCNT_flow_year_of_interest_ft3_sec'</li><li>'Jul_mean_PRCNT_flow_year_of_interest_ft3_sec'</li><li>'Aug_mean_PRCNT_flow_year_of_interest_ft3_sec'</li><li>'Sep_mean_PRCNT_flow_year_of_interest_ft3_sec'</li><li>'Oct_mean_PRCNT_flow_year_of_interest_ft3_sec'</li><li>'Nov_mean_PRCNT_flow_year_of_interest_ft3_sec'</li><li>'Dec_mean_PRCNT_flow_year_of_interest_ft3_sec'</li><li>'Jan_mean_DELTA_flow_year_of_interest_ft3_sec'</li><li>'Feb_mean_DELTA_flow_year_of_interest_ft3_sec'</li><li>'Mar_mean_DELTA_flow_year_of_interest_ft3_sec'</li><li>'Apr_mean_DELTA_flow_year_of_interest_ft3_sec'</li><li>'May_mean_DELTA_flow_year_of_interest_ft3_sec'</li><li>'Jun_mean_DELTA_flow_year_of_interest_ft3_sec'</li><li>'Jul_mean_DELTA_flow_year_of_interest_ft3_sec'</li><li>'Aug_mean_DELTA_flow_year_of_interest_ft3_sec'</li><li>'Sep_mean_DELTA_flow_year_of_interest_ft3_sec'</li><li>'Oct_mean_DELTA_flow_year_of_interest_ft3_sec'</li><li>'Nov_mean_DELTA_flow_year_of_interest_ft3_sec'</li><li>'Dec_mean_DELTA_flow_year_of_interest_ft3_sec'</li></ol>\n"
      ],
      "text/latex": [
       "\\begin{enumerate*}\n",
       "\\item 'site\\_name'\n",
       "\\item 'site\\_number'\n",
       "\\item 'peakflow\\_7day\\_avg\\_year\\_of\\_interest\\_ft3\\_sec'\n",
       "\\item 'average\\_7day\\_avg\\_peakflow\\_ft3\\_sec'\n",
       "\\item 'PRCNT\\_peakflow\\_year\\_of\\_interest\\_ft3\\_sec'\n",
       "\\item 'DELTA\\_peakflow\\_year\\_of\\_interest\\_ft3\\_sec'\n",
       "\\item 'peakflow\\_day\\_year\\_of\\_interest'\n",
       "\\item 'average\\_peakflow\\_day\\_of\\_year'\n",
       "\\item 'DELTA\\_peakflow\\_day\\_year\\_of\\_interest'\n",
       "\\item 'lowflow\\_7day\\_avg\\_year\\_of\\_interest\\_ft3\\_sec'\n",
       "\\item 'average\\_7day\\_avg\\_lowflow\\_ft3\\_sec'\n",
       "\\item 'PRCNT\\_lowflow\\_year\\_of\\_interest\\_ft3\\_sec'\n",
       "\\item 'DELTA\\_lowflow\\_year\\_of\\_interest\\_ft3\\_sec'\n",
       "\\item 'lowflow\\_day\\_year\\_of\\_interest'\n",
       "\\item 'average\\_lowflow\\_day\\_of\\_year'\n",
       "\\item 'DELTA\\_lowflow\\_day\\_year\\_of\\_interest'\n",
       "\\item 'flow\\_center\\_of\\_mass\\_day\\_year\\_of\\_interest'\n",
       "\\item 'flow\\_center\\_of\\_mass\\_mean'\n",
       "\\item 'DELTA\\_flow\\_center\\_of\\_mass\\_day\\_year\\_of\\_interest'\n",
       "\\item 'annual\\_total\\_flow\\_year\\_of\\_interest\\_inches'\n",
       "\\item 'mean\\_annual\\_total\\_flow\\_inches'\n",
       "\\item 'PRCNT\\_annual\\_total\\_flow\\_year\\_of\\_interest\\_inches'\n",
       "\\item 'DELTA\\_annual\\_total\\_flow\\_year\\_of\\_interest\\_inches'\n",
       "\\item 'Jan\\_mean\\_flow\\_year\\_of\\_interest\\_ft3\\_sec'\n",
       "\\item 'Feb\\_mean\\_flow\\_year\\_of\\_interest\\_ft3\\_sec'\n",
       "\\item 'Mar\\_mean\\_flow\\_year\\_of\\_interest\\_ft3\\_sec'\n",
       "\\item 'Apr\\_mean\\_flow\\_year\\_of\\_interest\\_ft3\\_sec'\n",
       "\\item 'May\\_mean\\_flow\\_year\\_of\\_interest\\_ft3\\_sec'\n",
       "\\item 'Jun\\_mean\\_flow\\_year\\_of\\_interest\\_ft3\\_sec'\n",
       "\\item 'Jul\\_mean\\_flow\\_year\\_of\\_interest\\_ft3\\_sec'\n",
       "\\item 'Aug\\_mean\\_flow\\_year\\_of\\_interest\\_ft3\\_sec'\n",
       "\\item 'Sep\\_mean\\_flow\\_year\\_of\\_interest\\_ft3\\_sec'\n",
       "\\item 'Oct\\_mean\\_flow\\_year\\_of\\_interest\\_ft3\\_sec'\n",
       "\\item 'Nov\\_mean\\_flow\\_year\\_of\\_interest\\_ft3\\_sec'\n",
       "\\item 'Dec\\_mean\\_flow\\_year\\_of\\_interest\\_ft3\\_sec'\n",
       "\\item 'Jan\\_mean\\_flow\\_all\\_years\\_ft3\\_sec'\n",
       "\\item 'Feb\\_mean\\_flow\\_all\\_years\\_ft3\\_sec'\n",
       "\\item 'Mar\\_mean\\_flow\\_all\\_years\\_ft3\\_sec'\n",
       "\\item 'Apr\\_mean\\_flow\\_all\\_years\\_ft3\\_sec'\n",
       "\\item 'May\\_mean\\_flow\\_all\\_years\\_ft3\\_sec'\n",
       "\\item 'Jun\\_mean\\_flow\\_all\\_years\\_ft3\\_sec'\n",
       "\\item 'Jul\\_mean\\_flow\\_all\\_years\\_ft3\\_sec'\n",
       "\\item 'Aug\\_mean\\_flow\\_all\\_years\\_ft3\\_sec'\n",
       "\\item 'Sep\\_mean\\_flow\\_all\\_years\\_ft3\\_sec'\n",
       "\\item 'Oct\\_mean\\_flow\\_all\\_years\\_ft3\\_sec'\n",
       "\\item 'Nov\\_mean\\_flow\\_all\\_years\\_ft3\\_sec'\n",
       "\\item 'Dec\\_mean\\_flow\\_all\\_years\\_ft3\\_sec'\n",
       "\\item 'Jan\\_mean\\_PRCNT\\_flow\\_year\\_of\\_interest\\_ft3\\_sec'\n",
       "\\item 'Feb\\_mean\\_PRCNT\\_flow\\_year\\_of\\_interest\\_ft3\\_sec'\n",
       "\\item 'Mar\\_mean\\_PRCNT\\_flow\\_year\\_of\\_interest\\_ft3\\_sec'\n",
       "\\item 'Apr\\_mean\\_PRCNT\\_flow\\_year\\_of\\_interest\\_ft3\\_sec'\n",
       "\\item 'May\\_mean\\_PRCNT\\_flow\\_year\\_of\\_interest\\_ft3\\_sec'\n",
       "\\item 'Jun\\_mean\\_PRCNT\\_flow\\_year\\_of\\_interest\\_ft3\\_sec'\n",
       "\\item 'Jul\\_mean\\_PRCNT\\_flow\\_year\\_of\\_interest\\_ft3\\_sec'\n",
       "\\item 'Aug\\_mean\\_PRCNT\\_flow\\_year\\_of\\_interest\\_ft3\\_sec'\n",
       "\\item 'Sep\\_mean\\_PRCNT\\_flow\\_year\\_of\\_interest\\_ft3\\_sec'\n",
       "\\item 'Oct\\_mean\\_PRCNT\\_flow\\_year\\_of\\_interest\\_ft3\\_sec'\n",
       "\\item 'Nov\\_mean\\_PRCNT\\_flow\\_year\\_of\\_interest\\_ft3\\_sec'\n",
       "\\item 'Dec\\_mean\\_PRCNT\\_flow\\_year\\_of\\_interest\\_ft3\\_sec'\n",
       "\\item 'Jan\\_mean\\_DELTA\\_flow\\_year\\_of\\_interest\\_ft3\\_sec'\n",
       "\\item 'Feb\\_mean\\_DELTA\\_flow\\_year\\_of\\_interest\\_ft3\\_sec'\n",
       "\\item 'Mar\\_mean\\_DELTA\\_flow\\_year\\_of\\_interest\\_ft3\\_sec'\n",
       "\\item 'Apr\\_mean\\_DELTA\\_flow\\_year\\_of\\_interest\\_ft3\\_sec'\n",
       "\\item 'May\\_mean\\_DELTA\\_flow\\_year\\_of\\_interest\\_ft3\\_sec'\n",
       "\\item 'Jun\\_mean\\_DELTA\\_flow\\_year\\_of\\_interest\\_ft3\\_sec'\n",
       "\\item 'Jul\\_mean\\_DELTA\\_flow\\_year\\_of\\_interest\\_ft3\\_sec'\n",
       "\\item 'Aug\\_mean\\_DELTA\\_flow\\_year\\_of\\_interest\\_ft3\\_sec'\n",
       "\\item 'Sep\\_mean\\_DELTA\\_flow\\_year\\_of\\_interest\\_ft3\\_sec'\n",
       "\\item 'Oct\\_mean\\_DELTA\\_flow\\_year\\_of\\_interest\\_ft3\\_sec'\n",
       "\\item 'Nov\\_mean\\_DELTA\\_flow\\_year\\_of\\_interest\\_ft3\\_sec'\n",
       "\\item 'Dec\\_mean\\_DELTA\\_flow\\_year\\_of\\_interest\\_ft3\\_sec'\n",
       "\\end{enumerate*}\n"
      ],
      "text/markdown": [
       "1. 'site_name'\n",
       "2. 'site_number'\n",
       "3. 'peakflow_7day_avg_year_of_interest_ft3_sec'\n",
       "4. 'average_7day_avg_peakflow_ft3_sec'\n",
       "5. 'PRCNT_peakflow_year_of_interest_ft3_sec'\n",
       "6. 'DELTA_peakflow_year_of_interest_ft3_sec'\n",
       "7. 'peakflow_day_year_of_interest'\n",
       "8. 'average_peakflow_day_of_year'\n",
       "9. 'DELTA_peakflow_day_year_of_interest'\n",
       "10. 'lowflow_7day_avg_year_of_interest_ft3_sec'\n",
       "11. 'average_7day_avg_lowflow_ft3_sec'\n",
       "12. 'PRCNT_lowflow_year_of_interest_ft3_sec'\n",
       "13. 'DELTA_lowflow_year_of_interest_ft3_sec'\n",
       "14. 'lowflow_day_year_of_interest'\n",
       "15. 'average_lowflow_day_of_year'\n",
       "16. 'DELTA_lowflow_day_year_of_interest'\n",
       "17. 'flow_center_of_mass_day_year_of_interest'\n",
       "18. 'flow_center_of_mass_mean'\n",
       "19. 'DELTA_flow_center_of_mass_day_year_of_interest'\n",
       "20. 'annual_total_flow_year_of_interest_inches'\n",
       "21. 'mean_annual_total_flow_inches'\n",
       "22. 'PRCNT_annual_total_flow_year_of_interest_inches'\n",
       "23. 'DELTA_annual_total_flow_year_of_interest_inches'\n",
       "24. 'Jan_mean_flow_year_of_interest_ft3_sec'\n",
       "25. 'Feb_mean_flow_year_of_interest_ft3_sec'\n",
       "26. 'Mar_mean_flow_year_of_interest_ft3_sec'\n",
       "27. 'Apr_mean_flow_year_of_interest_ft3_sec'\n",
       "28. 'May_mean_flow_year_of_interest_ft3_sec'\n",
       "29. 'Jun_mean_flow_year_of_interest_ft3_sec'\n",
       "30. 'Jul_mean_flow_year_of_interest_ft3_sec'\n",
       "31. 'Aug_mean_flow_year_of_interest_ft3_sec'\n",
       "32. 'Sep_mean_flow_year_of_interest_ft3_sec'\n",
       "33. 'Oct_mean_flow_year_of_interest_ft3_sec'\n",
       "34. 'Nov_mean_flow_year_of_interest_ft3_sec'\n",
       "35. 'Dec_mean_flow_year_of_interest_ft3_sec'\n",
       "36. 'Jan_mean_flow_all_years_ft3_sec'\n",
       "37. 'Feb_mean_flow_all_years_ft3_sec'\n",
       "38. 'Mar_mean_flow_all_years_ft3_sec'\n",
       "39. 'Apr_mean_flow_all_years_ft3_sec'\n",
       "40. 'May_mean_flow_all_years_ft3_sec'\n",
       "41. 'Jun_mean_flow_all_years_ft3_sec'\n",
       "42. 'Jul_mean_flow_all_years_ft3_sec'\n",
       "43. 'Aug_mean_flow_all_years_ft3_sec'\n",
       "44. 'Sep_mean_flow_all_years_ft3_sec'\n",
       "45. 'Oct_mean_flow_all_years_ft3_sec'\n",
       "46. 'Nov_mean_flow_all_years_ft3_sec'\n",
       "47. 'Dec_mean_flow_all_years_ft3_sec'\n",
       "48. 'Jan_mean_PRCNT_flow_year_of_interest_ft3_sec'\n",
       "49. 'Feb_mean_PRCNT_flow_year_of_interest_ft3_sec'\n",
       "50. 'Mar_mean_PRCNT_flow_year_of_interest_ft3_sec'\n",
       "51. 'Apr_mean_PRCNT_flow_year_of_interest_ft3_sec'\n",
       "52. 'May_mean_PRCNT_flow_year_of_interest_ft3_sec'\n",
       "53. 'Jun_mean_PRCNT_flow_year_of_interest_ft3_sec'\n",
       "54. 'Jul_mean_PRCNT_flow_year_of_interest_ft3_sec'\n",
       "55. 'Aug_mean_PRCNT_flow_year_of_interest_ft3_sec'\n",
       "56. 'Sep_mean_PRCNT_flow_year_of_interest_ft3_sec'\n",
       "57. 'Oct_mean_PRCNT_flow_year_of_interest_ft3_sec'\n",
       "58. 'Nov_mean_PRCNT_flow_year_of_interest_ft3_sec'\n",
       "59. 'Dec_mean_PRCNT_flow_year_of_interest_ft3_sec'\n",
       "60. 'Jan_mean_DELTA_flow_year_of_interest_ft3_sec'\n",
       "61. 'Feb_mean_DELTA_flow_year_of_interest_ft3_sec'\n",
       "62. 'Mar_mean_DELTA_flow_year_of_interest_ft3_sec'\n",
       "63. 'Apr_mean_DELTA_flow_year_of_interest_ft3_sec'\n",
       "64. 'May_mean_DELTA_flow_year_of_interest_ft3_sec'\n",
       "65. 'Jun_mean_DELTA_flow_year_of_interest_ft3_sec'\n",
       "66. 'Jul_mean_DELTA_flow_year_of_interest_ft3_sec'\n",
       "67. 'Aug_mean_DELTA_flow_year_of_interest_ft3_sec'\n",
       "68. 'Sep_mean_DELTA_flow_year_of_interest_ft3_sec'\n",
       "69. 'Oct_mean_DELTA_flow_year_of_interest_ft3_sec'\n",
       "70. 'Nov_mean_DELTA_flow_year_of_interest_ft3_sec'\n",
       "71. 'Dec_mean_DELTA_flow_year_of_interest_ft3_sec'\n",
       "\n",
       "\n"
      ],
      "text/plain": [
       " [1] \"site_name\"                                      \n",
       " [2] \"site_number\"                                    \n",
       " [3] \"peakflow_7day_avg_year_of_interest_ft3_sec\"     \n",
       " [4] \"average_7day_avg_peakflow_ft3_sec\"              \n",
       " [5] \"PRCNT_peakflow_year_of_interest_ft3_sec\"        \n",
       " [6] \"DELTA_peakflow_year_of_interest_ft3_sec\"        \n",
       " [7] \"peakflow_day_year_of_interest\"                  \n",
       " [8] \"average_peakflow_day_of_year\"                   \n",
       " [9] \"DELTA_peakflow_day_year_of_interest\"            \n",
       "[10] \"lowflow_7day_avg_year_of_interest_ft3_sec\"      \n",
       "[11] \"average_7day_avg_lowflow_ft3_sec\"               \n",
       "[12] \"PRCNT_lowflow_year_of_interest_ft3_sec\"         \n",
       "[13] \"DELTA_lowflow_year_of_interest_ft3_sec\"         \n",
       "[14] \"lowflow_day_year_of_interest\"                   \n",
       "[15] \"average_lowflow_day_of_year\"                    \n",
       "[16] \"DELTA_lowflow_day_year_of_interest\"             \n",
       "[17] \"flow_center_of_mass_day_year_of_interest\"       \n",
       "[18] \"flow_center_of_mass_mean\"                       \n",
       "[19] \"DELTA_flow_center_of_mass_day_year_of_interest\" \n",
       "[20] \"annual_total_flow_year_of_interest_inches\"      \n",
       "[21] \"mean_annual_total_flow_inches\"                  \n",
       "[22] \"PRCNT_annual_total_flow_year_of_interest_inches\"\n",
       "[23] \"DELTA_annual_total_flow_year_of_interest_inches\"\n",
       "[24] \"Jan_mean_flow_year_of_interest_ft3_sec\"         \n",
       "[25] \"Feb_mean_flow_year_of_interest_ft3_sec\"         \n",
       "[26] \"Mar_mean_flow_year_of_interest_ft3_sec\"         \n",
       "[27] \"Apr_mean_flow_year_of_interest_ft3_sec\"         \n",
       "[28] \"May_mean_flow_year_of_interest_ft3_sec\"         \n",
       "[29] \"Jun_mean_flow_year_of_interest_ft3_sec\"         \n",
       "[30] \"Jul_mean_flow_year_of_interest_ft3_sec\"         \n",
       "[31] \"Aug_mean_flow_year_of_interest_ft3_sec\"         \n",
       "[32] \"Sep_mean_flow_year_of_interest_ft3_sec\"         \n",
       "[33] \"Oct_mean_flow_year_of_interest_ft3_sec\"         \n",
       "[34] \"Nov_mean_flow_year_of_interest_ft3_sec\"         \n",
       "[35] \"Dec_mean_flow_year_of_interest_ft3_sec\"         \n",
       "[36] \"Jan_mean_flow_all_years_ft3_sec\"                \n",
       "[37] \"Feb_mean_flow_all_years_ft3_sec\"                \n",
       "[38] \"Mar_mean_flow_all_years_ft3_sec\"                \n",
       "[39] \"Apr_mean_flow_all_years_ft3_sec\"                \n",
       "[40] \"May_mean_flow_all_years_ft3_sec\"                \n",
       "[41] \"Jun_mean_flow_all_years_ft3_sec\"                \n",
       "[42] \"Jul_mean_flow_all_years_ft3_sec\"                \n",
       "[43] \"Aug_mean_flow_all_years_ft3_sec\"                \n",
       "[44] \"Sep_mean_flow_all_years_ft3_sec\"                \n",
       "[45] \"Oct_mean_flow_all_years_ft3_sec\"                \n",
       "[46] \"Nov_mean_flow_all_years_ft3_sec\"                \n",
       "[47] \"Dec_mean_flow_all_years_ft3_sec\"                \n",
       "[48] \"Jan_mean_PRCNT_flow_year_of_interest_ft3_sec\"   \n",
       "[49] \"Feb_mean_PRCNT_flow_year_of_interest_ft3_sec\"   \n",
       "[50] \"Mar_mean_PRCNT_flow_year_of_interest_ft3_sec\"   \n",
       "[51] \"Apr_mean_PRCNT_flow_year_of_interest_ft3_sec\"   \n",
       "[52] \"May_mean_PRCNT_flow_year_of_interest_ft3_sec\"   \n",
       "[53] \"Jun_mean_PRCNT_flow_year_of_interest_ft3_sec\"   \n",
       "[54] \"Jul_mean_PRCNT_flow_year_of_interest_ft3_sec\"   \n",
       "[55] \"Aug_mean_PRCNT_flow_year_of_interest_ft3_sec\"   \n",
       "[56] \"Sep_mean_PRCNT_flow_year_of_interest_ft3_sec\"   \n",
       "[57] \"Oct_mean_PRCNT_flow_year_of_interest_ft3_sec\"   \n",
       "[58] \"Nov_mean_PRCNT_flow_year_of_interest_ft3_sec\"   \n",
       "[59] \"Dec_mean_PRCNT_flow_year_of_interest_ft3_sec\"   \n",
       "[60] \"Jan_mean_DELTA_flow_year_of_interest_ft3_sec\"   \n",
       "[61] \"Feb_mean_DELTA_flow_year_of_interest_ft3_sec\"   \n",
       "[62] \"Mar_mean_DELTA_flow_year_of_interest_ft3_sec\"   \n",
       "[63] \"Apr_mean_DELTA_flow_year_of_interest_ft3_sec\"   \n",
       "[64] \"May_mean_DELTA_flow_year_of_interest_ft3_sec\"   \n",
       "[65] \"Jun_mean_DELTA_flow_year_of_interest_ft3_sec\"   \n",
       "[66] \"Jul_mean_DELTA_flow_year_of_interest_ft3_sec\"   \n",
       "[67] \"Aug_mean_DELTA_flow_year_of_interest_ft3_sec\"   \n",
       "[68] \"Sep_mean_DELTA_flow_year_of_interest_ft3_sec\"   \n",
       "[69] \"Oct_mean_DELTA_flow_year_of_interest_ft3_sec\"   \n",
       "[70] \"Nov_mean_DELTA_flow_year_of_interest_ft3_sec\"   \n",
       "[71] \"Dec_mean_DELTA_flow_year_of_interest_ft3_sec\"   "
      ]
     },
     "metadata": {},
     "output_type": "display_data"
    }
   ],
   "source": [
    "colnames(streamflow_statistics_output)"
   ]
  },
  {
   "cell_type": "code",
   "execution_count": 321,
   "metadata": {},
   "outputs": [
    {
     "data": {
      "text/html": [
       "<table>\n",
       "<caption>A data.frame: 8 × 4</caption>\n",
       "<thead>\n",
       "\t<tr><th></th><th scope=col>site_name</th><th scope=col>Jul_mean_flow_year_of_interest_ft3_sec</th><th scope=col>Jul_mean_flow_all_years_ft3_sec</th><th scope=col>Jul_mean_PRCNT_flow_year_of_interest_ft3_sec</th></tr>\n",
       "\t<tr><th></th><th scope=col>&lt;chr&gt;</th><th scope=col>&lt;dbl&gt;</th><th scope=col>&lt;dbl&gt;</th><th scope=col>&lt;dbl&gt;</th></tr>\n",
       "</thead>\n",
       "<tbody>\n",
       "\t<tr><th scope=row>1</th><td>OKANOGAN RIVER AT MALOTT, WA  </td><td>1570.5</td><td>3870.45385</td><td>40.58</td></tr>\n",
       "\t<tr><th scope=row>2</th><td>OMAK CREEK NEAR OMAK, WA      </td><td>   7.1</td><td>   7.95000</td><td>89.31</td></tr>\n",
       "\t<tr><th scope=row>3</th><td>METHOW RIVER NEAR PATEROS, WA </td><td> 836.8</td><td>1935.86667</td><td>43.23</td></tr>\n",
       "\t<tr><th scope=row>4</th><td>TWISP RIVER NEAR TWISP, WA    </td><td> 134.6</td><td> 346.31333</td><td>38.87</td></tr>\n",
       "\t<tr><th scope=row>5</th><td>ENTIAT RIVER NEAR ENTIAT, WA  </td><td> 264.9</td><td> 648.30435</td><td>40.86</td></tr>\n",
       "\t<tr><th scope=row>6</th><td>MAD RIVER AT ARDENVOIR, WA    </td><td>  45.0</td><td>  81.81765</td><td>55.00</td></tr>\n",
       "\t<tr><th scope=row>7</th><td>WENATCHEE RIVER AT MONITOR, WA</td><td>1312.9</td><td>3775.15385</td><td>34.78</td></tr>\n",
       "\t<tr><th scope=row>8</th><td>CHIWAWA RIVER NEAR PLAIN, WA  </td><td> 297.2</td><td> 775.57500</td><td>38.32</td></tr>\n",
       "</tbody>\n",
       "</table>\n"
      ],
      "text/latex": [
       "A data.frame: 8 × 4\n",
       "\\begin{tabular}{r|llll}\n",
       "  & site\\_name & Jul\\_mean\\_flow\\_year\\_of\\_interest\\_ft3\\_sec & Jul\\_mean\\_flow\\_all\\_years\\_ft3\\_sec & Jul\\_mean\\_PRCNT\\_flow\\_year\\_of\\_interest\\_ft3\\_sec\\\\\n",
       "  & <chr> & <dbl> & <dbl> & <dbl>\\\\\n",
       "\\hline\n",
       "\t1 & OKANOGAN RIVER AT MALOTT, WA   & 1570.5 & 3870.45385 & 40.58\\\\\n",
       "\t2 & OMAK CREEK NEAR OMAK, WA       &    7.1 &    7.95000 & 89.31\\\\\n",
       "\t3 & METHOW RIVER NEAR PATEROS, WA  &  836.8 & 1935.86667 & 43.23\\\\\n",
       "\t4 & TWISP RIVER NEAR TWISP, WA     &  134.6 &  346.31333 & 38.87\\\\\n",
       "\t5 & ENTIAT RIVER NEAR ENTIAT, WA   &  264.9 &  648.30435 & 40.86\\\\\n",
       "\t6 & MAD RIVER AT ARDENVOIR, WA     &   45.0 &   81.81765 & 55.00\\\\\n",
       "\t7 & WENATCHEE RIVER AT MONITOR, WA & 1312.9 & 3775.15385 & 34.78\\\\\n",
       "\t8 & CHIWAWA RIVER NEAR PLAIN, WA   &  297.2 &  775.57500 & 38.32\\\\\n",
       "\\end{tabular}\n"
      ],
      "text/markdown": [
       "\n",
       "A data.frame: 8 × 4\n",
       "\n",
       "| <!--/--> | site_name &lt;chr&gt; | Jul_mean_flow_year_of_interest_ft3_sec &lt;dbl&gt; | Jul_mean_flow_all_years_ft3_sec &lt;dbl&gt; | Jul_mean_PRCNT_flow_year_of_interest_ft3_sec &lt;dbl&gt; |\n",
       "|---|---|---|---|---|\n",
       "| 1 | OKANOGAN RIVER AT MALOTT, WA   | 1570.5 | 3870.45385 | 40.58 |\n",
       "| 2 | OMAK CREEK NEAR OMAK, WA       |    7.1 |    7.95000 | 89.31 |\n",
       "| 3 | METHOW RIVER NEAR PATEROS, WA  |  836.8 | 1935.86667 | 43.23 |\n",
       "| 4 | TWISP RIVER NEAR TWISP, WA     |  134.6 |  346.31333 | 38.87 |\n",
       "| 5 | ENTIAT RIVER NEAR ENTIAT, WA   |  264.9 |  648.30435 | 40.86 |\n",
       "| 6 | MAD RIVER AT ARDENVOIR, WA     |   45.0 |   81.81765 | 55.00 |\n",
       "| 7 | WENATCHEE RIVER AT MONITOR, WA | 1312.9 | 3775.15385 | 34.78 |\n",
       "| 8 | CHIWAWA RIVER NEAR PLAIN, WA   |  297.2 |  775.57500 | 38.32 |\n",
       "\n"
      ],
      "text/plain": [
       "  site_name                      Jul_mean_flow_year_of_interest_ft3_sec\n",
       "1 OKANOGAN RIVER AT MALOTT, WA   1570.5                                \n",
       "2 OMAK CREEK NEAR OMAK, WA          7.1                                \n",
       "3 METHOW RIVER NEAR PATEROS, WA   836.8                                \n",
       "4 TWISP RIVER NEAR TWISP, WA      134.6                                \n",
       "5 ENTIAT RIVER NEAR ENTIAT, WA    264.9                                \n",
       "6 MAD RIVER AT ARDENVOIR, WA       45.0                                \n",
       "7 WENATCHEE RIVER AT MONITOR, WA 1312.9                                \n",
       "8 CHIWAWA RIVER NEAR PLAIN, WA    297.2                                \n",
       "  Jul_mean_flow_all_years_ft3_sec Jul_mean_PRCNT_flow_year_of_interest_ft3_sec\n",
       "1 3870.45385                      40.58                                       \n",
       "2    7.95000                      89.31                                       \n",
       "3 1935.86667                      43.23                                       \n",
       "4  346.31333                      38.87                                       \n",
       "5  648.30435                      40.86                                       \n",
       "6   81.81765                      55.00                                       \n",
       "7 3775.15385                      34.78                                       \n",
       "8  775.57500                      38.32                                       "
      ]
     },
     "metadata": {},
     "output_type": "display_data"
    }
   ],
   "source": [
    "i = c(1, c(31,43,55)-1 )\n",
    "streamflow_statistics_output[,i]"
   ]
  },
  {
   "cell_type": "markdown",
   "metadata": {},
   "source": [
    "### ----------------------------------------------------------\n",
    "###           statistics for peakflow  PRCNT\n",
    "### ----------------------------------------------------------"
   ]
  },
  {
   "cell_type": "code",
   "execution_count": 303,
   "metadata": {},
   "outputs": [
    {
     "name": "stdout",
     "output_type": "stream",
     "text": [
      "[1] \"-----Maximum -----:\"\n"
     ]
    },
    {
     "data": {
      "text/html": [
       "74.8"
      ],
      "text/latex": [
       "74.8"
      ],
      "text/markdown": [
       "74.8"
      ],
      "text/plain": [
       "[1] 74.8"
      ]
     },
     "metadata": {},
     "output_type": "display_data"
    },
    {
     "name": "stdout",
     "output_type": "stream",
     "text": [
      "[1] \"-----Mean -----:\"\n"
     ]
    },
    {
     "data": {
      "text/html": [
       "64.91"
      ],
      "text/latex": [
       "64.91"
      ],
      "text/markdown": [
       "64.91"
      ],
      "text/plain": [
       "[1] 64.91"
      ]
     },
     "metadata": {},
     "output_type": "display_data"
    },
    {
     "name": "stdout",
     "output_type": "stream",
     "text": [
      "[1] \"-----Minimum -----:\"\n"
     ]
    },
    {
     "data": {
      "text/html": [
       "39.83"
      ],
      "text/latex": [
       "39.83"
      ],
      "text/markdown": [
       "39.83"
      ],
      "text/plain": [
       "[1] 39.83"
      ]
     },
     "metadata": {},
     "output_type": "display_data"
    }
   ],
   "source": [
    "print('-----Maximum -----:')\n",
    "max(streamflow_statistics_output$PRCNT_peakflow_year_of_interest_ft3_sec)\n",
    "print('-----Mean -----:')\n",
    "round( mean(streamflow_statistics_output$PRCNT_peakflow_year_of_interest_ft3_sec),  2)\n",
    "print('-----Minimum -----:')\n",
    "min(streamflow_statistics_output$PRCNT_peakflow_year_of_interest_ft3_sec)"
   ]
  },
  {
   "cell_type": "markdown",
   "metadata": {},
   "source": [
    "### ----------------------------------------------------------\n",
    "###           statistics for Peak flow day DELTA\n",
    "### ----------------------------------------------------------"
   ]
  },
  {
   "cell_type": "code",
   "execution_count": 304,
   "metadata": {},
   "outputs": [
    {
     "name": "stdout",
     "output_type": "stream",
     "text": [
      "[1] \"-----Maximum -----:\"\n"
     ]
    },
    {
     "data": {
      "text/html": [
       "26"
      ],
      "text/latex": [
       "26"
      ],
      "text/markdown": [
       "26"
      ],
      "text/plain": [
       "[1] 26"
      ]
     },
     "metadata": {},
     "output_type": "display_data"
    },
    {
     "name": "stdout",
     "output_type": "stream",
     "text": [
      "[1] \"-----Mean -----:\"\n"
     ]
    },
    {
     "data": {
      "text/html": [
       "10.03"
      ],
      "text/latex": [
       "10.03"
      ],
      "text/markdown": [
       "10.03"
      ],
      "text/plain": [
       "[1] 10.03"
      ]
     },
     "metadata": {},
     "output_type": "display_data"
    },
    {
     "name": "stdout",
     "output_type": "stream",
     "text": [
      "[1] \"-----Minimum -----:\"\n"
     ]
    },
    {
     "data": {
      "text/html": [
       "-3.76"
      ],
      "text/latex": [
       "-3.76"
      ],
      "text/markdown": [
       "-3.76"
      ],
      "text/plain": [
       "[1] -3.76"
      ]
     },
     "metadata": {},
     "output_type": "display_data"
    }
   ],
   "source": [
    "print('-----Maximum -----:')\n",
    "max(streamflow_statistics_output$DELTA_peakflow_day_year_of_interest)\n",
    "print('-----Mean -----:')\n",
    "round( mean(streamflow_statistics_output$DELTA_peakflow_day_year_of_interest),  2)\n",
    "print('-----Minimum -----:')\n",
    "min(streamflow_statistics_output$DELTA_peakflow_day_year_of_interest)"
   ]
  },
  {
   "cell_type": "markdown",
   "metadata": {},
   "source": [
    "### ----------------------------------------------------------\n",
    "###           statistics for low flows  PRCNT\n",
    "### ----------------------------------------------------------"
   ]
  },
  {
   "cell_type": "code",
   "execution_count": 193,
   "metadata": {},
   "outputs": [
    {
     "name": "stdout",
     "output_type": "stream",
     "text": [
      "[1] \"-----Maximum -----:\"\n"
     ]
    },
    {
     "data": {
      "text/html": [
       "128.71"
      ],
      "text/latex": [
       "128.71"
      ],
      "text/markdown": [
       "128.71"
      ],
      "text/plain": [
       "[1] 128.71"
      ]
     },
     "metadata": {},
     "output_type": "display_data"
    },
    {
     "name": "stdout",
     "output_type": "stream",
     "text": [
      "[1] \"-----Mean -----:\"\n"
     ]
    },
    {
     "data": {
      "text/html": [
       "83.17"
      ],
      "text/latex": [
       "83.17"
      ],
      "text/markdown": [
       "83.17"
      ],
      "text/plain": [
       "[1] 83.17"
      ]
     },
     "metadata": {},
     "output_type": "display_data"
    },
    {
     "name": "stdout",
     "output_type": "stream",
     "text": [
      "[1] \"-----Minimum -----:\"\n"
     ]
    },
    {
     "data": {
      "text/html": [
       "3.82"
      ],
      "text/latex": [
       "3.82"
      ],
      "text/markdown": [
       "3.82"
      ],
      "text/plain": [
       "[1] 3.82"
      ]
     },
     "metadata": {},
     "output_type": "display_data"
    }
   ],
   "source": [
    "print('-----Maximum -----:')\n",
    "max(streamflow_statistics_output$PRCNT_lowflow_year_of_interest_ft3_sec)\n",
    "print('-----Mean -----:')\n",
    "round( mean(streamflow_statistics_output$PRCNT_lowflow_year_of_interest_ft3_sec),  2)\n",
    "print('-----Minimum -----:')\n",
    "min(streamflow_statistics_output$PRCNT_lowflow_year_of_interest_ft3_sec)"
   ]
  },
  {
   "cell_type": "markdown",
   "metadata": {},
   "source": [
    "### ----------------------------------------------------------\n",
    "###           statistics for Low flow day DELTA\n",
    "### ----------------------------------------------------------"
   ]
  },
  {
   "cell_type": "code",
   "execution_count": 195,
   "metadata": {},
   "outputs": [
    {
     "name": "stdout",
     "output_type": "stream",
     "text": [
      "[1] \"-----Maximum -----:\"\n"
     ]
    },
    {
     "data": {
      "text/html": [
       "207.77"
      ],
      "text/latex": [
       "207.77"
      ],
      "text/markdown": [
       "207.77"
      ],
      "text/plain": [
       "[1] 207.77"
      ]
     },
     "metadata": {},
     "output_type": "display_data"
    },
    {
     "name": "stdout",
     "output_type": "stream",
     "text": [
      "[1] \"-----Mean -----:\"\n"
     ]
    },
    {
     "data": {
      "text/html": [
       "133.65"
      ],
      "text/latex": [
       "133.65"
      ],
      "text/markdown": [
       "133.65"
      ],
      "text/plain": [
       "[1] 133.65"
      ]
     },
     "metadata": {},
     "output_type": "display_data"
    },
    {
     "name": "stdout",
     "output_type": "stream",
     "text": [
      "[1] \"-----Minimum -----:\"\n"
     ]
    },
    {
     "data": {
      "text/html": [
       "4.55"
      ],
      "text/latex": [
       "4.55"
      ],
      "text/markdown": [
       "4.55"
      ],
      "text/plain": [
       "[1] 4.55"
      ]
     },
     "metadata": {},
     "output_type": "display_data"
    }
   ],
   "source": [
    "print('-----Maximum -----:')\n",
    "max(streamflow_statistics_output$DELTA_lowflow_day_year_of_interest)\n",
    "print('-----Mean -----:')\n",
    "round( mean(streamflow_statistics_output$DELTA_lowflow_day_year_of_interest),  2)\n",
    "print('-----Minimum -----:')\n",
    "min(streamflow_statistics_output$DELTA_lowflow_day_year_of_interest)"
   ]
  },
  {
   "cell_type": "markdown",
   "metadata": {},
   "source": [
    "### ----------------------------------------------------------\n",
    "###           statistics Center of Mass of flow\n",
    "### ----------------------------------------------------------"
   ]
  },
  {
   "cell_type": "code",
   "execution_count": 306,
   "metadata": {},
   "outputs": [
    {
     "name": "stdout",
     "output_type": "stream",
     "text": [
      "[1] \"-----Maximum -----:\"\n"
     ]
    },
    {
     "data": {
      "text/html": [
       "-4.34"
      ],
      "text/latex": [
       "-4.34"
      ],
      "text/markdown": [
       "-4.34"
      ],
      "text/plain": [
       "[1] -4.34"
      ]
     },
     "metadata": {},
     "output_type": "display_data"
    },
    {
     "name": "stdout",
     "output_type": "stream",
     "text": [
      "[1] \"-----Mean -----:\"\n"
     ]
    },
    {
     "data": {
      "text/html": [
       "-12.28"
      ],
      "text/latex": [
       "-12.28"
      ],
      "text/markdown": [
       "-12.28"
      ],
      "text/plain": [
       "[1] -12.28"
      ]
     },
     "metadata": {},
     "output_type": "display_data"
    },
    {
     "name": "stdout",
     "output_type": "stream",
     "text": [
      "[1] \"-----Minimum -----:\"\n"
     ]
    },
    {
     "data": {
      "text/html": [
       "-22.12"
      ],
      "text/latex": [
       "-22.12"
      ],
      "text/markdown": [
       "-22.12"
      ],
      "text/plain": [
       "[1] -22.12"
      ]
     },
     "metadata": {},
     "output_type": "display_data"
    }
   ],
   "source": [
    "print('-----Maximum -----:')\n",
    "max(streamflow_statistics_output$DELTA_flow_center_of_mass_day_year_of_interest)\n",
    "print('-----Mean -----:')\n",
    "round( mean(streamflow_statistics_output$DELTA_flow_center_of_mass_day_year_of_interest),  2)\n",
    "print('-----Minimum -----:')\n",
    "min(streamflow_statistics_output$DELTA_flow_center_of_mass_day_year_of_interest)"
   ]
  },
  {
   "cell_type": "markdown",
   "metadata": {},
   "source": [
    "### ----------------------------------------------------------\n",
    "###           statistics for total annual flow (inches) - average across all years\n",
    "### ----------------------------------------------------------"
   ]
  },
  {
   "cell_type": "code",
   "execution_count": 216,
   "metadata": {},
   "outputs": [
    {
     "name": "stdout",
     "output_type": "stream",
     "text": [
      "[1] \"-----Maximum -----:\"\n"
     ]
    },
    {
     "data": {
      "text/html": [
       "40.491358"
      ],
      "text/latex": [
       "40.491358"
      ],
      "text/markdown": [
       "40.491358"
      ],
      "text/plain": [
       "[1] 40.49136"
      ]
     },
     "metadata": {},
     "output_type": "display_data"
    },
    {
     "name": "stdout",
     "output_type": "stream",
     "text": [
      "[1] \"-----Mean -----:\"\n"
     ]
    },
    {
     "data": {
      "text/html": [
       "17.13"
      ],
      "text/latex": [
       "17.13"
      ],
      "text/markdown": [
       "17.13"
      ],
      "text/plain": [
       "[1] 17.13"
      ]
     },
     "metadata": {},
     "output_type": "display_data"
    },
    {
     "name": "stdout",
     "output_type": "stream",
     "text": [
      "[1] \"-----Minimum -----:\"\n"
     ]
    },
    {
     "data": {
      "text/html": [
       "4.381337"
      ],
      "text/latex": [
       "4.381337"
      ],
      "text/markdown": [
       "4.381337"
      ],
      "text/plain": [
       "[1] 4.381337"
      ]
     },
     "metadata": {},
     "output_type": "display_data"
    }
   ],
   "source": [
    "print('-----Maximum -----:')\n",
    "max(streamflow_statistics_output$mean_annual_total_flow_inches)\n",
    "print('-----Mean -----:')\n",
    "round( mean(streamflow_statistics_output$mean_annual_total_flow_inches),  2)\n",
    "print('-----Minimum -----:')\n",
    "min(streamflow_statistics_output$mean_annual_total_flow_inches)"
   ]
  },
  {
   "cell_type": "markdown",
   "metadata": {},
   "source": [
    "### ----------------------------------------------------------\n",
    "###           statistics for PRCNT total annual flow (inches)\n",
    "### ----------------------------------------------------------"
   ]
  },
  {
   "cell_type": "code",
   "execution_count": 305,
   "metadata": {},
   "outputs": [
    {
     "name": "stdout",
     "output_type": "stream",
     "text": [
      "[1] \"-----Maximum -----:\"\n"
     ]
    },
    {
     "data": {
      "text/html": [
       "73.93"
      ],
      "text/latex": [
       "73.93"
      ],
      "text/markdown": [
       "73.93"
      ],
      "text/plain": [
       "[1] 73.93"
      ]
     },
     "metadata": {},
     "output_type": "display_data"
    },
    {
     "name": "stdout",
     "output_type": "stream",
     "text": [
      "[1] \"-----Mean -----:\"\n"
     ]
    },
    {
     "data": {
      "text/html": [
       "69.29"
      ],
      "text/latex": [
       "69.29"
      ],
      "text/markdown": [
       "69.29"
      ],
      "text/plain": [
       "[1] 69.29"
      ]
     },
     "metadata": {},
     "output_type": "display_data"
    },
    {
     "name": "stdout",
     "output_type": "stream",
     "text": [
      "[1] \"-----Minimum -----:\"\n"
     ]
    },
    {
     "data": {
      "text/html": [
       "62.12"
      ],
      "text/latex": [
       "62.12"
      ],
      "text/markdown": [
       "62.12"
      ],
      "text/plain": [
       "[1] 62.12"
      ]
     },
     "metadata": {},
     "output_type": "display_data"
    }
   ],
   "source": [
    "print('-----Maximum -----:')\n",
    "max(streamflow_statistics_output$PRCNT_annual_total_flow_year_of_interest_inches)\n",
    "print('-----Mean -----:')\n",
    "round( mean(streamflow_statistics_output$PRCNT_annual_total_flow_year_of_interest_inches),  2)\n",
    "print('-----Minimum -----:')\n",
    "min(streamflow_statistics_output$PRCNT_annual_total_flow_year_of_interest_inches)"
   ]
  },
  {
   "cell_type": "markdown",
   "metadata": {},
   "source": [
    "### ----------------------------------------------------------\n",
    "###           statistics for PRCNT of July flow (year of interest from normal)\n",
    "### ----------------------------------------------------------"
   ]
  },
  {
   "cell_type": "code",
   "execution_count": 307,
   "metadata": {},
   "outputs": [
    {
     "name": "stdout",
     "output_type": "stream",
     "text": [
      "[1] \"-----Maximum -----:\"\n"
     ]
    },
    {
     "data": {
      "text/html": [
       "89.31"
      ],
      "text/latex": [
       "89.31"
      ],
      "text/markdown": [
       "89.31"
      ],
      "text/plain": [
       "[1] 89.31"
      ]
     },
     "metadata": {},
     "output_type": "display_data"
    },
    {
     "name": "stdout",
     "output_type": "stream",
     "text": [
      "[1] \"-----MEDIAN -----:\"\n"
     ]
    },
    {
     "data": {
      "text/html": [
       "40.72"
      ],
      "text/latex": [
       "40.72"
      ],
      "text/markdown": [
       "40.72"
      ],
      "text/plain": [
       "[1] 40.72"
      ]
     },
     "metadata": {},
     "output_type": "display_data"
    },
    {
     "name": "stdout",
     "output_type": "stream",
     "text": [
      "[1] \"-----Mean -----:\"\n"
     ]
    },
    {
     "data": {
      "text/html": [
       "47.62"
      ],
      "text/latex": [
       "47.62"
      ],
      "text/markdown": [
       "47.62"
      ],
      "text/plain": [
       "[1] 47.62"
      ]
     },
     "metadata": {},
     "output_type": "display_data"
    },
    {
     "name": "stdout",
     "output_type": "stream",
     "text": [
      "[1] \"-----Minimum -----:\"\n"
     ]
    },
    {
     "data": {
      "text/html": [
       "34.78"
      ],
      "text/latex": [
       "34.78"
      ],
      "text/markdown": [
       "34.78"
      ],
      "text/plain": [
       "[1] 34.78"
      ]
     },
     "metadata": {},
     "output_type": "display_data"
    }
   ],
   "source": [
    "print('-----Maximum -----:')\n",
    "max(streamflow_statistics_output$Jul_mean_PRCNT_flow_year_of_interest_ft3_sec)\n",
    "print('-----MEDIAN -----:')\n",
    "round( median(streamflow_statistics_output$Jul_mean_PRCNT_flow_year_of_interest_ft3_sec),  2)\n",
    "print('-----Mean -----:')\n",
    "round( mean(streamflow_statistics_output$Jul_mean_PRCNT_flow_year_of_interest_ft3_sec),  2)\n",
    "print('-----Minimum -----:')\n",
    "min(streamflow_statistics_output$Jul_mean_PRCNT_flow_year_of_interest_ft3_sec)"
   ]
  },
  {
   "cell_type": "markdown",
   "metadata": {},
   "source": [
    "### ----------------------------------------------------------\n",
    "###           statistics for PRCNT of August flow (year of interest from normal)\n",
    "### ----------------------------------------------------------"
   ]
  },
  {
   "cell_type": "code",
   "execution_count": 308,
   "metadata": {},
   "outputs": [
    {
     "name": "stdout",
     "output_type": "stream",
     "text": [
      "[1] \"-----Maximum -----:\"\n"
     ]
    },
    {
     "data": {
      "text/html": [
       "86.33"
      ],
      "text/latex": [
       "86.33"
      ],
      "text/markdown": [
       "86.33"
      ],
      "text/plain": [
       "[1] 86.33"
      ]
     },
     "metadata": {},
     "output_type": "display_data"
    },
    {
     "name": "stdout",
     "output_type": "stream",
     "text": [
      "[1] \"-----MEDIAN -----:\"\n"
     ]
    },
    {
     "data": {
      "text/html": [
       "53.83"
      ],
      "text/latex": [
       "53.83"
      ],
      "text/markdown": [
       "53.83"
      ],
      "text/plain": [
       "[1] 53.83"
      ]
     },
     "metadata": {},
     "output_type": "display_data"
    },
    {
     "name": "stdout",
     "output_type": "stream",
     "text": [
      "[1] \"-----Mean -----:\"\n"
     ]
    },
    {
     "data": {
      "text/html": [
       "59.79"
      ],
      "text/latex": [
       "59.79"
      ],
      "text/markdown": [
       "59.79"
      ],
      "text/plain": [
       "[1] 59.79"
      ]
     },
     "metadata": {},
     "output_type": "display_data"
    },
    {
     "name": "stdout",
     "output_type": "stream",
     "text": [
      "[1] \"-----Minimum -----:\"\n"
     ]
    },
    {
     "data": {
      "text/html": [
       "45.11"
      ],
      "text/latex": [
       "45.11"
      ],
      "text/markdown": [
       "45.11"
      ],
      "text/plain": [
       "[1] 45.11"
      ]
     },
     "metadata": {},
     "output_type": "display_data"
    }
   ],
   "source": [
    "print('-----Maximum -----:')\n",
    "max(streamflow_statistics_output$Aug_mean_PRCNT_flow_year_of_interest_ft3_sec)\n",
    "print('-----MEDIAN -----:')\n",
    "round( median(streamflow_statistics_output$Aug_mean_PRCNT_flow_year_of_interest_ft3_sec),  2)\n",
    "print('-----Mean -----:')\n",
    "round( mean(streamflow_statistics_output$Aug_mean_PRCNT_flow_year_of_interest_ft3_sec),  2)\n",
    "print('-----Minimum -----:')\n",
    "min(streamflow_statistics_output$Aug_mean_PRCNT_flow_year_of_interest_ft3_sec)"
   ]
  },
  {
   "cell_type": "markdown",
   "metadata": {},
   "source": [
    "### ----------------------------------------------------------\n",
    "###           statistics for PRCNT of September flow (year of interest from normal)\n",
    "### ----------------------------------------------------------"
   ]
  },
  {
   "cell_type": "code",
   "execution_count": 309,
   "metadata": {},
   "outputs": [
    {
     "name": "stdout",
     "output_type": "stream",
     "text": [
      "[1] \"-----Maximum -----:\"\n"
     ]
    },
    {
     "data": {
      "text/html": [
       "125.4"
      ],
      "text/latex": [
       "125.4"
      ],
      "text/markdown": [
       "125.4"
      ],
      "text/plain": [
       "[1] 125.4"
      ]
     },
     "metadata": {},
     "output_type": "display_data"
    },
    {
     "name": "stdout",
     "output_type": "stream",
     "text": [
      "[1] \"-----MEDIAN -----:\"\n"
     ]
    },
    {
     "data": {
      "text/html": [
       "84.44"
      ],
      "text/latex": [
       "84.44"
      ],
      "text/markdown": [
       "84.44"
      ],
      "text/plain": [
       "[1] 84.44"
      ]
     },
     "metadata": {},
     "output_type": "display_data"
    },
    {
     "name": "stdout",
     "output_type": "stream",
     "text": [
      "[1] \"-----Mean -----:\"\n"
     ]
    },
    {
     "data": {
      "text/html": [
       "87.75"
      ],
      "text/latex": [
       "87.75"
      ],
      "text/markdown": [
       "87.75"
      ],
      "text/plain": [
       "[1] 87.75"
      ]
     },
     "metadata": {},
     "output_type": "display_data"
    },
    {
     "name": "stdout",
     "output_type": "stream",
     "text": [
      "[1] \"-----Minimum -----:\"\n"
     ]
    },
    {
     "data": {
      "text/html": [
       "64.17"
      ],
      "text/latex": [
       "64.17"
      ],
      "text/markdown": [
       "64.17"
      ],
      "text/plain": [
       "[1] 64.17"
      ]
     },
     "metadata": {},
     "output_type": "display_data"
    }
   ],
   "source": [
    "i = c(1:3,5:8) # to exclude salmon creek - it is above average in summer due to CCT buy water rights to allow more pass through\n",
    "print('-----Maximum -----:')\n",
    "max(streamflow_statistics_output$Sep_mean_PRCNT_flow_year_of_interest_ft3_sec[i])\n",
    "print('-----MEDIAN -----:')\n",
    "round( median(streamflow_statistics_output$Sep_mean_PRCNT_flow_year_of_interest_ft3_sec[i]),  2)\n",
    "print('-----Mean -----:')\n",
    "round( mean(streamflow_statistics_output$Sep_mean_PRCNT_flow_year_of_interest_ft3_sec[i]),  2)\n",
    "print('-----Minimum -----:')\n",
    "min(streamflow_statistics_output$Sep_mean_PRCNT_flow_year_of_interest_ft3_sec[i])"
   ]
  },
  {
   "cell_type": "markdown",
   "metadata": {},
   "source": [
    "# ---------------------------------------------------------------------------------------------------\n",
    "#         Plot\n",
    "# ---------------------------------------------------------------------------------------------------\n"
   ]
  },
  {
   "cell_type": "code",
   "execution_count": 318,
   "metadata": {},
   "outputs": [
    {
     "name": "stdout",
     "output_type": "stream",
     "text": [
      "[1] 1\n",
      "[1] 12447200\n",
      "[1] 2\n",
      "[1] 12445900\n",
      "[1] 3\n",
      "[1] 12449950\n",
      "[1] 4\n",
      "[1] 12448998\n",
      "[1] 5\n",
      "[1] 12452990\n",
      "[1] 6\n",
      "[1] 12452890\n",
      "[1] 7\n",
      "[1] 12462500\n",
      "[1] 8\n",
      "[1] 12456500\n"
     ]
    },
    {
     "data": {
      "text/html": [
       "<strong>png:</strong> 2"
      ],
      "text/latex": [
       "\\textbf{png:} 2"
      ],
      "text/markdown": [
       "**png:** 2"
      ],
      "text/plain": [
       "png \n",
       "  2 "
      ]
     },
     "metadata": {},
     "output_type": "display_data"
    }
   ],
   "source": [
    "# options(repr.plot.width=2, repr.plot.height=4)\n",
    "\n",
    "# Opening the graphical device\n",
    "pdf(path_output, width = 7, height = 9)\n",
    "\n",
    "\n",
    "par(mfrow=c(5, 2), oma=c(0.5, 0.8, 0, 0.8), mar=c(3.5, 5, 3, 0.5),  xpd=FALSE)\n",
    "\n",
    "for(i in 1:nrow(USGS_sites)){\n",
    "\n",
    "    \n",
    "    # ------------------------------------------------------------\n",
    "    #        put blank plot in Entiat (since only one)\n",
    "    # ------------------------------------------------------------\n",
    "\n",
    "    if( i == 1){\n",
    "        plot.new()\n",
    "        par(xpd=TRUE)\n",
    "        plot.new()\n",
    "        legend(\"bottomright\", inset=c(0,-0.2), legend=c(\"median streamflow\", paste(\"streamflow in\", year_to_plot, sep=\" \") ), \n",
    "        lty=c(1, 1), title=\"Legend\", col=c(\"black\",\"blue\"), lwd=c(2.1, 1.4), seg.len = 3, cex=1.4)\n",
    "        \n",
    "    }\n",
    "    par(xpd=FALSE)\n",
    "    \n",
    "    # ------------------------------------------------------------\n",
    "    #          Prepare the Data\n",
    "    # ------------------------------------------------------------\n",
    "    print(i)\n",
    "    print(USGS_sites$USGS_site_no[i])\n",
    "    # ------------------------ generate the median snotel -------------------\n",
    "    streamflow_data_x = as.numeric(as.character(all_USGS_data[[as.numeric(USGS_sites$USGS_site_no[i])]]$'discharge_ft3_sec' ))\n",
    "    date_vector = all_USGS_data[[as.numeric(USGS_sites$USGS_site_no[i])]]$'datetime'\n",
    "    date_vector = as.POSIXct(date_vector, format=\"%Y-%m-%d\") #  convert to date time \n",
    "    \n",
    "    # ------------------------ generate the median snotel -------------------\n",
    "    median_streamflow_data_x = median_flow_function(streamflow_data_x, date_vector, year_to_plot)\n",
    "    \n",
    "    # ------------------------------------------------------------\n",
    "    #         Plot the Data\n",
    "    # ------------------------------------------------------------\n",
    "    max_ylim = max(median_streamflow_data_x$metric, na.rm=T) \n",
    "    max_ylim = max_ylim + max_ylim*0.3\n",
    "    \n",
    "    #xlim_min = as.Date(paste('10-01-',year_to_plot-1, sep=\"\"), format = '%m-%d-%Y')\n",
    "    #xlim_max = as.Date(paste('09-30-',year_to_plot, sep=\"\"), format = '%m-%d-%Y')\n",
    "\n",
    "    plot(median_streamflow_data_x$day_of_hydro_year[order(median_streamflow_data_x$day_of_hydro_year)],\n",
    "         median_streamflow_data_x$metric[order(median_streamflow_data_x$day_of_hydro_year)] , \n",
    "         type='l', col='black', lwd=2,\n",
    "        xlab=' ',ylab='streamflow  \\n (cubic feet per sec)', ylim=c(0, max_ylim), \n",
    "        xlim=c(min(median_streamflow_data_x$day_of_hydro_year) + 86400 * 2 , max(median_streamflow_data_x$day_of_hydro_year)  - 86400 * 2 ) )\n",
    "    grid(lwd=1.5)\n",
    "    lines(median_streamflow_data_x$day_of_hydro_year[order(median_streamflow_data_x$day_of_hydro_year)],\n",
    "         median_streamflow_data_x$metric[order(median_streamflow_data_x$day_of_hydro_year)], col='black',lwd=2.2)\n",
    "    \n",
    "    mtext(USGS_sites$Site_name[i], side=3, line=0.3, font=2, cex=0.95)\n",
    "    \n",
    "    lines(date_vector, streamflow_data_x, lwd=1.4, col='blue', lty=1)\n",
    "\n",
    "    # ------------------------------------------------------------\n",
    "    #      Insert title\n",
    "    # ------------------------------------------------------------\n",
    "    \n",
    "    if(i == 1){\n",
    "        \n",
    "        year_span = paste(year_to_plot-1,year_to_plot,sep=\" - Sept \")\n",
    "        mtext( paste(\"          Streamflow in Upper Columbia \\n from Oct \",year_span, sep=\"\") , side=3, line=9, cex=1.7, font=4)\n",
    "        \n",
    "    }\n",
    "    \n",
    "    # ------------------------------------------------------------\n",
    "    #      Insert legend\n",
    "    # ------------------------------------------------------------\n",
    "    \n",
    "    \n",
    "    if(i ==2){\n",
    "        \n",
    "        #legend(\"topright\", inset=c(0,-0.3), legend=c(\"median streamflowpack\", paste(\"streamflowpack in\", year_to_plot, sep=\" \") ), \n",
    "        #       lty=c(1, 2), title=\"Legend\", col=c(\"black\",\"blue\"), lwd=c(2, 2.5))\n",
    "        \n",
    "    }\n",
    "    \n",
    "    # ------------------------------------------------------------\n",
    "    #      Add Watershed Name\n",
    "    # ------------------------------------------------------------\n",
    "    \n",
    "    if(i == 1){\n",
    "        # mtext('                                                 Okanogan', side=3, line=1.5, font=2, cex=1.6)\n",
    "        mtext('                                              - - - - - - Okanogan - - - - - - ', side=3, line=1.5, font=2, cex=1.6)\n",
    "\n",
    "    }else if(i == 3){\n",
    "        #mtext('                                                 Methow', side=3, line=1.5, font=2, cex=1.6)\n",
    "        mtext('                                              - - - - - - Methow - - - - - - ', side=3, line=1.5, font=2, cex=1.6)\n",
    "    }else if(i == 5){\n",
    "        #mtext('                                                 Entiat', side=3, line=1.5, font=2, cex=1.6)\n",
    "        mtext('                                              - - - - - - Entiat - - - - - - ', side=3, line=1.5, font=2, cex=1.6)\n",
    "\n",
    "    }else if(i == 7){\n",
    "        #mtext('                                                 Wenatchee', side=3, line=1.5, font=2, cex=1.6)\n",
    "        mtext('                                             - - - - - - Wenatchee - - - - - - ', side=3, line=1.5, font=2, cex=1.6)\n",
    "    }\n",
    "        \n",
    " \n",
    "}\n",
    "\n",
    "\n",
    "\n",
    "\n",
    "# Closing the graphical device\n",
    "dev.off() \n"
   ]
  },
  {
   "cell_type": "code",
   "execution_count": 322,
   "metadata": {},
   "outputs": [
    {
     "name": "stdout",
     "output_type": "stream",
     "text": [
      "[1] 1\n",
      "[1] 12447200\n",
      "[1] 2\n",
      "[1] 12445900\n",
      "[1] 3\n",
      "[1] 12449950\n",
      "[1] 4\n",
      "[1] 12448998\n",
      "[1] 5\n",
      "[1] 12452990\n",
      "[1] 6\n",
      "[1] 12452890\n",
      "[1] 7\n",
      "[1] 12462500\n",
      "[1] 8\n",
      "[1] 12456500\n"
     ]
    },
    {
     "data": {
      "image/png": "[encoded data removed]",
      "text/plain": [
       "plot without title"
      ]
     },
     "metadata": {
      "image/png": {
       "height": 420,
       "width": 420
      }
     },
     "output_type": "display_data"
    }
   ],
   "source": [
    "# options(repr.plot.width=2, repr.plot.height=4)\n",
    "\n",
    "par(mfrow=c(5, 2), oma=c(0.5, 0.8, 0, 0.8), mar=c(3.5, 5, 3, 0.5),  xpd=FALSE)\n",
    "\n",
    "for(i in 1:nrow(USGS_sites)){\n",
    "\n",
    "    \n",
    "    # ------------------------------------------------------------\n",
    "    #        put blank plot in Entiat (since only one)\n",
    "    # ------------------------------------------------------------\n",
    "\n",
    "    if( i == 1){\n",
    "        plot.new()\n",
    "        par(xpd=TRUE)\n",
    "        plot.new()\n",
    "        legend(\"bottomright\", inset=c(0,-0.2), legend=c(\"median streamflow\", paste(\"streamflow in\", year_to_plot, sep=\" \") ), \n",
    "        lty=c(1, 1), title=\"Legend\", col=c(\"black\",\"blue\"), lwd=c(2.1, 1.4), seg.len = 3, cex=1.4)\n",
    "        \n",
    "    }\n",
    "    par(xpd=FALSE)\n",
    "    \n",
    "    # ------------------------------------------------------------\n",
    "    #          Prepare the Data\n",
    "    # ------------------------------------------------------------\n",
    "    print(i)\n",
    "    print(USGS_sites$USGS_site_no[i])\n",
    "    # ------------------------ generate the median snotel -------------------\n",
    "    streamflow_data_x = as.numeric(as.character(all_USGS_data[[as.numeric(USGS_sites$USGS_site_no[i])]]$'discharge_ft3_sec' ))\n",
    "    date_vector = all_USGS_data[[as.numeric(USGS_sites$USGS_site_no[i])]]$'datetime'\n",
    "    date_vector = as.POSIXct(date_vector, format=\"%Y-%m-%d\") #  convert to date time \n",
    "    \n",
    "    # ------------------------ generate the median snotel -------------------\n",
    "    median_streamflow_data_x = median_flow_function(streamflow_data_x, date_vector, year_to_plot)\n",
    "    \n",
    "    # ------------------------------------------------------------\n",
    "    #         Plot the Data\n",
    "    # ------------------------------------------------------------\n",
    "    max_ylim = max(median_streamflow_data_x$metric, na.rm=T) \n",
    "    max_ylim = max_ylim + max_ylim*0.3\n",
    "    \n",
    "    #xlim_min = as.Date(paste('10-01-',year_to_plot-1, sep=\"\"), format = '%m-%d-%Y')\n",
    "    #xlim_max = as.Date(paste('09-30-',year_to_plot, sep=\"\"), format = '%m-%d-%Y')\n",
    "\n",
    "    plot(median_streamflow_data_x$day_of_hydro_year[order(median_streamflow_data_x$day_of_hydro_year)],\n",
    "         median_streamflow_data_x$metric[order(median_streamflow_data_x$day_of_hydro_year)] , \n",
    "         type='l', col='black', lwd=2,\n",
    "        xlab=' ',ylab='streamflow  \\n (cubic feet per sec)', ylim=c(0, max_ylim), \n",
    "        xlim=c(min(median_streamflow_data_x$day_of_hydro_year) + 86400 * 2 , max(median_streamflow_data_x$day_of_hydro_year)  - 86400 * 2 ) )\n",
    "    grid(lwd=1.5)\n",
    "    lines(median_streamflow_data_x$day_of_hydro_year[order(median_streamflow_data_x$day_of_hydro_year)],\n",
    "         median_streamflow_data_x$metric[order(median_streamflow_data_x$day_of_hydro_year)], col='black',lwd=2.2)\n",
    "    \n",
    "    mtext(USGS_sites$Site_name[i], side=3, line=0.3, font=2, cex=0.95)\n",
    "    \n",
    "    lines(date_vector, streamflow_data_x, lwd=1.4, col='blue', lty=1)\n",
    "\n",
    "    # ------------------------------------------------------------\n",
    "    #      Insert title\n",
    "    # ------------------------------------------------------------\n",
    "    \n",
    "    if(i == 1){\n",
    "        \n",
    "        year_span = paste(year_to_plot-1,year_to_plot,sep=\" - Sept \")\n",
    "        mtext( paste(\"          Streamflow in Upper Columbia \\n from Oct \",year_span, sep=\"\") , side=3, line=9, cex=1.7, font=4)\n",
    "        \n",
    "    }\n",
    "    \n",
    "    # ------------------------------------------------------------\n",
    "    #      Insert legend\n",
    "    # ------------------------------------------------------------\n",
    "    \n",
    "    \n",
    "    if(i ==2){\n",
    "        \n",
    "        #legend(\"topright\", inset=c(0,-0.3), legend=c(\"median streamflowpack\", paste(\"streamflowpack in\", year_to_plot, sep=\" \") ), \n",
    "        #       lty=c(1, 2), title=\"Legend\", col=c(\"black\",\"blue\"), lwd=c(2, 2.5))\n",
    "        \n",
    "    }\n",
    "    \n",
    "    # ------------------------------------------------------------\n",
    "    #      Add Watershed Name\n",
    "    # ------------------------------------------------------------\n",
    "    \n",
    "    if(i == 1){\n",
    "        # mtext('                                                 Okanogan', side=3, line=1.5, font=2, cex=1.6)\n",
    "        mtext('                                              - - - - - - Okanogan - - - - - - ', side=3, line=1.5, font=2, cex=1.6)\n",
    "\n",
    "    }else if(i == 3){\n",
    "        #mtext('                                                 Methow', side=3, line=1.5, font=2, cex=1.6)\n",
    "        mtext('                                              - - - - - - Methow - - - - - - ', side=3, line=1.5, font=2, cex=1.6)\n",
    "    }else if(i == 5){\n",
    "        #mtext('                                                 Entiat', side=3, line=1.5, font=2, cex=1.6)\n",
    "        mtext('                                              - - - - - - Entiat - - - - - - ', side=3, line=1.5, font=2, cex=1.6)\n",
    "\n",
    "    }else if(i == 7){\n",
    "        #mtext('                                                 Wenatchee', side=3, line=1.5, font=2, cex=1.6)\n",
    "        mtext('                                             - - - - - - Wenatchee - - - - - - ', side=3, line=1.5, font=2, cex=1.6)\n",
    "    }\n",
    "        \n",
    " \n",
    "}\n",
    "\n",
    "\n",
    "\n",
    "\n",
    "\n"
   ]
  },
  {
   "cell_type": "code",
   "execution_count": null,
   "metadata": {},
   "outputs": [],
   "source": []
  }
 ],
 "metadata": {
  "kernelspec": {
   "display_name": "R",
   "language": "R",
   "name": "ir"
  },
  "language_info": {
   "codemirror_mode": "r",
   "file_extension": ".r",
   "mimetype": "text/x-r-source",
   "name": "R",
   "pygments_lexer": "r",
   "version": "4.0.2"
  }
 },
 "nbformat": 4,
 "nbformat_minor": 4
}
