{
 "cells": [
  {
   "cell_type": "markdown",
   "metadata": {},
   "source": [
    "# ---------------------------------------------------------------------------------------------------------------\n",
    "#\n",
    "#         R Script to Download and Graph USGS Stream Temperature data from the Upper Columbia\n",
    "#            Author: Ryan Niemeyer, Watershed Program Manager at the Upper Columbia Salmon Recovery Board\n",
    "#            Date: Fall 2020\n",
    "#\n",
    "# ---------------------------------------------------------------------------------------------------------------"
   ]
  },
  {
   "cell_type": "code",
   "execution_count": 1,
   "metadata": {},
   "outputs": [],
   "source": [
    "# ------------------ Year to Plot ------------------\n",
    "year_to_plot = 2020\n",
    "# --------------- Pathway to Output Figure --------------\n",
    "path_output = 'Y:/Ryan/Misc/Annual_Report/2019/usgs_stream_temperature_graph.pdf'\n",
    "path_output = 'Y:/Ryan/Outreach/Newsletter/Dec_2020/usgs_stream_temperature_2020B.pdf'"
   ]
  },
  {
   "cell_type": "code",
   "execution_count": 2,
   "metadata": {},
   "outputs": [
    {
     "name": "stderr",
     "output_type": "stream",
     "text": [
      "Warning message:\n",
      "\"package 'data.table' was built under R version 4.0.3\"\n"
     ]
    }
   ],
   "source": [
    "library(data.table)"
   ]
  },
  {
   "cell_type": "code",
   "execution_count": 3,
   "metadata": {},
   "outputs": [],
   "source": [
    "USGS_site = 'Y:/Science/DATA/USGS/Upper_Columbia_USGS_stream_temperature_sites_to_analyze.csv'\n",
    "USGS_sites = read.csv(USGS_site, header=T)"
   ]
  },
  {
   "cell_type": "code",
   "execution_count": 4,
   "metadata": {},
   "outputs": [
    {
     "data": {
      "text/html": [
       "<table>\n",
       "<caption>A data.frame: 5 × 4</caption>\n",
       "<thead>\n",
       "\t<tr><th scope=col>USGS_site_no</th><th scope=col>Site_name</th><th scope=col>City</th><th scope=col>subbasin</th></tr>\n",
       "\t<tr><th scope=col>&lt;int&gt;</th><th scope=col>&lt;chr&gt;</th><th scope=col>&lt;chr&gt;</th><th scope=col>&lt;chr&gt;</th></tr>\n",
       "</thead>\n",
       "<tbody>\n",
       "\t<tr><td>12442500</td><td>SIMILKAMEEN RIVER NEAR NIGHTHAWK, WA</td><td>Nighthawk</td><td>Okanogan </td></tr>\n",
       "\t<tr><td>12447200</td><td>OKANOGAN RIVER AT MALOTT, WA        </td><td>Malott   </td><td>Okanogan </td></tr>\n",
       "\t<tr><td>12447390</td><td>ANDREWS CREEK NEAR MAZAMA, WA       </td><td>Mazama   </td><td>Methow   </td></tr>\n",
       "\t<tr><td>12450480</td><td>METHOW RIVER NEAR PATEROS, WA       </td><td>Pateros  </td><td>Methow   </td></tr>\n",
       "\t<tr><td>12462500</td><td>WENATCHEE RIVER AT MONITOR, WA      </td><td>Monitor  </td><td>Wenatchee</td></tr>\n",
       "</tbody>\n",
       "</table>\n"
      ],
      "text/latex": [
       "A data.frame: 5 × 4\n",
       "\\begin{tabular}{llll}\n",
       " USGS\\_site\\_no & Site\\_name & City & subbasin\\\\\n",
       " <int> & <chr> & <chr> & <chr>\\\\\n",
       "\\hline\n",
       "\t 12442500 & SIMILKAMEEN RIVER NEAR NIGHTHAWK, WA & Nighthawk & Okanogan \\\\\n",
       "\t 12447200 & OKANOGAN RIVER AT MALOTT, WA         & Malott    & Okanogan \\\\\n",
       "\t 12447390 & ANDREWS CREEK NEAR MAZAMA, WA        & Mazama    & Methow   \\\\\n",
       "\t 12450480 & METHOW RIVER NEAR PATEROS, WA        & Pateros   & Methow   \\\\\n",
       "\t 12462500 & WENATCHEE RIVER AT MONITOR, WA       & Monitor   & Wenatchee\\\\\n",
       "\\end{tabular}\n"
      ],
      "text/markdown": [
       "\n",
       "A data.frame: 5 × 4\n",
       "\n",
       "| USGS_site_no &lt;int&gt; | Site_name &lt;chr&gt; | City &lt;chr&gt; | subbasin &lt;chr&gt; |\n",
       "|---|---|---|---|\n",
       "| 12442500 | SIMILKAMEEN RIVER NEAR NIGHTHAWK, WA | Nighthawk | Okanogan  |\n",
       "| 12447200 | OKANOGAN RIVER AT MALOTT, WA         | Malott    | Okanogan  |\n",
       "| 12447390 | ANDREWS CREEK NEAR MAZAMA, WA        | Mazama    | Methow    |\n",
       "| 12450480 | METHOW RIVER NEAR PATEROS, WA        | Pateros   | Methow    |\n",
       "| 12462500 | WENATCHEE RIVER AT MONITOR, WA       | Monitor   | Wenatchee |\n",
       "\n"
      ],
      "text/plain": [
       "  USGS_site_no Site_name                            City      subbasin \n",
       "1 12442500     SIMILKAMEEN RIVER NEAR NIGHTHAWK, WA Nighthawk Okanogan \n",
       "2 12447200     OKANOGAN RIVER AT MALOTT, WA         Malott    Okanogan \n",
       "3 12447390     ANDREWS CREEK NEAR MAZAMA, WA        Mazama    Methow   \n",
       "4 12450480     METHOW RIVER NEAR PATEROS, WA        Pateros   Methow   \n",
       "5 12462500     WENATCHEE RIVER AT MONITOR, WA       Monitor   Wenatchee"
      ]
     },
     "metadata": {},
     "output_type": "display_data"
    }
   ],
   "source": [
    "USGS_sites"
   ]
  },
  {
   "cell_type": "code",
   "execution_count": null,
   "metadata": {},
   "outputs": [],
   "source": []
  },
  {
   "cell_type": "code",
   "execution_count": null,
   "metadata": {},
   "outputs": [],
   "source": []
  },
  {
   "cell_type": "code",
   "execution_count": 5,
   "metadata": {},
   "outputs": [],
   "source": [
    "\n",
    "# ---------------- water year function ----------\n",
    "wtr_yr <- function(dates, start_month=10) {\n",
    "  # Convert dates into POSIXlt\n",
    "  dates.posix = as.POSIXlt(dates)\n",
    "  # Year offset\n",
    "  offset = ifelse(dates.posix$mon >= start_month - 1, 1, 0)\n",
    "  # Water year\n",
    "  adj.year = dates.posix$year + 1900 + offset\n",
    "  # Return the water year\n",
    "  adj.year\n",
    "}"
   ]
  },
  {
   "cell_type": "code",
   "execution_count": 6,
   "metadata": {},
   "outputs": [],
   "source": [
    "deg_C_to_deg_F = function(temp_x){\n",
    "    \n",
    "    temp_x = (temp_x * 1.8) + 32\n",
    "    return(temp_x)\n",
    "    \n",
    "}"
   ]
  },
  {
   "cell_type": "code",
   "execution_count": 7,
   "metadata": {},
   "outputs": [],
   "source": [
    "movingAverage <- function(x, n=1, centered=FALSE) {\n",
    "    \n",
    "    if (centered) {\n",
    "        before <- floor  ((n-1)/2)\n",
    "        after  <- ceiling((n-1)/2)\n",
    "    } else {\n",
    "        before <- n-1\n",
    "        after  <- 0\n",
    "    }\n",
    "\n",
    "    # Track the sum and count of number of non-NA items\n",
    "    s     <- rep(0, length(x))\n",
    "    count <- rep(0, length(x))\n",
    "    \n",
    "    # Add the centered data \n",
    "    new <- x\n",
    "    # Add to count list wherever there isn't a \n",
    "    count <- count + !is.na(new)\n",
    "    # Now replace NA_s with 0_s and add to total\n",
    "    new[is.na(new)] <- 0\n",
    "    s <- s + new\n",
    "    \n",
    "    # Add the data from before\n",
    "    i <- 1\n",
    "    while (i <= before) {\n",
    "        # This is the vector with offset values to add\n",
    "        new   <- c(rep(NA, i), x[1:(length(x)-i)])\n",
    "\n",
    "        count <- count + !is.na(new)\n",
    "        new[is.na(new)] <- 0\n",
    "        s <- s + new\n",
    "        \n",
    "        i <- i+1\n",
    "    }\n",
    "\n",
    "    # Add the data from after\n",
    "    i <- 1\n",
    "    while (i <= after) {\n",
    "        # This is the vector with offset values to add\n",
    "        new   <- c(x[(i+1):length(x)], rep(NA, i))\n",
    "       \n",
    "        count <- count + !is.na(new)\n",
    "        new[is.na(new)] <- 0\n",
    "        s <- s + new\n",
    "        \n",
    "        i <- i+1\n",
    "    }\n",
    "    \n",
    "    # return sum divided by count\n",
    "    s/count\n",
    "}\n"
   ]
  },
  {
   "cell_type": "code",
   "execution_count": 10,
   "metadata": {},
   "outputs": [],
   "source": [
    "\n",
    "# -------------------------- FUNCTION to calculate median flow ------------------------\n",
    "\n",
    "median_stream_temperature_function = function(metric_vector, date_vector, year_for_days){\n",
    "    \n",
    "    # --------------------- get day of year ---------------\n",
    "    day_of_year =  format(date_vector, format=\"%j\")\n",
    "    \n",
    "    # ----------------------- get median for that day of year -------------\n",
    "    data_x = as.data.frame(cbind(day_of_year, metric_vector))\n",
    "    data_x$metric_vector = as.numeric(data_x$metric_vector)\n",
    "    median_x = aggregate(data_x$metric_vector, list(data_x$day_of_year), FUN=median, na.rm=TRUE, na.action = NULL)\n",
    "    colnames(median_x) = c('day_of_year', 'metric')\n",
    "    \n",
    "    # -------------------- remove day 366 (from leap year) ------------\n",
    "    median_x = median_x[1:365,]\n",
    "    \n",
    "    # ------------- add day of hydrologic year --------------\n",
    "    median_x$day_of_hydro_year = median_x$day_of_year\n",
    "    \n",
    "    # ---------- days after Oct. 1 -------------\n",
    "    days_previous_calendar_year = which(median_x$day_of_year > 274)\n",
    "    median_x$day_of_hydro_year[days_previous_calendar_year] = paste(median_x$day_of_hydro_year[days_previous_calendar_year], year_for_days - 1, sep=\"-\")\n",
    "    \n",
    "    # ---------- days before Oct. 1 -------------\n",
    "    days_during_calendar_year = which(median_x$day_of_year <= 274)\n",
    "    median_x$day_of_hydro_year[days_during_calendar_year] = paste(median_x$day_of_hydro_year[days_during_calendar_year], year_for_days, sep=\"-\")\n",
    "    # --------------- get date time -------------\n",
    "    median_x$day_of_hydro_year =  as.POSIXct(median_x$day_of_hydro_year, format=\"%j-%Y\",tz=\"America/Los_Angeles\")\n",
    "    \n",
    "    # ----------------- return the data ------------------\n",
    "    return(median_x)\n",
    "    \n",
    "}\n"
   ]
  },
  {
   "cell_type": "code",
   "execution_count": 11,
   "metadata": {},
   "outputs": [],
   "source": [
    "\n",
    "# ---------------------------------------------------------------------------------------------------\n",
    "#          Download USGS data \n",
    "# ---------------------------------------------------------------------------------------------------\n",
    "\n",
    "FXN_download_stream_temperature = function(site_x, start_date_x, end_date_x, use_provisional, metric_to_plot){\n",
    "    \n",
    "    # ------ choose column to plot based on metric ----------\n",
    "    if(metric_to_plot == 'mean'){colx = 8}\n",
    "    if(metric_to_plot == 'max'){colx = 4}\n",
    "    if(metric_to_plot == 'min'){colx = 6}    \n",
    "    if(metric_to_plot == 'mean2'){colx = 14}\n",
    "    if(metric_to_plot == 'max2'){colx = 10}\n",
    "    if(metric_to_plot == 'min2'){colx = 12} \n",
    "    \n",
    "    # ------------ set up conversions ----------\n",
    "    #ft3_to_mm3 = 2.832e+7\n",
    "    sec_to_day = 86400\n",
    "    #mi2_to_ft2 = 27878400\n",
    "    #mi2_to_mm2 = 2589988110000\n",
    "\n",
    "    # --------- re-calculate area -------\n",
    "    #area_catchment_sq_ft = area_catchment_sq_miles * mi2_to_ft2  # convert square miles to square feet\n",
    "    #area_catchment_sq_mm = area_catchment_sq_miles * mi2_to_mm2  # convert square miles to square mm\n",
    "\n",
    "    # ---------- Update path ----------\n",
    "    path_origx = 'https://waterdata.usgs.gov/nwis/dv?cb_00010=on&format=rdb&site_no=SITE_NUMBER&referred_module=sw&period=&begin_date=START_DATE&end_date=END_DATE'\n",
    "    path_updated_x = gsub('SITE_NUMBER', site_x, path_origx)\n",
    "    path_updated_x = gsub('START_DATE', start_date_x, path_updated_x)\n",
    "    path_updated_x = gsub('END_DATE', end_date_x, path_updated_x)\n",
    "\n",
    "    # ------------ Download Data ----------\n",
    "    datax = fread(path_updated_x)\n",
    "    datax = as.data.frame(datax)\n",
    "    datax = datax[c(3:nrow(datax)),]  # remove the first two rows that aren't data\n",
    "\n",
    "    # ----- use provisional or not --------\n",
    "    if(use_provisional == TRUE){\n",
    "        datax2 = datax[,c(3,colx)]\n",
    "    }else{\n",
    "        x = which(datax[,colx+1]=='A')  # A is that means it's been processed, P means it is provisonal\n",
    "        datax2 = datax[x,c(3,colx)]\n",
    "    }\n",
    "\n",
    "    # ----- assign names and calculate with updated units -----------\n",
    "    colnames(datax2) = c('datetime','stream_temperature_degC') # set column mames\n",
    "    datax2$stream_temperature_degC = as.numeric(as.character(datax2$stream_temperature_degC))   # set as numeric\n",
    "    #datax2$discharge_mm_day =  datax2$discharge_ft3_sec*sec_to_day*ft3_to_mm3/area_catchment_sq_mm    # convert to mm per day flow\n",
    "\n",
    "    # ------- set date time ------\n",
    "    datax2$datetime2 = as.POSIXct(datax2$datetime, format = \"%Y-%m-%d\", tz='UTC')\n",
    "    datax2$wtr_yr = wtr_yr(datax2$datetime2, start_month = 10)\n",
    "\n",
    "    # ---------- output data --------------\n",
    "    print('dimensions of data:')\n",
    "    print(dim(datax2))\n",
    "    return(datax2)\n",
    "}"
   ]
  },
  {
   "cell_type": "code",
   "execution_count": 84,
   "metadata": {},
   "outputs": [],
   "source": [
    "\n",
    "# ------------------ FUNCTION to calculate temperature statistics ----------------------\n",
    "\n",
    "\n",
    "USGS_stream_temperature_statistics = function(stream_temperature_data_x, date_vector, year_to_plot){\n",
    "    \n",
    "    # ----------- water year -----------\n",
    "    date_data_wtr_yr = wtr_yr(date_vector)\n",
    "\n",
    "    \n",
    "    # -------- calendar year -------\n",
    "    date_data_calendar_yr = format(date_vector, '%Y')\n",
    "\n",
    "    # ---------------------------------------------------------------------------------\n",
    "    #        Annual peak_temperature statistics          \n",
    "    # ---------------------------------------------------------------------------------\n",
    "\n",
    "    # ----------------- calculate annual peak 7-day average temperature -----------------\n",
    "    seven_day_average  = movingAverage(stream_temperature_data_x, n=7)                   # calculate 7-day average temperature (ft3 per sec)\n",
    "    annual_max = aggregate(seven_day_average, list(date_data_wtr_yr), max, na.rm=TRUE)       # get max 7-day average temperature\n",
    "    annual_max_year = round( annual_max[which(annual_max[ ,1] == year_to_plot),2], 2)   # peak temperature for the \"year to plot\"\n",
    "    mean_annual_max = mean(annual_max[,2], na.rm=T)                   # mean peak temperature across all years\n",
    "    prcnt_annual_max_year = round((annual_max_year/mean_annual_max) * 100, 2)  # percent difference in year to plot from mean year\n",
    "    delta_annual_max_year = round((annual_max_year - mean_annual_max), 2)    # the absolute difference between year to plot and average\n",
    "    \n",
    "    # -------------- day of annual peak_temperature ---------------\n",
    "    day_of_annual_max = c()\n",
    "    unique_years = unique(date_data_wtr_yr)\n",
    "    for(i in 1:length(unique_years)){\n",
    "\n",
    "        # ----------------- get peak temperature day for this year -----------------\n",
    "        year_x = unique_years[i]\n",
    "        x = which(date_data_wtr_yr == unique_years[i])\n",
    "        \n",
    "        # -------------- only use years with at least 300 days -----\n",
    "        if(length(x) > 300){\n",
    "            # ----- get data for that year -----\n",
    "            annual_temperature = seven_day_average[x]\n",
    "            # -------------- calculate calendar day of peak -----------\n",
    "            day_of_peak = which(annual_temperature == annual_max[i,2])\n",
    "            day_of_peak = day_of_peak[1] - 92 # get calendary year day, from water year day\n",
    "            # ------------------ calculate month and day ---------\n",
    "            day_of_peak_2 = paste(day_of_peak,  year_x, sep=\"-\")\n",
    "            day_of_peak_2 = as.Date(day_of_peak_2, format='%j-%Y')\n",
    "            day_of_peak_2 = format(day_of_peak_2, \"%d-%b\") # output as day and month\n",
    "            # ------------- output data --------\n",
    "            output_row = c(unique_years[i], day_of_peak[1], day_of_peak_2[1])\n",
    "            day_of_annual_max = rbind(day_of_annual_max, output_row)\n",
    "        }\n",
    "    }\n",
    "    \n",
    "    # ------------------------- calculate for this year -----------\n",
    "    peak_temperature_day = as.numeric(day_of_annual_max[which(day_of_annual_max[ ,1] == year_to_plot),2])\n",
    "    mean_peak_temperature_ALL = round(  ( mean(as.numeric(day_of_annual_max[,2]), na.rm=T) ), 2)\n",
    "    delta_peak_temperature_day = round(peak_temperature_day - mean_peak_temperature_ALL, 2) # days difference from average\n",
    "    years_with_enough_data = nrow(day_of_annual_max) \n",
    "    \n",
    "    # ---------------------------------------------------------------------------------\n",
    "    #        Annual low temperature statistics          \n",
    "    # ---------------------------------------------------------------------------------\n",
    "\n",
    "    # ----------------- calculate annual peak snow statistics -----------------\n",
    "    annual_min = aggregate(seven_day_average, list(date_data_wtr_yr), min, na.rm=TRUE)   # get annual 7-day min each year (ft3 per sec)\n",
    "    annual_min_year = round( annual_min[which(annual_min[ ,1] == year_to_plot),2], 2)   # annual 7-day min for the year to plot\n",
    "    mean_annual_min = mean(annual_min[,2], na.rm=T)      # mean annual min 7-day temperature across all years\n",
    "    prcnt_annual_min_year = round((annual_min_year/mean_annual_min) * 100, 2)    # percent difference in year to plot from mean year\n",
    "    delta_annual_min_year = round((annual_min_year - mean_annual_min), 2)    # the absolute difference between year to plot and average\n",
    "    \n",
    "    # -------------- day of annual low temperature---------------\n",
    "    day_of_annual_min = c()\n",
    "    unique_years = unique(date_data_wtr_yr)\n",
    "    for(i in 1:length(unique_years)){\n",
    "\n",
    "        # ----------------- get low temperature day for this year -----------------\n",
    "        year_x = unique_years[i]\n",
    "        x = which(date_data_wtr_yr == unique_years[i])\n",
    "        \n",
    "        # -------------- only use years with at least 300 days -----\n",
    "        if(length(x) > 300){\n",
    "            # ----- get data for that year -----\n",
    "            annual_temperature = seven_day_average[x]\n",
    "            # -------------- calculate calendar day of low temperature -----------\n",
    "            day_of_low = which(annual_temperature == annual_min[i,2])\n",
    "            day_of_low = day_of_low[1] - 92 # get calendary year day, from water year day\n",
    "            # ------------------ calculate month and day ---------\n",
    "            day_of_low_2 = paste(day_of_low,  year_x, sep=\"-\")\n",
    "            day_of_low_2 = as.Date(day_of_low_2, format='%j-%Y')\n",
    "            day_of_low_2 = format(day_of_low_2, \"%d-%b\") # output as day and month\n",
    "            # ------------- output data --------\n",
    "            output_row = c(unique_years[i], day_of_low[1], day_of_low_2[1])\n",
    "            day_of_annual_min = rbind(day_of_annual_min, output_row)\n",
    "        }\n",
    "\n",
    "    }\n",
    "    \n",
    "    # ------------------------- calculate for this year -----------\n",
    "    low_temperature_day = as.numeric(day_of_annual_min[which(day_of_annual_min[ ,1] == year_to_plot),2])\n",
    "    mean_low_temperature_ALL = round(  ( mean(as.numeric(day_of_annual_min[,2]), na.rm=T) ), 2)\n",
    "    delta_low_temperature_day = round(low_temperature_day - mean_low_temperature_ALL, 2) # days difference from average\n",
    "    \n",
    "    # ---------------------------------------------------------------------------------\n",
    "    #           Calculate average annual stream temperature\n",
    "    # ---------------------------------------------------------------------------------\n",
    "\n",
    "    annual_average = aggregate(stream_temperature_data_x, list(date_data_wtr_yr), sum, na.rm=TRUE) # total flwo for all years (in mm)\n",
    "    annual_average_year = round( annual_average[which(annual_average[ ,1] == year_to_plot),2], 2)   # total annual temperature in year of interest\n",
    "    mean_annual_average = mean(annual_average[,2], na.rm=T)    # mean of total annual temperature\n",
    "    prcnt_annual_average_year = round((annual_average_year/mean_annual_average) * 100, 2)   #  percent departure from average/normal\n",
    "    delta_annual_average_year = round((annual_average_year - mean_annual_average), 2)   # absolute departure from normal/difference\n",
    "    \n",
    "    # ---------------------------------------------------------------------------------\n",
    "    #           Calculate monthly statistics (esp Aug and Sept)\n",
    "    # ---------------------------------------------------------------------------------\n",
    "\n",
    "    monthly_data = aggregate(stream_temperature_data_x, list(format(date_vector, '%m')), mean, na.rm=TRUE)\n",
    "    unique_years = unique(date_data_calendar_yr)\n",
    "    # -------------- day of annual low temperature---------------\n",
    "    monthly_temperature_df = c()\n",
    "    for(i in 1:length(unique_years)){\n",
    "\n",
    "        # ----------------- get data for this year -----------------\n",
    "        year_x = unique_years[i]\n",
    "        x = which(date_data_calendar_yr == unique_years[i])\n",
    "        \n",
    "        # -------------- only use years with at least 300 days -----\n",
    "        if(length(x) > 300){\n",
    "            annual_temperature = stream_temperature_data_x[x]\n",
    "\n",
    "            # -------------- calculate monthly means -----------\n",
    "            monthly_temperature_x_i = aggregate(annual_temperature, list(format(date_vector[x], '%m')), mean, na.rm=TRUE)\n",
    "            monthly_temperature_x = round(monthly_temperature_x_i[,2], 1)\n",
    "\n",
    "            # ------------- output data --------\n",
    "            if(nrow(monthly_temperature_x_i)<12){next}\n",
    "            output_row = c(unique_years[i], monthly_temperature_x)\n",
    "            monthly_temperature_df = rbind(monthly_temperature_df, output_row)\n",
    "        }\n",
    "    }\n",
    "    \n",
    "    # ------------------------- calculate means_for_each_month-----------\n",
    "    monthly_temperature_df = as.data.frame(monthly_temperature_df)\n",
    "    i = seq(1:13)\n",
    "    monthly_temperature_df[ , i] = apply(monthly_temperature_df[ , i], 2,function(x) as.numeric(as.character(x))) # convert all to numeric\n",
    "    monthly_temperature_df_MEANS = colMeans(monthly_temperature_df)  # calculate mmean onthly temperature\n",
    "                                                                    \n",
    "    # ---------------- if year_to_plot is present in data -------------\n",
    "    if(  any(is.element(monthly_temperature_df[,1], year_to_plot) == TRUE) == TRUE  ){\n",
    "        # ---------- get this month -----------\n",
    "        monthly_temperature_year_to_plot = monthly_temperature_df[which(monthly_temperature_df[,1] == year_to_plot),2:13] # monthly temperatures for year of interest\n",
    "        delta_monthly_temperature_year = round(monthly_temperature_year_to_plot - monthly_temperature_df_MEANS[2:13] , 2) # days difference from average\n",
    "        delta_monthly_temperature_year_PRCNT = round((monthly_temperature_year_to_plot/monthly_temperature_df_MEANS[2:13])*100, 2)\n",
    "\n",
    "    # ---------------- if year_to_plot is NOT present in data -------------\n",
    "    }else{\n",
    "        # ---------- fill in month w/ NAs -----------\n",
    "        monthly_temperature_year_to_plot = rep(NA,length.out = 12) # monthly temperatures for year of interest\n",
    "        delta_monthly_temperature_year =  rep(NA,length.out = 12) # days difference from average\n",
    "        delta_monthly_temperature_year_PRCNT = rep(NA,length.out = 12) \n",
    "    }               \n",
    "                                                                 \n",
    "    # ---------------------------------------------------------------------------------\n",
    "    #      Output         \n",
    "    # ---------------------------------------------------------------------------------\n",
    "    output_x = as.data.frame(c(annual_max_year,   mean_annual_max,   prcnt_annual_max_year,   delta_annual_max_year,  # peak temperature statistics\n",
    "                                 peak_temperature_day,   mean_peak_temperature_ALL,   delta_peak_temperature_day,   years_with_enough_data,                         # peak temperature day statistics\n",
    "                                 annual_min_year,   mean_annual_min,    prcnt_annual_min_year,   delta_annual_min_year,  # low temperature statistics\n",
    "                                 low_temperature_day, mean_low_temperature_ALL, delta_low_temperature_day,                            # low temperature day statistics\n",
    "                                 annual_average_year,  mean_annual_average, prcnt_annual_average_year, delta_annual_average_year ,   # average annual temperature statistics\n",
    "                                 monthly_temperature_year_to_plot, monthly_temperature_df_MEANS[2:13],  delta_monthly_temperature_year_PRCNT, delta_monthly_temperature_year       # monthly temperatures (EACH vector has 12 for each month)\n",
    "                ))\n",
    "                                         \n",
    "    # ----- if data frame organized by rows -------\n",
    "    if( nrow(output_x) > 1){\n",
    "        output_x = t(output_x)\n",
    "    }      \n",
    "    rownames(output_x) = 1 # give the row a simple name\n",
    "    colnames(output_x) = c('peak_temperature_7day_avg_year_of_interest_deg_C',    'average_7day_avg_peak_temperature_deg_C',     'PRCNT_peak_temperature_year_of_interest_deg_C',     'DELTA_peak_temperature_year_of_interest_deg_C',  # peak temperature statistics\n",
    "                                 'peak_temperature_day_year_of_interest',      'average_peak_temperature_day_of_year',     'DELTA_peak_temperature_day_year_of_interest',    'years_with_sufficient_data_for_analysis',                        # peak temperature day statistics\n",
    "                                'low_temperature_7day_avg_year_of_interest_deg_C', 'average_7day_avg_low_temperature_deg_C', 'PRCNT_low_temperature_year_of_interest_deg_C', 'DELTA_low_temperature_year_of_interest_deg_C',  # low temperature statistics\n",
    "                                 'low_temperature_day_year_of_interest',  'average_low_temperature_day_of_year',  'DELTA_low_temperature_day_year_of_interest',                            # low temperature day statistics\n",
    "                                 'annual_total_temperature_year_of_interest_inches',  'mean_annual_total_temperature_inches', 'PRCNT_annual_total_temperature_year_of_interest_inches',   'DELTA_annual_total_temperature_year_of_interest_inches',    # total annual discharge statistics\n",
    "                                'Jan_mean_temperature_year_of_interest_deg_C', 'Feb_mean_temperature_year_of_interest_deg_C', 'Mar_mean_temperature_year_of_interest_deg_C', 'Apr_mean_temperature_year_of_interest_deg_C', \n",
    "                           'May_mean_temperature_year_of_interest_deg_C', 'Jun_mean_temperature_year_of_interest_deg_C', 'Jul_mean_temperature_year_of_interest_deg_C', 'Aug_mean_temperature_year_of_interest_deg_C', \n",
    "                           'Sep_mean_temperature_year_of_interest_deg_C', 'Oct_mean_temperature_year_of_interest_deg_C', 'Nov_mean_temperature_year_of_interest_deg_C', 'Dec_mean_temperature_year_of_interest_deg_C',\n",
    "                            'Jan_mean_temperature_all_years_deg_C', 'Feb_mean_temperature_all_years_deg_C', 'Mar_mean_temperature_all_years_deg_C', 'Apr_mean_temperature_all_years_deg_C', \n",
    "                           'May_mean_temperature_all_years_deg_C', 'Jun_mean_temperature_all_years_deg_C', 'Jul_mean_temperature_all_years_deg_C', 'Aug_mean_temperature_all_years_deg_C', \n",
    "                           'Sep_mean_temperature_all_years_deg_C', 'Oct_mean_temperature_all_years_deg_C', 'Nov_mean_temperature_all_years_deg_C', 'Dec_mean_temperature_all_years_deg_C',\n",
    "                           'Jan_mean_PRCNT_temperature_year_of_interest_deg_C', 'Feb_mean_PRCNT_temperature_year_of_interest_deg_C', 'Mar_mean_PRCNT_temperature_year_of_interest_deg_C', 'Apr_mean_PRCNT_temperature_year_of_interest_deg_C', \n",
    "                           'May_mean_PRCNT_temperature_year_of_interest_deg_C', 'Jun_mean_PRCNT_temperature_year_of_interest_deg_C', 'Jul_mean_PRCNT_temperature_year_of_interest_deg_C', 'Aug_mean_PRCNT_temperature_year_of_interest_deg_C', \n",
    "                           'Sep_mean_PRCNT_temperature_year_of_interest_deg_C', 'Oct_mean_PRCNT_temperature_year_of_interest_deg_C', 'Nov_mean_PRCNT_temperature_year_of_interest_deg_C', 'Dec_mean_PRCNT_temperature_year_of_interest_deg_C',\n",
    "                            'Jan_mean_DELTA_temperature_year_of_interest_deg_C', 'Feb_mean_DELTA_temperature_year_of_interest_deg_C', 'Mar_mean_DELTA_temperature_year_of_interest_deg_C', 'Apr_mean_DELTA_temperature_year_of_interest_deg_C', \n",
    "                           'May_mean_DELTA_temperature_year_of_interest_deg_C', 'Jun_mean_DELTA_temperature_year_of_interest_deg_C', 'Jul_mean_DELTA_temperature_year_of_interest_deg_C', 'Aug_mean_DELTA_temperature_year_of_interest_deg_C', \n",
    "                           'Sep_mean_DELTA_temperature_year_of_interest_deg_C', 'Oct_mean_DELTA_temperature_year_of_interest_deg_C', 'Nov_mean_DELTA_temperature_year_of_interest_deg_C', 'Dec_mean_DELTA_temperature_year_of_interest_deg_C'\n",
    "\n",
    "                               # monthly temperatures (EACH vector has 12 for each month)\n",
    "                                 )\n",
    "    \n",
    "    #print(output_x)\n",
    "    return(output_x)\n",
    "    \n",
    "}\n",
    "   \n"
   ]
  },
  {
   "cell_type": "code",
   "execution_count": null,
   "metadata": {},
   "outputs": [],
   "source": []
  },
  {
   "cell_type": "markdown",
   "metadata": {},
   "source": [
    "# ----------------------------------------------------------------------------------\n",
    "#         Read in Data\n",
    "# ----------------------------------------------------------------------------------"
   ]
  },
  {
   "cell_type": "code",
   "execution_count": 41,
   "metadata": {},
   "outputs": [
    {
     "name": "stdout",
     "output_type": "stream",
     "text": [
      "[1] \"starting download of....\"\n",
      "[1] 12442500\n"
     ]
    },
    {
     "name": "stderr",
     "output_type": "stream",
     "text": [
      "Warning message in fread(path_updated_x):\n",
      "\"Detected 1 column names but the data has 9 columns (i.e. invalid file). Added 8 extra default column names at the end.\"\n"
     ]
    },
    {
     "name": "stdout",
     "output_type": "stream",
     "text": [
      "[1] \"dimensions of data:\"\n",
      "[1] 2461    4\n",
      "[1] \"         DONE                 \"\n",
      "[1] \"       \"\n",
      "[1] \"starting download of....\"\n",
      "[1] 12447200\n"
     ]
    },
    {
     "name": "stderr",
     "output_type": "stream",
     "text": [
      "Warning message in fread(path_updated_x):\n",
      "\"Detected 1 column names but the data has 9 columns (i.e. invalid file). Added 8 extra default column names at the end.\"\n",
      "Warning message in FXN_download_stream_temperature(USGS_sites$USGS_site_no[i], year_start, :\n",
      "\"NAs introduced by coercion\"\n"
     ]
    },
    {
     "name": "stdout",
     "output_type": "stream",
     "text": [
      "[1] \"dimensions of data:\"\n",
      "[1] 5720    4\n",
      "[1] \"         DONE                 \"\n",
      "[1] \"       \"\n",
      "[1] \"starting download of....\"\n",
      "[1] 12447390\n"
     ]
    },
    {
     "name": "stderr",
     "output_type": "stream",
     "text": [
      "Warning message in fread(path_updated_x):\n",
      "\"Detected 1 column names but the data has 9 columns (i.e. invalid file). Added 8 extra default column names at the end.\"\n"
     ]
    },
    {
     "name": "stdout",
     "output_type": "stream",
     "text": [
      "[1] \"dimensions of data:\"\n",
      "[1] 3373    4\n",
      "[1] \"         DONE                 \"\n",
      "[1] \"       \"\n",
      "[1] \"starting download of....\"\n",
      "[1] 12450480\n"
     ]
    },
    {
     "name": "stderr",
     "output_type": "stream",
     "text": [
      "Warning message in fread(path_updated_x):\n",
      "\"Detected 1 column names but the data has 9 columns (i.e. invalid file). Added 8 extra default column names at the end.\"\n"
     ]
    },
    {
     "name": "stdout",
     "output_type": "stream",
     "text": [
      "[1] \"dimensions of data:\"\n",
      "[1] 2590    4\n",
      "[1] \"         DONE                 \"\n",
      "[1] \"       \"\n",
      "[1] \"starting download of....\"\n",
      "[1] 12462500\n"
     ]
    },
    {
     "name": "stderr",
     "output_type": "stream",
     "text": [
      "Warning message in fread(path_updated_x):\n",
      "\"Detected 1 column names but the data has 9 columns (i.e. invalid file). Added 8 extra default column names at the end.\"\n"
     ]
    },
    {
     "name": "stdout",
     "output_type": "stream",
     "text": [
      "[1] \"dimensions of data:\"\n",
      "[1] 1565    4\n",
      "[1] \"         DONE                 \"\n",
      "[1] \"       \"\n"
     ]
    }
   ],
   "source": [
    "all_USGS_data = list() # creates a list\n",
    "\n",
    "for(i in 1:nrow(USGS_sites)){\n",
    "    \n",
    "    year_start = '1980-01-01'\n",
    "    year_end = substring(as.character(Sys.time()), 1, 10)\n",
    "    \n",
    "    # ---------------- read in data and add to master list (all_snotel_data) --------\n",
    "    site_x = USGS_sites$USGS_site_no[i]\n",
    "    if(site_x == 12439500){  # okanogan - orville site has \"auxillary\" data\n",
    "        metric = 'mean2'\n",
    "    }else{\n",
    "        metric = 'mean'\n",
    "    }\n",
    "    \n",
    "    # ---------------- read in data and add to master list (all_snotel_data) --------\n",
    "    site_x = USGS_sites$USGS_site_no[i]\n",
    "    if(site_x == 12442500){  # Okanogan - Similkameen (Nighthaw) has a couple years in 1980s, going to skip\n",
    "        year_start = '1990-01-01'\n",
    "    }\n",
    "    \n",
    "    print('starting download of....')\n",
    "    print(site_x)\n",
    "    all_USGS_data[[site_x]] = FXN_download_stream_temperature(USGS_sites$USGS_site_no[i],\n",
    "                                                                                year_start, year_end, TRUE, metric)\n",
    "    print(\"         DONE                 \")\n",
    "    print(\"       \")\n",
    "}\n"
   ]
  },
  {
   "cell_type": "code",
   "execution_count": 47,
   "metadata": {},
   "outputs": [],
   "source": [
    "datx = all_USGS_data[[12442500]]"
   ]
  },
  {
   "cell_type": "code",
   "execution_count": 50,
   "metadata": {},
   "outputs": [
    {
     "data": {
      "text/html": [
       "<table>\n",
       "<caption>A data.frame: 6 × 4</caption>\n",
       "<thead>\n",
       "\t<tr><th></th><th scope=col>datetime</th><th scope=col>stream_temperature_degC</th><th scope=col>datetime2</th><th scope=col>wtr_yr</th></tr>\n",
       "\t<tr><th></th><th scope=col>&lt;chr&gt;</th><th scope=col>&lt;dbl&gt;</th><th scope=col>&lt;dttm&gt;</th><th scope=col>&lt;dbl&gt;</th></tr>\n",
       "</thead>\n",
       "<tbody>\n",
       "\t<tr><th scope=row>2458</th><td>2020-11-19</td><td>3.4</td><td>2020-11-19</td><td>2021</td></tr>\n",
       "\t<tr><th scope=row>2459</th><td>2020-11-20</td><td>3.0</td><td>2020-11-20</td><td>2021</td></tr>\n",
       "\t<tr><th scope=row>2460</th><td>2020-11-21</td><td>3.1</td><td>2020-11-21</td><td>2021</td></tr>\n",
       "\t<tr><th scope=row>2461</th><td>2020-11-22</td><td>3.2</td><td>2020-11-22</td><td>2021</td></tr>\n",
       "\t<tr><th scope=row>2462</th><td>2020-11-23</td><td>3.1</td><td>2020-11-23</td><td>2021</td></tr>\n",
       "\t<tr><th scope=row>2463</th><td>2020-11-24</td><td>3.1</td><td>2020-11-24</td><td>2021</td></tr>\n",
       "</tbody>\n",
       "</table>\n"
      ],
      "text/latex": [
       "A data.frame: 6 × 4\n",
       "\\begin{tabular}{r|llll}\n",
       "  & datetime & stream\\_temperature\\_degC & datetime2 & wtr\\_yr\\\\\n",
       "  & <chr> & <dbl> & <dttm> & <dbl>\\\\\n",
       "\\hline\n",
       "\t2458 & 2020-11-19 & 3.4 & 2020-11-19 & 2021\\\\\n",
       "\t2459 & 2020-11-20 & 3.0 & 2020-11-20 & 2021\\\\\n",
       "\t2460 & 2020-11-21 & 3.1 & 2020-11-21 & 2021\\\\\n",
       "\t2461 & 2020-11-22 & 3.2 & 2020-11-22 & 2021\\\\\n",
       "\t2462 & 2020-11-23 & 3.1 & 2020-11-23 & 2021\\\\\n",
       "\t2463 & 2020-11-24 & 3.1 & 2020-11-24 & 2021\\\\\n",
       "\\end{tabular}\n"
      ],
      "text/markdown": [
       "\n",
       "A data.frame: 6 × 4\n",
       "\n",
       "| <!--/--> | datetime &lt;chr&gt; | stream_temperature_degC &lt;dbl&gt; | datetime2 &lt;dttm&gt; | wtr_yr &lt;dbl&gt; |\n",
       "|---|---|---|---|---|\n",
       "| 2458 | 2020-11-19 | 3.4 | 2020-11-19 | 2021 |\n",
       "| 2459 | 2020-11-20 | 3.0 | 2020-11-20 | 2021 |\n",
       "| 2460 | 2020-11-21 | 3.1 | 2020-11-21 | 2021 |\n",
       "| 2461 | 2020-11-22 | 3.2 | 2020-11-22 | 2021 |\n",
       "| 2462 | 2020-11-23 | 3.1 | 2020-11-23 | 2021 |\n",
       "| 2463 | 2020-11-24 | 3.1 | 2020-11-24 | 2021 |\n",
       "\n"
      ],
      "text/plain": [
       "     datetime   stream_temperature_degC datetime2  wtr_yr\n",
       "2458 2020-11-19 3.4                     2020-11-19 2021  \n",
       "2459 2020-11-20 3.0                     2020-11-20 2021  \n",
       "2460 2020-11-21 3.1                     2020-11-21 2021  \n",
       "2461 2020-11-22 3.2                     2020-11-22 2021  \n",
       "2462 2020-11-23 3.1                     2020-11-23 2021  \n",
       "2463 2020-11-24 3.1                     2020-11-24 2021  "
      ]
     },
     "metadata": {},
     "output_type": "display_data"
    }
   ],
   "source": [
    "tail(datx)"
   ]
  },
  {
   "cell_type": "markdown",
   "metadata": {},
   "source": [
    "# ----------------------------------------------------------------------------------\n",
    "#             Calculate Statistics\n",
    "# ----------------------------------------------------------------------------------"
   ]
  },
  {
   "cell_type": "code",
   "execution_count": 85,
   "metadata": {},
   "outputs": [
    {
     "name": "stdout",
     "output_type": "stream",
     "text": [
      "[1] 1\n",
      "[1] 12442500\n",
      "[1] 2\n",
      "[1] 12447200\n",
      "[1] 3\n",
      "[1] 12447390\n",
      "[1] 4\n",
      "[1] 12450480\n",
      "[1] 5\n",
      "[1] 12462500\n"
     ]
    }
   ],
   "source": [
    "# ------------ data frame for statistics ---------\n",
    "stream_temperature_statistics_output = c()\n",
    "\n",
    "for(i in 1:nrow(USGS_sites)){\n",
    "\n",
    "    # ------------------------------------------------------------\n",
    "    #          Prepare the Data\n",
    "    # ------------------------------------------------------------\n",
    "    print(i)\n",
    "    print(USGS_sites$USGS_site_no[i])\n",
    "    site_x = USGS_sites$USGS_site_no[i]\n",
    "    # ------------------------ generate the stream tempreature -------------------\n",
    "    stream_temperature_data_x = as.numeric(as.character(all_USGS_data[[site_x]]$'stream_temperature_degC' ))\n",
    "    date_vector = all_USGS_data[[as.numeric(USGS_sites$USGS_site_no[i])]]$'datetime2'\n",
    "    \n",
    "    # ----------- clip \"NAs\" at the beginning -------\n",
    "    x =!is.na(stream_temperature_data_x)\n",
    "    x = which(x == TRUE)\n",
    "    first_not_na = min(x)\n",
    "    include_x = seq(first_not_na, length(stream_temperature_data_x))\n",
    "    stream_temperature_data_x = stream_temperature_data_x[include_x]\n",
    "    date_vector = date_vector[include_x]\n",
    "    \n",
    "    # ---------------- generate output data --------------\n",
    "    output_data_x = USGS_stream_temperature_statistics(stream_temperature_data_x, date_vector, year_to_plot)\n",
    "    sites_df = t(as.data.frame(c(USGS_sites$Site_name[i], USGS_sites$USGS_site_no[i])))\n",
    "    colnames(sites_df) = c(\"site_name\", \"site_number\")\n",
    "    output_data_x = cbind(sites_df, output_data_x)\n",
    "    rownames(output_data_x) = i\n",
    "    stream_temperature_statistics_output = rbind(stream_temperature_statistics_output, output_data_x)\n",
    "    \n",
    "}\n",
    "stream_temperature_statistics_output= as.data.frame(stream_temperature_statistics_output)\n",
    "# -------- convert numbers from character to numeric -------\n",
    "i = seq(2,ncol(stream_temperature_statistics_output))   \n",
    "stream_temperature_statistics_output[ , i] = apply(stream_temperature_statistics_output[ , i], 2,function(x) as.numeric(as.character(x))) # convert numbers to numeric"
   ]
  },
  {
   "cell_type": "code",
   "execution_count": 89,
   "metadata": {},
   "outputs": [
    {
     "data": {
      "text/html": [
       "<table>\n",
       "<caption>A data.frame: 5 × 69</caption>\n",
       "<thead>\n",
       "\t<tr><th></th><th scope=col>site_name</th><th scope=col>site_number</th><th scope=col>peak_temperature_7day_avg_year_of_interest_deg_C</th><th scope=col>average_7day_avg_peak_temperature_deg_C</th><th scope=col>PRCNT_peak_temperature_year_of_interest_deg_C</th><th scope=col>DELTA_peak_temperature_year_of_interest_deg_C</th><th scope=col>peak_temperature_day_year_of_interest</th><th scope=col>average_peak_temperature_day_of_year</th><th scope=col>DELTA_peak_temperature_day_year_of_interest</th><th scope=col>years_with_sufficient_data_for_analysis</th><th scope=col>...</th><th scope=col>Mar_mean_DELTA_temperature_year_of_interest_deg_C</th><th scope=col>Apr_mean_DELTA_temperature_year_of_interest_deg_C</th><th scope=col>May_mean_DELTA_temperature_year_of_interest_deg_C</th><th scope=col>Jun_mean_DELTA_temperature_year_of_interest_deg_C</th><th scope=col>Jul_mean_DELTA_temperature_year_of_interest_deg_C</th><th scope=col>Aug_mean_DELTA_temperature_year_of_interest_deg_C</th><th scope=col>Sep_mean_DELTA_temperature_year_of_interest_deg_C</th><th scope=col>Oct_mean_DELTA_temperature_year_of_interest_deg_C</th><th scope=col>Nov_mean_DELTA_temperature_year_of_interest_deg_C</th><th scope=col>Dec_mean_DELTA_temperature_year_of_interest_deg_C</th></tr>\n",
       "\t<tr><th></th><th scope=col>&lt;chr&gt;</th><th scope=col>&lt;dbl&gt;</th><th scope=col>&lt;dbl&gt;</th><th scope=col>&lt;dbl&gt;</th><th scope=col>&lt;dbl&gt;</th><th scope=col>&lt;dbl&gt;</th><th scope=col>&lt;dbl&gt;</th><th scope=col>&lt;dbl&gt;</th><th scope=col>&lt;dbl&gt;</th><th scope=col>&lt;dbl&gt;</th><th scope=col>...</th><th scope=col>&lt;dbl&gt;</th><th scope=col>&lt;dbl&gt;</th><th scope=col>&lt;dbl&gt;</th><th scope=col>&lt;dbl&gt;</th><th scope=col>&lt;dbl&gt;</th><th scope=col>&lt;dbl&gt;</th><th scope=col>&lt;dbl&gt;</th><th scope=col>&lt;dbl&gt;</th><th scope=col>&lt;dbl&gt;</th><th scope=col>&lt;dbl&gt;</th></tr>\n",
       "</thead>\n",
       "<tbody>\n",
       "\t<tr><th scope=row>1</th><td>SIMILKAMEEN RIVER NEAR NIGHTHAWK, WA</td><td>12442500</td><td>21.04</td><td>20.51071</td><td>102.58</td><td>0.53</td><td>216</td><td>214.50</td><td> 1.50</td><td> 6</td><td>...</td><td>NA</td><td>NA</td><td>NA</td><td>NA</td><td>NA</td><td>NA</td><td>NA</td><td>NA</td><td>NA</td><td>NA</td></tr>\n",
       "\t<tr><th scope=row>2</th><td>OKANOGAN RIVER AT MALOTT, WA        </td><td>12447200</td><td>24.70</td><td>24.25546</td><td>101.83</td><td>0.44</td><td>218</td><td>218.07</td><td>-0.07</td><td>15</td><td>...</td><td>NA</td><td>NA</td><td>NA</td><td>NA</td><td>NA</td><td>NA</td><td>NA</td><td>NA</td><td>NA</td><td>NA</td></tr>\n",
       "\t<tr><th scope=row>3</th><td>ANDREWS CREEK NEAR MAZAMA, WA       </td><td>12447390</td><td>13.40</td><td>12.77532</td><td>104.89</td><td>0.62</td><td>216</td><td>211.56</td><td> 4.44</td><td> 9</td><td>...</td><td>NA</td><td>NA</td><td>NA</td><td>NA</td><td>NA</td><td>NA</td><td>NA</td><td>NA</td><td>NA</td><td>NA</td></tr>\n",
       "\t<tr><th scope=row>4</th><td>METHOW RIVER NEAR PATEROS, WA       </td><td>12450480</td><td>21.83</td><td>20.40357</td><td>106.99</td><td>1.43</td><td>216</td><td>210.71</td><td> 5.29</td><td> 7</td><td>...</td><td>NA</td><td>NA</td><td>NA</td><td>NA</td><td>NA</td><td>NA</td><td>NA</td><td>NA</td><td>NA</td><td>NA</td></tr>\n",
       "\t<tr><th scope=row>5</th><td>WENATCHEE RIVER AT MONITOR, WA      </td><td>12462500</td><td>21.09</td><td>20.51230</td><td>102.82</td><td>0.58</td><td>235</td><td>226.50</td><td> 8.50</td><td> 4</td><td>...</td><td>NA</td><td>NA</td><td>NA</td><td>NA</td><td>NA</td><td>NA</td><td>NA</td><td>NA</td><td>NA</td><td>NA</td></tr>\n",
       "</tbody>\n",
       "</table>\n"
      ],
      "text/latex": [
       "A data.frame: 5 × 69\n",
       "\\begin{tabular}{r|lllllllllllllllllllll}\n",
       "  & site\\_name & site\\_number & peak\\_temperature\\_7day\\_avg\\_year\\_of\\_interest\\_deg\\_C & average\\_7day\\_avg\\_peak\\_temperature\\_deg\\_C & PRCNT\\_peak\\_temperature\\_year\\_of\\_interest\\_deg\\_C & DELTA\\_peak\\_temperature\\_year\\_of\\_interest\\_deg\\_C & peak\\_temperature\\_day\\_year\\_of\\_interest & average\\_peak\\_temperature\\_day\\_of\\_year & DELTA\\_peak\\_temperature\\_day\\_year\\_of\\_interest & years\\_with\\_sufficient\\_data\\_for\\_analysis & ... & Mar\\_mean\\_DELTA\\_temperature\\_year\\_of\\_interest\\_deg\\_C & Apr\\_mean\\_DELTA\\_temperature\\_year\\_of\\_interest\\_deg\\_C & May\\_mean\\_DELTA\\_temperature\\_year\\_of\\_interest\\_deg\\_C & Jun\\_mean\\_DELTA\\_temperature\\_year\\_of\\_interest\\_deg\\_C & Jul\\_mean\\_DELTA\\_temperature\\_year\\_of\\_interest\\_deg\\_C & Aug\\_mean\\_DELTA\\_temperature\\_year\\_of\\_interest\\_deg\\_C & Sep\\_mean\\_DELTA\\_temperature\\_year\\_of\\_interest\\_deg\\_C & Oct\\_mean\\_DELTA\\_temperature\\_year\\_of\\_interest\\_deg\\_C & Nov\\_mean\\_DELTA\\_temperature\\_year\\_of\\_interest\\_deg\\_C & Dec\\_mean\\_DELTA\\_temperature\\_year\\_of\\_interest\\_deg\\_C\\\\\n",
       "  & <chr> & <dbl> & <dbl> & <dbl> & <dbl> & <dbl> & <dbl> & <dbl> & <dbl> & <dbl> & ... & <dbl> & <dbl> & <dbl> & <dbl> & <dbl> & <dbl> & <dbl> & <dbl> & <dbl> & <dbl>\\\\\n",
       "\\hline\n",
       "\t1 & SIMILKAMEEN RIVER NEAR NIGHTHAWK, WA & 12442500 & 21.04 & 20.51071 & 102.58 & 0.53 & 216 & 214.50 &  1.50 &  6 & ... & NA & NA & NA & NA & NA & NA & NA & NA & NA & NA\\\\\n",
       "\t2 & OKANOGAN RIVER AT MALOTT, WA         & 12447200 & 24.70 & 24.25546 & 101.83 & 0.44 & 218 & 218.07 & -0.07 & 15 & ... & NA & NA & NA & NA & NA & NA & NA & NA & NA & NA\\\\\n",
       "\t3 & ANDREWS CREEK NEAR MAZAMA, WA        & 12447390 & 13.40 & 12.77532 & 104.89 & 0.62 & 216 & 211.56 &  4.44 &  9 & ... & NA & NA & NA & NA & NA & NA & NA & NA & NA & NA\\\\\n",
       "\t4 & METHOW RIVER NEAR PATEROS, WA        & 12450480 & 21.83 & 20.40357 & 106.99 & 1.43 & 216 & 210.71 &  5.29 &  7 & ... & NA & NA & NA & NA & NA & NA & NA & NA & NA & NA\\\\\n",
       "\t5 & WENATCHEE RIVER AT MONITOR, WA       & 12462500 & 21.09 & 20.51230 & 102.82 & 0.58 & 235 & 226.50 &  8.50 &  4 & ... & NA & NA & NA & NA & NA & NA & NA & NA & NA & NA\\\\\n",
       "\\end{tabular}\n"
      ],
      "text/markdown": [
       "\n",
       "A data.frame: 5 × 69\n",
       "\n",
       "| <!--/--> | site_name &lt;chr&gt; | site_number &lt;dbl&gt; | peak_temperature_7day_avg_year_of_interest_deg_C &lt;dbl&gt; | average_7day_avg_peak_temperature_deg_C &lt;dbl&gt; | PRCNT_peak_temperature_year_of_interest_deg_C &lt;dbl&gt; | DELTA_peak_temperature_year_of_interest_deg_C &lt;dbl&gt; | peak_temperature_day_year_of_interest &lt;dbl&gt; | average_peak_temperature_day_of_year &lt;dbl&gt; | DELTA_peak_temperature_day_year_of_interest &lt;dbl&gt; | years_with_sufficient_data_for_analysis &lt;dbl&gt; | ... ... | Mar_mean_DELTA_temperature_year_of_interest_deg_C &lt;dbl&gt; | Apr_mean_DELTA_temperature_year_of_interest_deg_C &lt;dbl&gt; | May_mean_DELTA_temperature_year_of_interest_deg_C &lt;dbl&gt; | Jun_mean_DELTA_temperature_year_of_interest_deg_C &lt;dbl&gt; | Jul_mean_DELTA_temperature_year_of_interest_deg_C &lt;dbl&gt; | Aug_mean_DELTA_temperature_year_of_interest_deg_C &lt;dbl&gt; | Sep_mean_DELTA_temperature_year_of_interest_deg_C &lt;dbl&gt; | Oct_mean_DELTA_temperature_year_of_interest_deg_C &lt;dbl&gt; | Nov_mean_DELTA_temperature_year_of_interest_deg_C &lt;dbl&gt; | Dec_mean_DELTA_temperature_year_of_interest_deg_C &lt;dbl&gt; |\n",
       "|---|---|---|---|---|---|---|---|---|---|---|---|---|---|---|---|---|---|---|---|---|---|\n",
       "| 1 | SIMILKAMEEN RIVER NEAR NIGHTHAWK, WA | 12442500 | 21.04 | 20.51071 | 102.58 | 0.53 | 216 | 214.50 |  1.50 |  6 | ... | NA | NA | NA | NA | NA | NA | NA | NA | NA | NA |\n",
       "| 2 | OKANOGAN RIVER AT MALOTT, WA         | 12447200 | 24.70 | 24.25546 | 101.83 | 0.44 | 218 | 218.07 | -0.07 | 15 | ... | NA | NA | NA | NA | NA | NA | NA | NA | NA | NA |\n",
       "| 3 | ANDREWS CREEK NEAR MAZAMA, WA        | 12447390 | 13.40 | 12.77532 | 104.89 | 0.62 | 216 | 211.56 |  4.44 |  9 | ... | NA | NA | NA | NA | NA | NA | NA | NA | NA | NA |\n",
       "| 4 | METHOW RIVER NEAR PATEROS, WA        | 12450480 | 21.83 | 20.40357 | 106.99 | 1.43 | 216 | 210.71 |  5.29 |  7 | ... | NA | NA | NA | NA | NA | NA | NA | NA | NA | NA |\n",
       "| 5 | WENATCHEE RIVER AT MONITOR, WA       | 12462500 | 21.09 | 20.51230 | 102.82 | 0.58 | 235 | 226.50 |  8.50 |  4 | ... | NA | NA | NA | NA | NA | NA | NA | NA | NA | NA |\n",
       "\n"
      ],
      "text/plain": [
       "  site_name                            site_number\n",
       "1 SIMILKAMEEN RIVER NEAR NIGHTHAWK, WA 12442500   \n",
       "2 OKANOGAN RIVER AT MALOTT, WA         12447200   \n",
       "3 ANDREWS CREEK NEAR MAZAMA, WA        12447390   \n",
       "4 METHOW RIVER NEAR PATEROS, WA        12450480   \n",
       "5 WENATCHEE RIVER AT MONITOR, WA       12462500   \n",
       "  peak_temperature_7day_avg_year_of_interest_deg_C\n",
       "1 21.04                                           \n",
       "2 24.70                                           \n",
       "3 13.40                                           \n",
       "4 21.83                                           \n",
       "5 21.09                                           \n",
       "  average_7day_avg_peak_temperature_deg_C\n",
       "1 20.51071                               \n",
       "2 24.25546                               \n",
       "3 12.77532                               \n",
       "4 20.40357                               \n",
       "5 20.51230                               \n",
       "  PRCNT_peak_temperature_year_of_interest_deg_C\n",
       "1 102.58                                       \n",
       "2 101.83                                       \n",
       "3 104.89                                       \n",
       "4 106.99                                       \n",
       "5 102.82                                       \n",
       "  DELTA_peak_temperature_year_of_interest_deg_C\n",
       "1 0.53                                         \n",
       "2 0.44                                         \n",
       "3 0.62                                         \n",
       "4 1.43                                         \n",
       "5 0.58                                         \n",
       "  peak_temperature_day_year_of_interest average_peak_temperature_day_of_year\n",
       "1 216                                   214.50                              \n",
       "2 218                                   218.07                              \n",
       "3 216                                   211.56                              \n",
       "4 216                                   210.71                              \n",
       "5 235                                   226.50                              \n",
       "  DELTA_peak_temperature_day_year_of_interest\n",
       "1  1.50                                      \n",
       "2 -0.07                                      \n",
       "3  4.44                                      \n",
       "4  5.29                                      \n",
       "5  8.50                                      \n",
       "  years_with_sufficient_data_for_analysis ...\n",
       "1  6                                      ...\n",
       "2 15                                      ...\n",
       "3  9                                      ...\n",
       "4  7                                      ...\n",
       "5  4                                      ...\n",
       "  Mar_mean_DELTA_temperature_year_of_interest_deg_C\n",
       "1 NA                                               \n",
       "2 NA                                               \n",
       "3 NA                                               \n",
       "4 NA                                               \n",
       "5 NA                                               \n",
       "  Apr_mean_DELTA_temperature_year_of_interest_deg_C\n",
       "1 NA                                               \n",
       "2 NA                                               \n",
       "3 NA                                               \n",
       "4 NA                                               \n",
       "5 NA                                               \n",
       "  May_mean_DELTA_temperature_year_of_interest_deg_C\n",
       "1 NA                                               \n",
       "2 NA                                               \n",
       "3 NA                                               \n",
       "4 NA                                               \n",
       "5 NA                                               \n",
       "  Jun_mean_DELTA_temperature_year_of_interest_deg_C\n",
       "1 NA                                               \n",
       "2 NA                                               \n",
       "3 NA                                               \n",
       "4 NA                                               \n",
       "5 NA                                               \n",
       "  Jul_mean_DELTA_temperature_year_of_interest_deg_C\n",
       "1 NA                                               \n",
       "2 NA                                               \n",
       "3 NA                                               \n",
       "4 NA                                               \n",
       "5 NA                                               \n",
       "  Aug_mean_DELTA_temperature_year_of_interest_deg_C\n",
       "1 NA                                               \n",
       "2 NA                                               \n",
       "3 NA                                               \n",
       "4 NA                                               \n",
       "5 NA                                               \n",
       "  Sep_mean_DELTA_temperature_year_of_interest_deg_C\n",
       "1 NA                                               \n",
       "2 NA                                               \n",
       "3 NA                                               \n",
       "4 NA                                               \n",
       "5 NA                                               \n",
       "  Oct_mean_DELTA_temperature_year_of_interest_deg_C\n",
       "1 NA                                               \n",
       "2 NA                                               \n",
       "3 NA                                               \n",
       "4 NA                                               \n",
       "5 NA                                               \n",
       "  Nov_mean_DELTA_temperature_year_of_interest_deg_C\n",
       "1 NA                                               \n",
       "2 NA                                               \n",
       "3 NA                                               \n",
       "4 NA                                               \n",
       "5 NA                                               \n",
       "  Dec_mean_DELTA_temperature_year_of_interest_deg_C\n",
       "1 NA                                               \n",
       "2 NA                                               \n",
       "3 NA                                               \n",
       "4 NA                                               \n",
       "5 NA                                               "
      ]
     },
     "metadata": {},
     "output_type": "display_data"
    }
   ],
   "source": [
    "stream_temperature_statistics_output"
   ]
  },
  {
   "cell_type": "markdown",
   "metadata": {},
   "source": [
    "### ----------------------------------------------------------\n",
    "###           statistics for peak temperature ABSOLUTE\n",
    "### ----------------------------------------------------------"
   ]
  },
  {
   "cell_type": "code",
   "execution_count": 86,
   "metadata": {},
   "outputs": [
    {
     "name": "stdout",
     "output_type": "stream",
     "text": [
      "[1] \"-----Maximum (deg C) -----:\"\n"
     ]
    },
    {
     "data": {
      "text/html": [
       "24.7"
      ],
      "text/latex": [
       "24.7"
      ],
      "text/markdown": [
       "24.7"
      ],
      "text/plain": [
       "[1] 24.7"
      ]
     },
     "metadata": {},
     "output_type": "display_data"
    },
    {
     "name": "stdout",
     "output_type": "stream",
     "text": [
      "[1] \"-----Mean (deg C)  -----:\"\n"
     ]
    },
    {
     "data": {
      "text/html": [
       "20.41"
      ],
      "text/latex": [
       "20.41"
      ],
      "text/markdown": [
       "20.41"
      ],
      "text/plain": [
       "[1] 20.41"
      ]
     },
     "metadata": {},
     "output_type": "display_data"
    },
    {
     "name": "stdout",
     "output_type": "stream",
     "text": [
      "[1] \"-----Minimum (deg C) -----:\"\n"
     ]
    },
    {
     "data": {
      "text/html": [
       "13.4"
      ],
      "text/latex": [
       "13.4"
      ],
      "text/markdown": [
       "13.4"
      ],
      "text/plain": [
       "[1] 13.4"
      ]
     },
     "metadata": {},
     "output_type": "display_data"
    },
    {
     "name": "stdout",
     "output_type": "stream",
     "text": [
      "[1] \"----------------------------------------------\"\n",
      "[1] \"-----Maximum (deg F) -----:\"\n"
     ]
    },
    {
     "data": {
      "text/html": [
       "76.46"
      ],
      "text/latex": [
       "76.46"
      ],
      "text/markdown": [
       "76.46"
      ],
      "text/plain": [
       "[1] 76.46"
      ]
     },
     "metadata": {},
     "output_type": "display_data"
    },
    {
     "name": "stdout",
     "output_type": "stream",
     "text": [
      "[1] \"-----Mean (deg F) -----:\"\n"
     ]
    },
    {
     "data": {
      "text/html": [
       "68.738"
      ],
      "text/latex": [
       "68.738"
      ],
      "text/markdown": [
       "68.738"
      ],
      "text/plain": [
       "[1] 68.738"
      ]
     },
     "metadata": {},
     "output_type": "display_data"
    },
    {
     "name": "stdout",
     "output_type": "stream",
     "text": [
      "[1] \"-----Minimum (deg F) -----:\"\n"
     ]
    },
    {
     "data": {
      "text/html": [
       "56.12"
      ],
      "text/latex": [
       "56.12"
      ],
      "text/markdown": [
       "56.12"
      ],
      "text/plain": [
       "[1] 56.12"
      ]
     },
     "metadata": {},
     "output_type": "display_data"
    }
   ],
   "source": [
    "print('-----Maximum (deg C) -----:')\n",
    "max(stream_temperature_statistics_output$peak_temperature_7day_avg_year_of_interest_deg_C)\n",
    "print('-----Mean (deg C)  -----:')\n",
    "round( mean(stream_temperature_statistics_output$peak_temperature_7day_avg_year_of_interest_deg_C),  2)\n",
    "print('-----Minimum (deg C) -----:')\n",
    "min(stream_temperature_statistics_output$peak_temperature_7day_avg_year_of_interest_deg_C)\n",
    "print( '----------------------------------------------')\n",
    "print('-----Maximum (deg F) -----:')\n",
    "deg_C_to_deg_F(  max(stream_temperature_statistics_output$peak_temperature_7day_avg_year_of_interest_deg_C)  )\n",
    "print('-----Mean (deg F) -----:')\n",
    "deg_C_to_deg_F(   round( mean(stream_temperature_statistics_output$peak_temperature_7day_avg_year_of_interest_deg_C),  2)   )\n",
    "print('-----Minimum (deg F) -----:')\n",
    "deg_C_to_deg_F(   min(stream_temperature_statistics_output$peak_temperature_7day_avg_year_of_interest_deg_C)   )"
   ]
  },
  {
   "cell_type": "markdown",
   "metadata": {},
   "source": [
    "### ----------------------------------------------------------\n",
    "###           statistics for peak temperature  PRCNT\n",
    "###              NOTE: PRCNT doesn't make sense becuase of scale of temperature\n",
    "### ----------------------------------------------------------"
   ]
  },
  {
   "cell_type": "code",
   "execution_count": 87,
   "metadata": {},
   "outputs": [
    {
     "name": "stdout",
     "output_type": "stream",
     "text": [
      "[1] \"-----Maximum -----:\"\n"
     ]
    },
    {
     "data": {
      "text/html": [
       "106.99"
      ],
      "text/latex": [
       "106.99"
      ],
      "text/markdown": [
       "106.99"
      ],
      "text/plain": [
       "[1] 106.99"
      ]
     },
     "metadata": {},
     "output_type": "display_data"
    },
    {
     "name": "stdout",
     "output_type": "stream",
     "text": [
      "[1] \"-----Mean -----:\"\n"
     ]
    },
    {
     "data": {
      "text/html": [
       "103.82"
      ],
      "text/latex": [
       "103.82"
      ],
      "text/markdown": [
       "103.82"
      ],
      "text/plain": [
       "[1] 103.82"
      ]
     },
     "metadata": {},
     "output_type": "display_data"
    },
    {
     "name": "stdout",
     "output_type": "stream",
     "text": [
      "[1] \"-----Minimum -----:\"\n"
     ]
    },
    {
     "data": {
      "text/html": [
       "101.83"
      ],
      "text/latex": [
       "101.83"
      ],
      "text/markdown": [
       "101.83"
      ],
      "text/plain": [
       "[1] 101.83"
      ]
     },
     "metadata": {},
     "output_type": "display_data"
    }
   ],
   "source": [
    "print('-----Maximum -----:')\n",
    "max(stream_temperature_statistics_output$PRCNT_peak_temperature_year_of_interest_deg_C)\n",
    "print('-----Mean -----:')\n",
    "round( mean(stream_temperature_statistics_output$PRCNT_peak_temperature_year_of_interest_deg_C),  2)\n",
    "print('-----Minimum -----:')\n",
    "min(stream_temperature_statistics_output$PRCNT_peak_temperature_year_of_interest_deg_C)"
   ]
  },
  {
   "cell_type": "markdown",
   "metadata": {},
   "source": [
    "### ----------------------------------------------------------\n",
    "###           statistics for peak temperature  DELTA\n",
    "### ----------------------------------------------------------"
   ]
  },
  {
   "cell_type": "code",
   "execution_count": 88,
   "metadata": {},
   "outputs": [
    {
     "name": "stdout",
     "output_type": "stream",
     "text": [
      "[1] \"-----Maximum -----:\"\n"
     ]
    },
    {
     "data": {
      "text/html": [
       "1.43"
      ],
      "text/latex": [
       "1.43"
      ],
      "text/markdown": [
       "1.43"
      ],
      "text/plain": [
       "[1] 1.43"
      ]
     },
     "metadata": {},
     "output_type": "display_data"
    },
    {
     "name": "stdout",
     "output_type": "stream",
     "text": [
      "[1] \"-----Mean -----:\"\n"
     ]
    },
    {
     "data": {
      "text/html": [
       "0.72"
      ],
      "text/latex": [
       "0.72"
      ],
      "text/markdown": [
       "0.72"
      ],
      "text/plain": [
       "[1] 0.72"
      ]
     },
     "metadata": {},
     "output_type": "display_data"
    },
    {
     "name": "stdout",
     "output_type": "stream",
     "text": [
      "[1] \"-----Minimum -----:\"\n"
     ]
    },
    {
     "data": {
      "text/html": [
       "0.44"
      ],
      "text/latex": [
       "0.44"
      ],
      "text/markdown": [
       "0.44"
      ],
      "text/plain": [
       "[1] 0.44"
      ]
     },
     "metadata": {},
     "output_type": "display_data"
    },
    {
     "name": "stdout",
     "output_type": "stream",
     "text": [
      "[1] \"----------------------------------------------\"\n",
      "[1] \"-----Maximum (deg F) -----:\"\n"
     ]
    },
    {
     "data": {
      "text/html": [
       "2.574"
      ],
      "text/latex": [
       "2.574"
      ],
      "text/markdown": [
       "2.574"
      ],
      "text/plain": [
       "[1] 2.574"
      ]
     },
     "metadata": {},
     "output_type": "display_data"
    },
    {
     "name": "stdout",
     "output_type": "stream",
     "text": [
      "[1] \"-----Mean (deg F) -----:\"\n"
     ]
    },
    {
     "data": {
      "text/html": [
       "1.296"
      ],
      "text/latex": [
       "1.296"
      ],
      "text/markdown": [
       "1.296"
      ],
      "text/plain": [
       "[1] 1.296"
      ]
     },
     "metadata": {},
     "output_type": "display_data"
    },
    {
     "name": "stdout",
     "output_type": "stream",
     "text": [
      "[1] \"-----Minimum (deg F) -----:\"\n"
     ]
    },
    {
     "data": {
      "text/html": [
       "0.792000000000002"
      ],
      "text/latex": [
       "0.792000000000002"
      ],
      "text/markdown": [
       "0.792000000000002"
      ],
      "text/plain": [
       "[1] 0.792"
      ]
     },
     "metadata": {},
     "output_type": "display_data"
    }
   ],
   "source": [
    "print('-----Maximum -----:')\n",
    "max(stream_temperature_statistics_output$DELTA_peak_temperature_year_of_interest_deg_C)\n",
    "print('-----Mean -----:')\n",
    "round( mean(stream_temperature_statistics_output$DELTA_peak_temperature_year_of_interest_deg_C),  2)\n",
    "print('-----Minimum -----:')\n",
    "min(stream_temperature_statistics_output$DELTA_peak_temperature_year_of_interest_deg_C)\n",
    "print( '----------------------------------------------')\n",
    "print('-----Maximum (deg F) -----:')\n",
    "deg_C_to_deg_F(  max(stream_temperature_statistics_output$DELTA_peak_temperature_year_of_interest_deg_C)  ) - 32\n",
    "print('-----Mean (deg F) -----:')\n",
    "deg_C_to_deg_F(   round( mean(stream_temperature_statistics_output$DELTA_peak_temperature_year_of_interest_deg_C),  2)   ) - 32\n",
    "print('-----Minimum (deg F) -----:')\n",
    "deg_C_to_deg_F(   min(stream_temperature_statistics_output$DELTA_peak_temperature_year_of_interest_deg_C)   ) - 32"
   ]
  },
  {
   "cell_type": "markdown",
   "metadata": {},
   "source": [
    "### ----------------------------------------------------------\n",
    "###          Print all sites for peak temperature\n",
    "### ----------------------------------------------------------"
   ]
  },
  {
   "cell_type": "code",
   "execution_count": null,
   "metadata": {},
   "outputs": [],
   "source": [
    "stream_temperature_statistics_output[,c('site_name', 'peak_temperature_7day_avg_year_of_interest_deg_C',\n",
    "                                        'DELTA_peak_temperature_year_of_interest_deg_C',\n",
    "                                       'peak_temperature_day_year_of_interest','DELTA_peak_temperature_day_year_of_interest')]\n"
   ]
  },
  {
   "cell_type": "code",
   "execution_count": null,
   "metadata": {},
   "outputs": [],
   "source": [
    "deg_C_to_deg_F(24.30)"
   ]
  },
  {
   "cell_type": "markdown",
   "metadata": {},
   "source": [
    "### ----------------------------------------------------------\n",
    "###           statistics for number of years with sufficient data to analyze\n",
    "### ----------------------------------------------------------"
   ]
  },
  {
   "cell_type": "code",
   "execution_count": null,
   "metadata": {},
   "outputs": [],
   "source": [
    "print('-----Maximum -----:')\n",
    "max(stream_temperature_statistics_output$years_with_sufficient_data_for_analysis)\n",
    "print('-----Mean -----:')\n",
    "round( mean(stream_temperature_statistics_output$years_with_sufficient_data_for_analysis),  2)\n",
    "print('-----Minimum -----:')\n",
    "min(stream_temperature_statistics_output$years_with_sufficient_data_for_analysis)"
   ]
  },
  {
   "cell_type": "markdown",
   "metadata": {},
   "source": [
    "### ----------------------------------------------------------\n",
    "###           statistics for peak temperature DAY for year of interest\n",
    "### ----------------------------------------------------------"
   ]
  },
  {
   "cell_type": "code",
   "execution_count": null,
   "metadata": {},
   "outputs": [],
   "source": [
    "print('-----Maximum -----:')\n",
    "max(stream_temperature_statistics_output$peak_temperature_day_year_of_interest)\n",
    "as.Date(paste(max(stream_temperature_statistics_output$peak_temperature_day_year_of_interest), year_to_plot, sep=\"-\" ),format='%j-%Y')\n",
    "print('-----Mean -----:')\n",
    "round( mean(stream_temperature_statistics_output$peak_temperature_day_year_of_interest),  1)\n",
    "as.Date(paste(round( mean(stream_temperature_statistics_output$peak_temperature_day_year_of_interest),  0), year_to_plot, sep=\"-\" ),format='%j-%Y')\n",
    "\n",
    "print('-----Minimum -----:')\n",
    "min(stream_temperature_statistics_output$peak_temperature_day_year_of_interest)\n",
    "as.Date(paste(min(stream_temperature_statistics_output$peak_temperature_day_year_of_interest), year_to_plot, sep=\"-\" ),format='%j-%Y')\n"
   ]
  },
  {
   "cell_type": "markdown",
   "metadata": {},
   "source": [
    "### ----------------------------------------------------------\n",
    "###           statistics for peak temperature DAY DELTA\n",
    "### ----------------------------------------------------------"
   ]
  },
  {
   "cell_type": "code",
   "execution_count": null,
   "metadata": {},
   "outputs": [],
   "source": [
    "print('-----Maximum -----:')\n",
    "max(stream_temperature_statistics_output$DELTA_peak_temperature_day_year_of_interest)\n",
    "print('-----Mean -----:')\n",
    "round( mean(stream_temperature_statistics_output$DELTA_peak_temperature_day_year_of_interest),  2)\n",
    "print('-----Minimum -----:')\n",
    "min(stream_temperature_statistics_output$DELTA_peak_temperature_day_year_of_interest)"
   ]
  },
  {
   "cell_type": "markdown",
   "metadata": {},
   "source": [
    "### ----------------------------------------------------------\n",
    "###           statistics for peak temperature July year of interest\n",
    "### ----------------------------------------------------------"
   ]
  },
  {
   "cell_type": "code",
   "execution_count": null,
   "metadata": {},
   "outputs": [],
   "source": [
    "print('-----Maximum -----:')\n",
    "max(stream_temperature_statistics_output$Jul_mean_temperature_year_of_interest_deg_C)\n",
    "print('-----Mean -----:')\n",
    "round( mean(stream_temperature_statistics_output$Jul_mean_temperature_year_of_interest_deg_C),  2)\n",
    "print('-----Minimum -----:')\n",
    "min(stream_temperature_statistics_output$Jul_mean_temperature_year_of_interest_deg_C)\n",
    "\n",
    "print( '----------------------------------------------')\n",
    "print('-----Maximum (deg F) -----:')\n",
    "deg_C_to_deg_F(  max(stream_temperature_statistics_output$DELTA_peak_temperature_year_of_interest_deg_C)  ) \n",
    "print('-----Mean (deg F) -----:')\n",
    "deg_C_to_deg_F(   round( mean(stream_temperature_statistics_output$DELTA_peak_temperature_year_of_interest_deg_C),  2)   )\n",
    "print('-----Minimum (deg F) -----:')\n",
    "deg_C_to_deg_F(   min(stream_temperature_statistics_output$DELTA_peak_temperature_year_of_interest_deg_C)   ) "
   ]
  },
  {
   "cell_type": "markdown",
   "metadata": {},
   "source": [
    "### ----------------------------------------------------------\n",
    "###           statistics for peak temperature July DELTA\n",
    "### ----------------------------------------------------------"
   ]
  },
  {
   "cell_type": "code",
   "execution_count": null,
   "metadata": {},
   "outputs": [],
   "source": [
    "print('-----Maximum -----:')\n",
    "max(stream_temperature_statistics_output$Jul_mean_DELTA_temperature_year_of_interest_deg_C)\n",
    "print('-----Mean -----:')\n",
    "round( mean(stream_temperature_statistics_output$Jul_mean_DELTA_temperature_year_of_interest_deg_C),  2)\n",
    "print('-----Minimum -----:')\n",
    "min(stream_temperature_statistics_output$Jul_mean_DELTA_temperature_year_of_interest_deg_C)\n",
    "print( '----------------------------------------------')\n",
    "print('-----Maximum (deg F) -----:')\n",
    "deg_C_to_deg_F(  max(stream_temperature_statistics_output$Jul_mean_DELTA_temperature_year_of_interest_deg_C)  ) - 32\n",
    "print('-----Mean (deg F) -----:')\n",
    "deg_C_to_deg_F(   round( mean(stream_temperature_statistics_output$Jul_mean_DELTA_temperature_year_of_interest_deg_C),  2)   ) - 32\n",
    "print('-----Minimum (deg F) -----:')\n",
    "deg_C_to_deg_F(   min(stream_temperature_statistics_output$Jul_mean_DELTA_temperature_year_of_interest_deg_C)   ) - 32"
   ]
  },
  {
   "cell_type": "markdown",
   "metadata": {},
   "source": [
    "### ----------------------------------------------------------\n",
    "###           statistics for peak temperature August year of interest\n",
    "### ----------------------------------------------------------"
   ]
  },
  {
   "cell_type": "code",
   "execution_count": null,
   "metadata": {},
   "outputs": [],
   "source": [
    "print('-----Maximum -----:')\n",
    "max(stream_temperature_statistics_output$Aug_mean_temperature_year_of_interest_deg_C)\n",
    "print('-----Mean -----:')\n",
    "round( mean(stream_temperature_statistics_output$Aug_mean_temperature_year_of_interest_deg_C),  2)\n",
    "print('-----Minimum -----:')\n",
    "min(stream_temperature_statistics_output$Aug_mean_temperature_year_of_interest_deg_C)\n",
    "\n",
    "print( '----------------------------------------------')\n",
    "print('-----Maximum (deg F) -----:')\n",
    "deg_C_to_deg_F(  max(stream_temperature_statistics_output$Aug_mean_temperature_year_of_interest_deg_C)  ) \n",
    "print('-----Mean (deg F) -----:')\n",
    "deg_C_to_deg_F(   round( mean(stream_temperature_statistics_output$Aug_mean_temperature_year_of_interest_deg_C),  2)   )\n",
    "print('-----Minimum (deg F) -----:')\n",
    "deg_C_to_deg_F(   min(stream_temperature_statistics_output$Aug_mean_temperature_year_of_interest_deg_C)   ) "
   ]
  },
  {
   "cell_type": "markdown",
   "metadata": {},
   "source": [
    "### ----------------------------------------------------------\n",
    "###          statistics for peak temperature August DELTA\n",
    "### ----------------------------------------------------------"
   ]
  },
  {
   "cell_type": "code",
   "execution_count": null,
   "metadata": {},
   "outputs": [],
   "source": [
    "print('-----Maximum -----:')\n",
    "max(stream_temperature_statistics_output$Aug_mean_DELTA_temperature_year_of_interest_deg_C)\n",
    "print('-----Mean -----:')\n",
    "round( mean(stream_temperature_statistics_output$Aug_mean_DELTA_temperature_year_of_interest_deg_C),  2)\n",
    "print('-----Minimum -----:')\n",
    "min(stream_temperature_statistics_output$Aug_mean_DELTA_temperature_year_of_interest_deg_C)\n",
    "print( '----------------------------------------------')\n",
    "print('-----Maximum (deg F) -----:')\n",
    "deg_C_to_deg_F(  max(stream_temperature_statistics_output$Aug_mean_DELTA_temperature_year_of_interest_deg_C)  ) - 32\n",
    "print('-----Mean (deg F) -----:')\n",
    "deg_C_to_deg_F(   round( mean(stream_temperature_statistics_output$Aug_mean_DELTA_temperature_year_of_interest_deg_C),  2)   ) - 32\n",
    "print('-----Minimum (deg F) -----:')\n",
    "deg_C_to_deg_F(   min(stream_temperature_statistics_output$Aug_mean_DELTA_temperature_year_of_interest_deg_C)   ) - 32"
   ]
  },
  {
   "cell_type": "markdown",
   "metadata": {},
   "source": [
    "### ----------------------------------------------------------\n",
    "###           statistics for peak temperature September year of interest\n",
    "### ----------------------------------------------------------"
   ]
  },
  {
   "cell_type": "code",
   "execution_count": null,
   "metadata": {},
   "outputs": [],
   "source": [
    "print('-----Maximum -----:')\n",
    "max(stream_temperature_statistics_output$Sep_mean_temperature_year_of_interest_deg_C)\n",
    "print('-----Mean -----:')\n",
    "round( mean(stream_temperature_statistics_output$Sep_mean_temperature_year_of_interest_deg_C),  2)\n",
    "print('-----Minimum -----:')\n",
    "min(stream_temperature_statistics_output$Sep_mean_temperature_year_of_interest_deg_C)\n",
    "\n",
    "print( '----------------------------------------------')\n",
    "print('-----Maximum (deg F) -----:')\n",
    "deg_C_to_deg_F(  max(stream_temperature_statistics_output$Sep_mean_temperature_year_of_interest_deg_C)  ) \n",
    "print('-----Mean (deg F) -----:')\n",
    "deg_C_to_deg_F(   round( mean(stream_temperature_statistics_output$Sep_mean_temperature_year_of_interest_deg_C),  2)   )\n",
    "print('-----Minimum (deg F) -----:')\n",
    "deg_C_to_deg_F(   min(stream_temperature_statistics_output$Sep_mean_temperature_year_of_interest_deg_C)   ) "
   ]
  },
  {
   "cell_type": "markdown",
   "metadata": {},
   "source": [
    "### ----------------------------------------------------------\n",
    "###           statistics for peak temperature September DELTA\n",
    "### ----------------------------------------------------------"
   ]
  },
  {
   "cell_type": "code",
   "execution_count": null,
   "metadata": {},
   "outputs": [],
   "source": [
    "print('-----Maximum -----:')\n",
    "max(stream_temperature_statistics_output$Sep_mean_DELTA_temperature_year_of_interest_deg_C)\n",
    "print('-----Mean -----:')\n",
    "round( mean(stream_temperature_statistics_output$Sep_mean_DELTA_temperature_year_of_interest_deg_C),  2)\n",
    "print('-----Minimum -----:')\n",
    "min(stream_temperature_statistics_output$Sep_mean_DELTA_temperature_year_of_interest_deg_C)\n",
    "print( '----------------------------------------------')\n",
    "print('-----Maximum (deg F) -----:')\n",
    "deg_C_to_deg_F(  max(stream_temperature_statistics_output$Sep_mean_DELTA_temperature_year_of_interest_deg_C)  ) - 32\n",
    "print('-----Mean (deg F) -----:')\n",
    "deg_C_to_deg_F(   round( mean(stream_temperature_statistics_output$Sep_mean_DELTA_temperature_year_of_interest_deg_C),  2)   ) - 32\n",
    "print('-----Minimum (deg F) -----:')\n",
    "deg_C_to_deg_F(   min(stream_temperature_statistics_output$Sep_mean_DELTA_temperature_year_of_interest_deg_C)   ) - 32"
   ]
  },
  {
   "cell_type": "markdown",
   "metadata": {},
   "source": [
    "# ----------------------------------------------------------\n",
    "#           PLOT\n",
    "# ----------------------------------------------------------"
   ]
  },
  {
   "cell_type": "code",
   "execution_count": null,
   "metadata": {},
   "outputs": [],
   "source": [
    "# options(repr.plot.width=2, repr.plot.height=4)\n",
    "\n",
    "# Opening the graphical device\n",
    "pdf(path_output, width = 7, height = 9)\n",
    "\n",
    "\n",
    "par(mfrow=c(4, 2), oma=c(0.5, 0.8, 0, 0.8), mar=c(3.5, 5, 3, 0.5),  xpd=FALSE)\n",
    "\n",
    "for(i in 1:nrow(USGS_sites)){\n",
    "\n",
    "    \n",
    "    # ------------------------------------------------------------\n",
    "    #        put blank plot in Entiat (since only one)\n",
    "    # ------------------------------------------------------------\n",
    "\n",
    "    if( i == 1){\n",
    "        plot.new()\n",
    "        par(xpd=TRUE)\n",
    "        plot.new()\n",
    "        legend(\"bottomright\", inset=c(0,-0.2), legend=c(\"median stream T\",   paste(\"stream T in\", year_to_plot, sep=\" \"), \"stream T = 65 deg F\" ), \n",
    "        lty=c(1, 1, 2), title=\"Legend\", col=c(\"black\",\"blue\", \"red\"), lwd=c(2.1, 1.4, 1.2), seg.len = 3, cex=1.4)\n",
    "        \n",
    "    }\n",
    "    par(xpd=FALSE)\n",
    "    \n",
    "    # ------------------------------------------------------------\n",
    "    #          Prepare the Data\n",
    "    # ------------------------------------------------------------\n",
    "    print(i)\n",
    "    print(USGS_sites$USGS_site_no[i])\n",
    "    # ------------------------ generate the median snotel -------------------\n",
    "    stream_temperature_data_x = as.numeric(as.character(all_USGS_data[[as.numeric(USGS_sites$USGS_site_no[i])]]$'stream_temperature_degC' ))\n",
    "    date_vector = all_USGS_data[[as.numeric(USGS_sites$USGS_site_no[i])]]$'datetime'\n",
    "    date_vector = as.POSIXct(date_vector, format=\"%Y-%m-%d\") #  convert to date time \n",
    "    \n",
    "    # ------------------------ generate the median snotel -------------------\n",
    "    median_stream_temperature_data_x = median_stream_temperature_function(stream_temperature_data_x, date_vector, year_to_plot)\n",
    "\n",
    "    # --------------- convert to deg F -----------------\n",
    "    stream_temperature_data_x = deg_C_to_deg_F(stream_temperature_data_x)\n",
    "    median_stream_temperature_data_x$metric = deg_C_to_deg_F(median_stream_temperature_data_x$metric )\n",
    "    \n",
    "    # ------------------------------------------------------------\n",
    "    #         Plot the Data\n",
    "    # ------------------------------------------------------------\n",
    "    max_ylim = max(median_stream_temperature_data_x$metric, na.rm=T) \n",
    "    max_ylim = max_ylim + max_ylim*0.1\n",
    "    max_ylim = 77 # just over-ride and set to 75\n",
    "    \n",
    "    #xlim_min = as.Date(paste('10-01-',year_to_plot-1, sep=\"\"), format = '%m-%d-%Y')\n",
    "    #xlim_max = as.Date(paste('09-30-',year_to_plot, sep=\"\"), format = '%m-%d-%Y')\n",
    "\n",
    "    plot(median_stream_temperature_data_x$day_of_hydro_year[order(median_stream_temperature_data_x$day_of_hydro_year)],\n",
    "         median_stream_temperature_data_x$metric[order(median_stream_temperature_data_x$day_of_hydro_year)] , \n",
    "         type='l', col='black', lwd=2,\n",
    "        xlab=' ',ylab='stream temperature  \\n (deg F)', ylim=c(31, max_ylim), \n",
    "        xlim=c(min(median_stream_temperature_data_x$day_of_hydro_year) + 86400 * 2 , max(median_stream_temperature_data_x$day_of_hydro_year)  - 86400 * 2 ) )\n",
    "    grid(lwd=1.5)\n",
    "    abline(h=64.4, lwd=1.2, col='red', lty=2) # water temperatures above 18 deg C can be harmful to salmon\n",
    "    lines(median_stream_temperature_data_x$day_of_hydro_year[order(median_stream_temperature_data_x$day_of_hydro_year)],\n",
    "         median_stream_temperature_data_x$metric[order(median_stream_temperature_data_x$day_of_hydro_year)], col='black',lwd=2.2)\n",
    "    \n",
    "    mtext(USGS_sites$Site_name[i], side=3, line=0.3, font=2, cex=0.95)\n",
    "    \n",
    "    lines(date_vector, stream_temperature_data_x, lwd=1.4, col='blue', lty=1)\n",
    "\n",
    "    # ------------------------------------------------------------\n",
    "    #      Insert title\n",
    "    # ------------------------------------------------------------\n",
    "    \n",
    "    if(i == 1){\n",
    "        \n",
    "        year_span = paste(year_to_plot-1,year_to_plot,sep=\" - Dec \")\n",
    "        mtext( paste(\"                    Stream Temperature in Upper Columbia \\n from Jan - Dec \",year_to_plot, sep=\"\") , side=3, line=9, cex=1.7, font=4)\n",
    "        \n",
    "    }\n",
    "    \n",
    "    # ------------------------------------------------------------\n",
    "    #      Insert legend\n",
    "    # ------------------------------------------------------------\n",
    "    \n",
    "    \n",
    "    if(i ==2){\n",
    "        \n",
    "        #legend(\"topright\", inset=c(0,-0.3), legend=c(\"median stream temp\", paste(\"stream temp in\", year_to_plot, sep=\" \") ), \n",
    "        #       lty=c(1, 2), title=\"Legend\", col=c(\"black\",\"blue\"), lwd=c(2, 2.5))\n",
    "        \n",
    "    }\n",
    "    \n",
    "    # ------------------------------------------------------------\n",
    "    #      Add Watershed Name\n",
    "    # ------------------------------------------------------------\n",
    "    \n",
    "    if(i == 1){\n",
    "        # mtext('                                                 Okanogan', side=3, line=1.5, font=2, cex=1.6)\n",
    "        mtext('                                              - - - - - - Okanogan - - - - - - ', side=3, line=1.5, font=2, cex=1.6)\n",
    "\n",
    "    }else if(i == 3){\n",
    "        #mtext('                                                 Methow', side=3, line=1.5, font=2, cex=1.6)\n",
    "        mtext('                                              - - - - - - Methow - - - - - - ', side=3, line=1.5, font=2, cex=1.6)\n",
    "    }else if(i == 5){\n",
    "        #mtext('                                                 Wenatchee', side=3, line=1.5, font=2, cex=1.6)\n",
    "        mtext('                                             - - - - - - Wenatchee - - - - - - ', side=3, line=1.5, font=2, cex=1.6)\n",
    "    }\n",
    "        \n",
    " \n",
    "}\n",
    "\n",
    "\n",
    "\n",
    "\n",
    "# Closing the graphical device\n",
    "dev.off()\n"
   ]
  },
  {
   "cell_type": "code",
   "execution_count": null,
   "metadata": {},
   "outputs": [],
   "source": [
    "# options(repr.plot.width=2, repr.plot.height=4)\n",
    "\n",
    "\n",
    "par(mfrow=c(4, 2), oma=c(0.5, 0.8, 0, 0.8), mar=c(3.5, 5, 3, 0.5),  xpd=FALSE)\n",
    "\n",
    "for(i in 1:nrow(USGS_sites)){\n",
    "\n",
    "    \n",
    "    # ------------------------------------------------------------\n",
    "    #        put blank plot in Entiat (since only one)\n",
    "    # ------------------------------------------------------------\n",
    "\n",
    "    if( i == 1){\n",
    "        plot.new()\n",
    "        par(xpd=TRUE)\n",
    "        plot.new()\n",
    "        legend(\"bottomright\", inset=c(0,-0.2), legend=c(\"median stream T\",   paste(\"stream T in\", year_to_plot, sep=\" \"), \"stream T = 65 deg F\" ), \n",
    "        lty=c(1, 1, 2), title=\"Legend\", col=c(\"black\",\"blue\", \"red\"), lwd=c(2.1, 1.4, 1.2), seg.len = 3, cex=1.4)\n",
    "        \n",
    "    }\n",
    "    par(xpd=FALSE)\n",
    "    \n",
    "    # ------------------------------------------------------------\n",
    "    #          Prepare the Data\n",
    "    # ------------------------------------------------------------\n",
    "    print(i)\n",
    "    print(USGS_sites$USGS_site_no[i])\n",
    "    # ------------------------ generate the median snotel -------------------\n",
    "    stream_temperature_data_x = as.numeric(as.character(all_USGS_data[[as.numeric(USGS_sites$USGS_site_no[i])]]$'stream_temperature_degC' ))\n",
    "    date_vector = all_USGS_data[[as.numeric(USGS_sites$USGS_site_no[i])]]$'datetime'\n",
    "    date_vector = as.POSIXct(date_vector, format=\"%Y-%m-%d\") #  convert to date time \n",
    "    \n",
    "    # ------------------------ generate the median snotel -------------------\n",
    "    median_stream_temperature_data_x = median_stream_temperature_function(stream_temperature_data_x, date_vector, year_to_plot)\n",
    "\n",
    "    # --------------- convert to deg F -----------------\n",
    "    stream_temperature_data_x = deg_C_to_deg_F(stream_temperature_data_x)\n",
    "    median_stream_temperature_data_x$metric = deg_C_to_deg_F(median_stream_temperature_data_x$metric )\n",
    "    \n",
    "    # ------------------------------------------------------------\n",
    "    #         Plot the Data\n",
    "    # ------------------------------------------------------------\n",
    "    max_ylim = max(median_stream_temperature_data_x$metric, na.rm=T) \n",
    "    max_ylim = max_ylim + max_ylim*0.1\n",
    "    max_ylim = 77 # just over-ride and set to 75\n",
    "    \n",
    "    #xlim_min = as.Date(paste('10-01-',year_to_plot-1, sep=\"\"), format = '%m-%d-%Y')\n",
    "    #xlim_max = as.Date(paste('09-30-',year_to_plot, sep=\"\"), format = '%m-%d-%Y')\n",
    "\n",
    "    plot(median_stream_temperature_data_x$day_of_hydro_year[order(median_stream_temperature_data_x$day_of_hydro_year)],\n",
    "         median_stream_temperature_data_x$metric[order(median_stream_temperature_data_x$day_of_hydro_year)] , \n",
    "         type='l', col='black', lwd=2,\n",
    "        xlab=' ',ylab='stream temperature  \\n (deg F)', ylim=c(31, max_ylim), \n",
    "        xlim=c(min(median_stream_temperature_data_x$day_of_hydro_year) + 86400 * 2 , max(median_stream_temperature_data_x$day_of_hydro_year)  - 86400 * 2 ) )\n",
    "    grid(lwd=1.5)\n",
    "    abline(h=64.4, lwd=1.2, col='red', lty=2) # water temperatures above 18 deg C can be harmful to salmon\n",
    "    lines(median_stream_temperature_data_x$day_of_hydro_year[order(median_stream_temperature_data_x$day_of_hydro_year)],\n",
    "         median_stream_temperature_data_x$metric[order(median_stream_temperature_data_x$day_of_hydro_year)], col='black',lwd=2.2)\n",
    "    \n",
    "    mtext(USGS_sites$Site_name[i], side=3, line=0.3, font=2, cex=0.95)\n",
    "    \n",
    "    lines(date_vector, stream_temperature_data_x, lwd=1.4, col='blue', lty=1)\n",
    "\n",
    "    # ------------------------------------------------------------\n",
    "    #      Insert title\n",
    "    # ------------------------------------------------------------\n",
    "    \n",
    "    if(i == 1){\n",
    "        \n",
    "        year_span = paste(year_to_plot-1,year_to_plot,sep=\" - Dec \")\n",
    "        mtext( paste(\"                    Stream Temperature in Upper Columbia \\n from Jan - Dec 2019 \", sep=\"\") , side=3, line=9, cex=1.7, font=4)\n",
    "        \n",
    "    }\n",
    "    \n",
    "    # ------------------------------------------------------------\n",
    "    #      Insert legend\n",
    "    # ------------------------------------------------------------\n",
    "    \n",
    "    \n",
    "    if(i ==2){\n",
    "        \n",
    "        #legend(\"topright\", inset=c(0,-0.3), legend=c(\"median stream temp\", paste(\"stream temp in\", year_to_plot, sep=\" \") ), \n",
    "        #       lty=c(1, 2), title=\"Legend\", col=c(\"black\",\"blue\"), lwd=c(2, 2.5))\n",
    "        \n",
    "    }\n",
    "    \n",
    "    # ------------------------------------------------------------\n",
    "    #      Add Watershed Name\n",
    "    # ------------------------------------------------------------\n",
    "    \n",
    "    if(i == 1){\n",
    "        # mtext('                                                 Okanogan', side=3, line=1.5, font=2, cex=1.6)\n",
    "        mtext('                                              - - - - - - Okanogan - - - - - - ', side=3, line=1.5, font=2, cex=1.6)\n",
    "\n",
    "    }else if(i == 3){\n",
    "        #mtext('                                                 Methow', side=3, line=1.5, font=2, cex=1.6)\n",
    "        mtext('                                              - - - - - - Methow - - - - - - ', side=3, line=1.5, font=2, cex=1.6)\n",
    "    }else if(i == 5){\n",
    "        #mtext('                                                 Wenatchee', side=3, line=1.5, font=2, cex=1.6)\n",
    "        mtext('                                             - - - - - - Wenatchee - - - - - - ', side=3, line=1.5, font=2, cex=1.6)\n",
    "    }\n",
    "        \n",
    " \n",
    "}\n",
    "\n",
    "\n"
   ]
  },
  {
   "cell_type": "code",
   "execution_count": null,
   "metadata": {},
   "outputs": [],
   "source": [
    "deg_C_to_deg_F(18)"
   ]
  },
  {
   "cell_type": "code",
   "execution_count": null,
   "metadata": {},
   "outputs": [],
   "source": []
  },
  {
   "cell_type": "code",
   "execution_count": null,
   "metadata": {},
   "outputs": [],
   "source": []
  }
 ],
 "metadata": {
  "kernelspec": {
   "display_name": "R",
   "language": "R",
   "name": "ir"
  },
  "language_info": {
   "codemirror_mode": "r",
   "file_extension": ".r",
   "mimetype": "text/x-r-source",
   "name": "R",
   "pygments_lexer": "r",
   "version": "4.0.2"
  }
 },
 "nbformat": 4,
 "nbformat_minor": 4
}
